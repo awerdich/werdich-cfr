{
 "cells": [
  {
   "cell_type": "code",
   "execution_count": 61,
   "metadata": {},
   "outputs": [],
   "source": [
    "import os\n",
    "import pickle\n",
    "import glob\n",
    "import numpy as np\n",
    "import pandas as pd\n",
    "\n",
    "pd.set_option('display.max_rows', 1000)\n",
    "pd.set_option('display.max_columns', 100)\n",
    "pd.set_option('display.width', 2000)"
   ]
  },
  {
   "cell_type": "code",
   "execution_count": 2,
   "metadata": {},
   "outputs": [
    {
     "name": "stdout",
     "output_type": "stream",
     "text": [
      "/mnt/obi0/andreas/data/cfr/metadata_200519\n"
     ]
    }
   ],
   "source": [
    "cfr_data_root = os.path.normpath('/mnt/obi0/andreas/data/cfr')\n",
    "cfr_meta_date = '200519'\n",
    "meta_dir = os.path.join(cfr_data_root, 'metadata_'+cfr_meta_date)\n",
    "print(meta_dir)"
   ]
  },
  {
   "cell_type": "code",
   "execution_count": 6,
   "metadata": {},
   "outputs": [
    {
     "name": "stdout",
     "output_type": "stream",
     "text": [
      "After combining with metadata (data containes echos with failed conversions):\n",
      "Unique PET studies with metadata: 3590\n",
      "Unique patients with metadata:    3257\n",
      "Echo studies with metadata:       6443\n"
     ]
    }
   ],
   "source": [
    "metadata_matched_file = 'pet_match365_diff_files_200519.parquet'\n",
    "pet_echo_meta = pd.read_parquet(os.path.join(meta_dir, metadata_matched_file))\n",
    "print(f'After combining with metadata (data containes echos with failed conversions):')\n",
    "print(f'Unique PET studies with metadata: {len(pet_echo_meta.petmrn_identifier.unique())}')\n",
    "print(f'Unique patients with metadata:    {len(pet_echo_meta.mrn.unique())}')\n",
    "print(f'Echo studies with metadata:       {len(pet_echo_meta.study.unique())}')"
   ]
  },
  {
   "cell_type": "code",
   "execution_count": 12,
   "metadata": {},
   "outputs": [
    {
     "name": "stdout",
     "output_type": "stream",
     "text": [
      "Echo studies that failed conversions: 172\n",
      "Patients with failed conversions:     140\n",
      "Patients and studies with meta data:\n",
      "Unique PET studies: 3567\n",
      "Unique patients:    3246\n",
      "Echo studies:       6271\n"
     ]
    }
   ],
   "source": [
    "# REMOVING STUDIES THAT FAILED CONVERSION\n",
    "failed_conversions_file = 'pet_match365_failed_conversions.parquet'\n",
    "pet_echo_meta_failed = pet_echo_meta.loc[pet_echo_meta.frame_time.isnull()]\n",
    "print(f'Echo studies that failed conversions: {len(pet_echo_meta_failed.study.unique())}')\n",
    "print(f'Patients with failed conversions:     {len(pet_echo_meta_failed.mrn.unique())}')\n",
    "pet_echo_meta_failed.to_parquet(os.path.join(meta_dir, failed_conversions_file))\n",
    "\n",
    "pet_echo_meta_failed.head()\n",
    "\n",
    "pet_echo_meta_non_failed = pet_echo_meta.loc[~pet_echo_meta.frame_time.isnull()]\n",
    "print('Patients and studies with meta data:')\n",
    "print(f'Unique PET studies: {len(pet_echo_meta_non_failed.petmrn_identifier.unique())}')\n",
    "print(f'Unique patients:    {len(pet_echo_meta_non_failed.mrn.unique())}')\n",
    "print(f'Echo studies:       {len(pet_echo_meta_non_failed.study.unique())}')"
   ]
  },
  {
   "cell_type": "code",
   "execution_count": 57,
   "metadata": {},
   "outputs": [
    {
     "name": "stdout",
     "output_type": "stream",
     "text": [
      "Unique PET studies: 2670\n",
      "Unique patients:    2562\n",
      "Echo studies:       4348\n",
      "\n",
      "Removed PET studies after making specific data set: 897\n",
      "Removed PET studies corresponded to 721 patients.\n"
     ]
    }
   ],
   "source": [
    "# After splitting the patients in train, validate and test sets.\n",
    "dataset_filename = 'global_pet_echo_dataset_'+cfr_meta_date+'.parquet'\n",
    "df_global_dataset = pd.read_parquet(os.path.join(meta_dir, dataset_filename))\n",
    "\n",
    "# We want to remove the studies that failed video conversion\n",
    "df_global_dataset = df_global_dataset.loc[~df_global_dataset.frame_time.isnull()]\n",
    "\n",
    "print(f'Unique PET studies: {len(df_global_dataset.petmrn_identifier.unique())}')\n",
    "print(f'Unique patients:    {len(df_global_dataset.mrn.unique())}')\n",
    "print(f'Echo studies:       {len(df_global_dataset.study.unique())}')\n",
    "\n",
    "# Data that were sorted out by making the global data set\n",
    "lost_PET = set(pet_echo_meta_non_failed.petmrn_identifier.unique()).\\\n",
    "            difference(set(df_global_dataset.petmrn_identifier.unique()))\n",
    "lost_PET_list = list(lost_PET)\n",
    "\n",
    "lost_mrn = pet_echo_meta_non_failed.loc[pet_echo_meta_non_failed.petmrn_identifier.isin(lost_PET_list)].\\\n",
    "            mrn.unique()\n",
    "lost_mrn_list = list(lost_mrn)\n",
    "\n",
    "print()\n",
    "print(f'Removed PET studies after making specific data set: {len(lost_PET)}')\n",
    "print(f'Removed PET studies corresponded to {len(lost_mrn_list)} patients.')"
   ]
  },
  {
   "cell_type": "code",
   "execution_count": 94,
   "metadata": {},
   "outputs": [
    {
     "name": "stdout",
     "output_type": "stream",
     "text": [
      "\n",
      "Echo studies without a4c view: 523\n",
      "Patients from these studies without a4c view: 448\n",
      "\n",
      "PET studies with a4c views: 2496\n",
      "patients with a4c views:    2402\n",
      "Studies with a4c views:     3825\n",
      "Video files with a4c views: 11536\n",
      "\n",
      "Data set: train\n",
      "Number of patients in train: 1876\n",
      "PET studies in train:        1945\n",
      "ECHO studies in train:       2966\n",
      "A4C videos in train:         9027\n",
      "\n",
      "Data set: eval\n",
      "Number of patients in eval: 206\n",
      "PET studies in eval:        220\n",
      "ECHO studies in eval:       327\n",
      "A4C videos in eval:         961\n",
      "\n",
      "Data set: test\n",
      "Number of patients in test: 320\n",
      "PET studies in test:        331\n",
      "ECHO studies in test:       532\n",
      "A4C videos in test:         1548\n"
     ]
    }
   ],
   "source": [
    "# Sort out the echo studies that did not have a4c views\n",
    "view = 'a4c'\n",
    "df = df_global_dataset.copy()\n",
    "df_view = df.loc[df.max_view==view]\n",
    "study_list_with_view = df_view.study.unique()\n",
    "\n",
    "# Studies that do not have a4c views\n",
    "df_no_view = df[~df.study.isin(study_list_with_view)]\n",
    "print()\n",
    "print(f'Echo studies without {view} view: {len(df_no_view.study.unique())}')\n",
    "print(f'Patients from these studies without {view} view: {len(df_no_view.mrn.unique())}')\n",
    "print()\n",
    "print(f'PET studies with {view} views: {len(df_view.petmrn_identifier.unique())}')\n",
    "print(f'patients with {view} views:    {len(df_view.mrn.unique())}')\n",
    "print(f'Studies with {view} views:     {len(df_view.study.unique())}')\n",
    "print(f'Video files with {view} views: {len(df_view.filename.unique())}')\n",
    "\n",
    "dset_list = ['train', 'eval', 'test']\n",
    "for dset in dset_list:\n",
    "    print()\n",
    "    print(f'Data set: {dset}')\n",
    "    print(f'Number of patients in {dset}: {len(df_view[df_view[\"mode\"]==dset].mrn.unique())}')\n",
    "    print(f'PET studies in {dset}:        {len(df_view[df_view[\"mode\"]==dset].petmrn_identifier.unique())}')\n",
    "    print(f'ECHO studies in {dset}:       {len(df_view[df_view[\"mode\"]==dset].study.unique())}')\n",
    "    print(f'A4C videos in {dset}:         {len(df_view[df_view[\"mode\"]==dset].filename.unique())}')\n",
    "    "
   ]
  },
  {
   "cell_type": "code",
   "execution_count": 87,
   "metadata": {},
   "outputs": [
    {
     "name": "stdout",
     "output_type": "stream",
     "text": [
      "\n",
      "Data set: train\n",
      "Number of patients in train: 1478\n",
      "PET studies in train:        1526\n",
      "ECHO studies in train:       2159\n",
      "A4C videos in train:         6147\n",
      "\n",
      "Data set: eval\n",
      "Number of patients in eval: 160\n",
      "PET studies in eval:        168\n",
      "ECHO studies in eval:       234\n",
      "A4C videos in eval:         620\n",
      "\n",
      "Data set: test\n",
      "Number of patients in test: 263\n",
      "PET studies in test:        270\n",
      "ECHO studies in test:       392\n",
      "A4C videos in test:         1052\n",
      "\n",
      "Numbers for all data sets\n",
      "Number of patients:           1901\n",
      "PET studies:                  1964\n",
      "ECHO studies:                 2785\n",
      "A4C videos:                   7819\n"
     ]
    }
   ],
   "source": [
    "# Load the final data sets from the tfr_files\n",
    "tfr_dir = os.path.join(cfr_data_root, 'tfr_200519', 'global')\n",
    "train_files = sorted(glob.glob(os.path.join(tfr_dir, 'cfr_global_a4c_train_200519_?.parquet')))\n",
    "eval_files = sorted(glob.glob(os.path.join(tfr_dir, 'cfr_global_a4c_eval_200519_?.parquet')))\n",
    "test_files = sorted(glob.glob(os.path.join(tfr_dir, 'cfr_global_a4c_eval_200519_?.parquet')))\n",
    "\n",
    "def dset_numbers():\n",
    "    \n",
    "    dset_list = ['train', 'eval', 'test']\n",
    "    df_list = []\n",
    "    \n",
    "    for dset in dset_list:\n",
    "    \n",
    "        file_list = sorted(glob.glob(os.path.join(tfr_dir, 'cfr_global_a4c_'+dset+'_200519_?.parquet')))\n",
    "\n",
    "        df = pd.concat([pd.read_parquet(file) for file in file_list]).reset_index(drop=True)\n",
    "        df_list.append(df)\n",
    "\n",
    "        print()\n",
    "        print(f'Data set: {dset}')\n",
    "        print(f'Number of patients in {dset}: {len(df.mrn.unique())}')\n",
    "        print(f'PET studies in {dset}:        {len(df.petmrn_identifier.unique())}')\n",
    "        print(f'ECHO studies in {dset}:       {len(df.study.unique())}')\n",
    "        print(f'A4C videos in {dset}:         {len(df.filename.unique())}')\n",
    "        \n",
    "    \n",
    "    df_all = pd.concat(df_list).reset_index(drop=True)\n",
    "    print()\n",
    "    print('Numbers for all data sets')\n",
    "    print(f'Number of patients:           {len(df_all.mrn.unique())}')\n",
    "    print(f'PET studies:                  {len(df_all.petmrn_identifier.unique())}')\n",
    "    print(f'ECHO studies:                 {len(df_all.study.unique())}')\n",
    "    print(f'A4C videos:                   {len(df_all.filename.unique())}')\n",
    "    \n",
    "dset_numbers()"
   ]
  },
  {
   "cell_type": "code",
   "execution_count": 81,
   "metadata": {},
   "outputs": [
    {
     "data": {
      "text/plain": [
       "array(['a4c'], dtype=object)"
      ]
     },
     "execution_count": 81,
     "metadata": {},
     "output_type": "execute_result"
    }
   ],
   "source": [
    "df = pd.concat([pd.read_parquet(file) for file in train_files])\n",
    "df.max_view.unique()"
   ]
  },
  {
   "cell_type": "markdown",
   "metadata": {},
   "source": [
    "### Forward pass on events ###"
   ]
  },
  {
   "cell_type": "code",
   "execution_count": 96,
   "metadata": {},
   "outputs": [],
   "source": [
    "echo_dir = os.path.join(cfr_data_root, 'predictions_echodata', 'FirstEcho')\n",
    "predictions_global_file = 'BWH_2015-05-01_2015-10-31_FirstEcho_a4c_global_cfr_calc.parquet'\n",
    "disqualified_file = 'BWH_2015-05-01_2015-10-31_FirstEcho_a4c_disqualified.parquet'\n",
    "\n",
    "df = pd.read_parquet(os.path.join(echo_dir, predictions_global_file))\n",
    "df_disqualified = pd.read_parquet(os.path.join(echo_dir, disqualified_file))"
   ]
  },
  {
   "cell_type": "code",
   "execution_count": 106,
   "metadata": {},
   "outputs": [
    {
     "name": "stdout",
     "output_type": "stream",
     "text": [
      "Input patients: 7879\n",
      "Input videos:   21735\n"
     ]
    }
   ],
   "source": [
    "print(f'Input patients: {len(df.mrn.unique()) + len(df_disqualified.mrn.unique())}')\n",
    "print(f'Input videos:   {len(df.filename.unique()) + len(df_disqualified.filename.unique())}')"
   ]
  },
  {
   "cell_type": "code",
   "execution_count": 101,
   "metadata": {},
   "outputs": [
    {
     "name": "stdout",
     "output_type": "stream",
     "text": [
      "Patients in forward pass: 5184\n",
      "Echo studies in forward:  5184\n",
      "Video files in forward:   14930\n"
     ]
    }
   ],
   "source": [
    "print(f'Patients in forward pass: {len(df.mrn.unique())}')\n",
    "print(f'Echo studies in forward:  {len(df.study.unique())}')\n",
    "print(f'Video files in forward:   {len(df.filename.unique())}')"
   ]
  },
  {
   "cell_type": "code",
   "execution_count": 104,
   "metadata": {},
   "outputs": [
    {
     "name": "stdout",
     "output_type": "stream",
     "text": [
      "Disqualified patients:     2695\n",
      "Disqualified echo studies: 2695\n",
      "Disqualified videos:       6805\n"
     ]
    }
   ],
   "source": [
    "print(f'Disqualified patients:     {len(df_disqualified.mrn.unique())}')\n",
    "print(f'Disqualified echo studies: {len(df_disqualified.study.unique())}')\n",
    "print(f'Disqualified videos:       {len(df_disqualified.filename.unique())}')"
   ]
  }
 ],
 "metadata": {
  "kernelspec": {
   "display_name": "Python 3",
   "language": "python",
   "name": "python3"
  },
  "language_info": {
   "codemirror_mode": {
    "name": "ipython",
    "version": 3
   },
   "file_extension": ".py",
   "mimetype": "text/x-python",
   "name": "python",
   "nbconvert_exporter": "python",
   "pygments_lexer": "ipython3",
   "version": "3.7.7"
  }
 },
 "nbformat": 4,
 "nbformat_minor": 4
}
