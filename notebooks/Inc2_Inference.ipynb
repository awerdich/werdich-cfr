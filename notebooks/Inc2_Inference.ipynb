{
 "cells": [
  {
   "cell_type": "markdown",
   "metadata": {},
   "source": [
    "### Inference from a list of echo studies ###"
   ]
  },
  {
   "cell_type": "code",
   "execution_count": 1,
   "metadata": {},
   "outputs": [
    {
     "name": "stdout",
     "output_type": "stream",
     "text": [
      "TensorFlow Version: 2.2.0\n"
     ]
    }
   ],
   "source": [
    "import os\n",
    "import glob\n",
    "import pickle\n",
    "import pandas as pd\n",
    "\n",
    "# Custom imports\n",
    "from werdich_cfr.tfutils.Modeltrainer import VideoTrainer"
   ]
  },
  {
   "cell_type": "code",
   "execution_count": 2,
   "metadata": {},
   "outputs": [
    {
     "name": "stdout",
     "output_type": "stream",
     "text": [
      "Original file list: 26537 files.\n"
     ]
    }
   ],
   "source": [
    "def read_model_dict(file):\n",
    "    with open(file, 'rb') as f:\n",
    "        model_dict = pickle.load(f)\n",
    "    return model_dict\n",
    "\n",
    "# Directories and data sets\n",
    "cfr_data_root = os.path.normpath('/mnt/obi0/andreas/data/cfr')\n",
    "meta_date = '200606'\n",
    "meta_dir = os.path.join(cfr_data_root, 'metadata_'+meta_date)\n",
    "file_df_file = 'echo_BWH_npy_feather_files_'+meta_date+'.parquet'\n",
    "view = 'a4c'\n",
    "\n",
    "# echo list\n",
    "echo_list_dir = os.path.normpath('/mnt/obi0/andreas/data/cfr/predictions_echodata/SecondEchoGenetics')\n",
    "echo_list_filename = 'a4cname_BWH.txt'\n",
    "echo_list_file = os.path.join(echo_list_dir, echo_list_filename)\n",
    "echo_list = pd.read_csv(echo_list_file, header='infer', sep='\\t')\n",
    "echo_file_list = list(echo_list.names.unique())\n",
    "print(f'Original file list: {len(echo_file_list)} files.')\n",
    "\n",
    "best_models = pd.read_parquet(os.path.join(echo_list_dir, 'cfr_models_200611.parquet')).reset_index(drop=True)"
   ]
  },
  {
   "cell_type": "code",
   "execution_count": 3,
   "metadata": {},
   "outputs": [
    {
     "data": {
      "text/plain": [
       "'4f2101e60be2be_4903a44ab09602c1f5c8e634489d_Image-45.npy.lz4'"
      ]
     },
     "execution_count": 3,
     "metadata": {},
     "output_type": "execute_result"
    }
   ],
   "source": [
    "echo_list.head().names.iloc[0]"
   ]
  },
  {
   "cell_type": "code",
   "execution_count": 3,
   "metadata": {},
   "outputs": [
    {
     "name": "stdout",
     "output_type": "stream",
     "text": [
      "7860\n",
      "7705\n",
      "155\n"
     ]
    }
   ],
   "source": [
    "# Create a reduced npy_feather files to speed up the metadata collections\n",
    "\n",
    "#file_df = pd.read_parquet(os.path.join(meta_dir, file_df_file))\n",
    "#file_df_study = file_df[file_df.study.isin(study_list)]\n",
    "#file_df_study_list = list(file_df_study.study.unique())\n",
    "#print(len(study_list))\n",
    "#print(len(file_df_study_list))\n",
    "# What's missing?\n",
    "#missing_files = list(set(study_list).difference(file_df_study_list))\n",
    "#print(len(missing_files))\n",
    "\n",
    "# Save missing echo list\n",
    "#echo_list_file_missing = echo_list_filename.split('.')[0]+'_missing.parquet'\n",
    "#echo_list_missing = echo_list[echo_list.study.isin(missing_files)]\n",
    "#echo_list_missing.to_parquet(os.path.join(meta_dir, echo_list_file_missing))\n",
    "\n",
    "# Save the new list to collect the metadata\n",
    "#file_df_file_pred = os.path.join(meta_dir, 'echo_BWH_npy_feather_files_pred_'+meta_date+'.parquet')\n",
    "#file_df_study.to_parquet(file_df_file_pred)"
   ]
  },
  {
   "cell_type": "code",
   "execution_count": 3,
   "metadata": {},
   "outputs": [
    {
     "name": "stdout",
     "output_type": "stream",
     "text": [
      "(2257427, 42)\n"
     ]
    }
   ],
   "source": [
    "# Join the echo list with the meta data and filter VIEWS!!!\n",
    "meta_file = os.path.join(cfr_data_root, 'metadata_200606', 'echo_BWH_meta_200606.parquet')\n",
    "meta_df = pd.read_parquet(meta_file)\n",
    "print(meta_df.shape)"
   ]
  },
  {
   "cell_type": "code",
   "execution_count": 4,
   "metadata": {},
   "outputs": [
    {
     "name": "stdout",
     "output_type": "stream",
     "text": [
      "Number of files in meta data after echo filter: 26537\n",
      "(26537, 42)\n",
      "\n",
      "After removal of rows without view clasification:\n",
      "Total number of patients in meta data 5945\n",
      "Total number of studies 9415\n",
      "Total number of files in meta data 26537\n"
     ]
    }
   ],
   "source": [
    "# Filter the meta data by the echos we need\n",
    "meta_df = meta_df[meta_df.filename.isin(echo_file_list)]\n",
    "print(f'Number of files in meta data after echo filter: {len(meta_df.filename.unique())}')\n",
    "print(meta_df.shape)\n",
    "\n",
    "# Remove meta rows without view classification\n",
    "meta_df = meta_df.loc[~meta_df.a4c.isnull()]\n",
    "\n",
    "# Remove rows without frame_time\n",
    "meta_df = meta_df.loc[~meta_df.frame_time.isnull()].reset_index(drop = True)\n",
    "\n",
    "print()\n",
    "print('After removal of rows without view clasification:')\n",
    "print('Total number of patients in meta data {}'.format(len(meta_df.mrn.unique())))\n",
    "print('Total number of studies {}'.format(len(meta_df.study.unique())))\n",
    "print('Total number of files in meta data {}'.format(len(meta_df.filename.unique())))"
   ]
  },
  {
   "cell_type": "code",
   "execution_count": 5,
   "metadata": {},
   "outputs": [
    {
     "name": "stdout",
     "output_type": "stream",
     "text": [
      "Studies in data:     9415\n",
      "Total files:         26537\n",
      "\n",
      "Studies in a4c data: 9415\n",
      "Total files:         26537\n",
      "Total patients:      5945\n"
     ]
    }
   ],
   "source": [
    "view_dict = {'view_a2c': ['a2c', 'a2c_laocc', 'a2c_lvocc_s'],\n",
    "             'view_a3c': ['a3c', 'a3c_laocc', 'a3c_lvocc_s'],\n",
    "             'view_a4c': ['a4c', 'a4c_far', 'a4c_laocc', 'a4c_lvocc_s', 'a4c_rv', 'a4c_rv_laocc'],\n",
    "             'view_plax': ['plax_far', 'plax_lac', 'plax_laz', 'plax_laz_ao', 'plax_plax'],\n",
    "             'view_psax': ['psax_avz', 'psax_az', 'psax_mv', 'psax_pap'],\n",
    "             'view_other': ['other', 'a5c', 'apex', 'rvinf', 'subcostal', 'suprasternal']}\n",
    "\n",
    "# Get the maxiumum view classification score for each row\n",
    "view_list = [item for sublist in view_dict.values() for item in sublist]\n",
    "echo_meta_sum_views = meta_df.assign(max_view = meta_df[view_list].\\\n",
    "                                     idxmax(axis = 1))\n",
    "\n",
    "# Make sure that we have all views in our list and for consistency: Sum up all view columns\n",
    "echo_meta_sum_views = echo_meta_sum_views.assign(sum_views = echo_meta_sum_views[view_list].sum(axis=1))\n",
    "\n",
    "print(f'Studies in data:     {len(echo_meta_sum_views.study.unique())}')\n",
    "print(f'Total files:         {len(echo_meta_sum_views.filename.unique())}')\n",
    "\n",
    "meta_df_a4c = echo_meta_sum_views[echo_meta_sum_views.max_view==view].reset_index(drop=True)\n",
    "\n",
    "print()\n",
    "print(f'Studies in a4c data: {len(meta_df_a4c.study.unique())}')\n",
    "print(f'Total files:         {len(meta_df_a4c.filename.unique())}')\n",
    "print(f'Total patients:      {len(meta_df_a4c.mrn.unique())}')"
   ]
  },
  {
   "cell_type": "code",
   "execution_count": 11,
   "metadata": {},
   "outputs": [
    {
     "name": "stdout",
     "output_type": "stream",
     "text": [
      "a4cname_MGH_a4c.parquet\n"
     ]
    }
   ],
   "source": [
    "meta_a4c_filename = echo_list_filename.split('.')[0] + '_'+view+'.parquet'\n",
    "print(meta_a4c_filename)"
   ]
  },
  {
   "cell_type": "code",
   "execution_count": 12,
   "metadata": {},
   "outputs": [
    {
     "data": {
      "text/html": [
       "<div>\n",
       "<style scoped>\n",
       "    .dataframe tbody tr th:only-of-type {\n",
       "        vertical-align: middle;\n",
       "    }\n",
       "\n",
       "    .dataframe tbody tr th {\n",
       "        vertical-align: top;\n",
       "    }\n",
       "\n",
       "    .dataframe thead th {\n",
       "        text-align: right;\n",
       "    }\n",
       "</style>\n",
       "<table border=\"1\" class=\"dataframe\">\n",
       "  <thead>\n",
       "    <tr style=\"text-align: right;\">\n",
       "      <th></th>\n",
       "      <th>filename</th>\n",
       "      <th>dir</th>\n",
       "      <th>study</th>\n",
       "      <th>mrn</th>\n",
       "      <th>datetime</th>\n",
       "      <th>fileid</th>\n",
       "      <th>institution</th>\n",
       "      <th>model</th>\n",
       "      <th>manufacturer</th>\n",
       "      <th>index</th>\n",
       "      <th>frame_time</th>\n",
       "      <th>number_of_frames</th>\n",
       "      <th>heart_rate</th>\n",
       "      <th>deltaX</th>\n",
       "      <th>deltaY</th>\n",
       "      <th>a2c</th>\n",
       "      <th>a2c_laocc</th>\n",
       "      <th>a2c_lvocc_s</th>\n",
       "      <th>a3c</th>\n",
       "      <th>a3c_laocc</th>\n",
       "      <th>a3c_lvocc_s</th>\n",
       "      <th>a4c</th>\n",
       "      <th>a4c_far</th>\n",
       "      <th>a4c_laocc</th>\n",
       "      <th>a4c_lvocc_s</th>\n",
       "      <th>a4c_rv</th>\n",
       "      <th>a4c_rv_laocc</th>\n",
       "      <th>a5c</th>\n",
       "      <th>apex</th>\n",
       "      <th>other</th>\n",
       "      <th>plax_far</th>\n",
       "      <th>plax_lac</th>\n",
       "      <th>plax_laz</th>\n",
       "      <th>plax_laz_ao</th>\n",
       "      <th>plax_plax</th>\n",
       "      <th>psax_avz</th>\n",
       "      <th>psax_az</th>\n",
       "      <th>psax_mv</th>\n",
       "      <th>psax_pap</th>\n",
       "      <th>rvinf</th>\n",
       "      <th>subcostal</th>\n",
       "      <th>suprasternal</th>\n",
       "      <th>max_view</th>\n",
       "      <th>sum_views</th>\n",
       "    </tr>\n",
       "  </thead>\n",
       "  <tbody>\n",
       "    <tr>\n",
       "      <th>0</th>\n",
       "      <td>48b090129a7ecc_4903a582ec7227e72ca1a12db852_Im...</td>\n",
       "      <td>/mnt/obi0/phi/echo/npyFiles/MGH/48b0/48b090129...</td>\n",
       "      <td>48b090129a7ecc_4903a582ec7227e72ca1a12db852</td>\n",
       "      <td>3517085</td>\n",
       "      <td>2017-03-29 10:52:45</td>\n",
       "      <td>48b090129a7ecc_4903a582ec7227e72ca1a12db852_Im...</td>\n",
       "      <td>MGH</td>\n",
       "      <td>EPIQ 7C</td>\n",
       "      <td>Philips Medical Systems</td>\n",
       "      <td>0.0</td>\n",
       "      <td>33.333</td>\n",
       "      <td>76.0</td>\n",
       "      <td>48.0</td>\n",
       "      <td>0.038599</td>\n",
       "      <td>0.038599</td>\n",
       "      <td>4.369181e-14</td>\n",
       "      <td>1.002213e-11</td>\n",
       "      <td>4.952000e-17</td>\n",
       "      <td>9.540701e-20</td>\n",
       "      <td>8.480631e-19</td>\n",
       "      <td>3.362204e-15</td>\n",
       "      <td>1.000000</td>\n",
       "      <td>1.380723e-14</td>\n",
       "      <td>1.235565e-16</td>\n",
       "      <td>1.717246e-15</td>\n",
       "      <td>1.413478e-16</td>\n",
       "      <td>1.533292e-16</td>\n",
       "      <td>2.999292e-17</td>\n",
       "      <td>3.079603e-17</td>\n",
       "      <td>2.827710e-22</td>\n",
       "      <td>6.419594e-17</td>\n",
       "      <td>4.401530e-16</td>\n",
       "      <td>2.819618e-16</td>\n",
       "      <td>3.035525e-18</td>\n",
       "      <td>6.578000e-17</td>\n",
       "      <td>9.705355e-16</td>\n",
       "      <td>1.937740e-14</td>\n",
       "      <td>8.963561e-17</td>\n",
       "      <td>1.988039e-15</td>\n",
       "      <td>1.589031e-20</td>\n",
       "      <td>2.990445e-20</td>\n",
       "      <td>2.887505e-18</td>\n",
       "      <td>a4c</td>\n",
       "      <td>1.0</td>\n",
       "    </tr>\n",
       "    <tr>\n",
       "      <th>1</th>\n",
       "      <td>48b09016b32e8b_4903a580509311eb732873606d54_Im...</td>\n",
       "      <td>/mnt/obi0/phi/echo/npyFiles/MGH/48b0/48b09016b...</td>\n",
       "      <td>48b09016b32e8b_4903a580509311eb732873606d54</td>\n",
       "      <td>3513257</td>\n",
       "      <td>2015-04-14 08:24:23</td>\n",
       "      <td>48b09016b32e8b_4903a580509311eb732873606d54_Im...</td>\n",
       "      <td>MGH</td>\n",
       "      <td>iE33</td>\n",
       "      <td>Philips Medical Systems</td>\n",
       "      <td>0.0</td>\n",
       "      <td>33.333</td>\n",
       "      <td>91.0</td>\n",
       "      <td>42.0</td>\n",
       "      <td>0.047111</td>\n",
       "      <td>0.047111</td>\n",
       "      <td>3.749047e-07</td>\n",
       "      <td>2.990790e-10</td>\n",
       "      <td>2.754385e-09</td>\n",
       "      <td>4.811635e-08</td>\n",
       "      <td>3.790895e-10</td>\n",
       "      <td>8.239009e-09</td>\n",
       "      <td>0.996496</td>\n",
       "      <td>1.198259e-08</td>\n",
       "      <td>1.066312e-10</td>\n",
       "      <td>8.882178e-09</td>\n",
       "      <td>1.425669e-03</td>\n",
       "      <td>5.240650e-09</td>\n",
       "      <td>1.404470e-08</td>\n",
       "      <td>1.202118e-09</td>\n",
       "      <td>6.229320e-08</td>\n",
       "      <td>1.117606e-08</td>\n",
       "      <td>4.633523e-11</td>\n",
       "      <td>1.920444e-09</td>\n",
       "      <td>4.513532e-11</td>\n",
       "      <td>1.979736e-09</td>\n",
       "      <td>3.215599e-09</td>\n",
       "      <td>8.065429e-06</td>\n",
       "      <td>1.350255e-10</td>\n",
       "      <td>2.069227e-03</td>\n",
       "      <td>1.685130e-08</td>\n",
       "      <td>9.140099e-11</td>\n",
       "      <td>4.707263e-11</td>\n",
       "      <td>a4c</td>\n",
       "      <td>1.0</td>\n",
       "    </tr>\n",
       "  </tbody>\n",
       "</table>\n",
       "</div>"
      ],
      "text/plain": [
       "                                            filename                                                dir                                        study      mrn            datetime                                             fileid institution    model             manufacturer  index  frame_time  number_of_frames  heart_rate    deltaX    deltaY           a2c     a2c_laocc   a2c_lvocc_s           a3c     a3c_laocc   a3c_lvocc_s       a4c       a4c_far     a4c_laocc   a4c_lvocc_s        a4c_rv  a4c_rv_laocc           a5c          apex         other      plax_far      plax_lac      plax_laz   plax_laz_ao     plax_plax      psax_avz       psax_az       psax_mv      psax_pap         rvinf     subcostal  suprasternal max_view  sum_views\n",
       "0  48b090129a7ecc_4903a582ec7227e72ca1a12db852_Im...  /mnt/obi0/phi/echo/npyFiles/MGH/48b0/48b090129...  48b090129a7ecc_4903a582ec7227e72ca1a12db852  3517085 2017-03-29 10:52:45  48b090129a7ecc_4903a582ec7227e72ca1a12db852_Im...         MGH  EPIQ 7C  Philips Medical Systems    0.0      33.333              76.0        48.0  0.038599  0.038599  4.369181e-14  1.002213e-11  4.952000e-17  9.540701e-20  8.480631e-19  3.362204e-15  1.000000  1.380723e-14  1.235565e-16  1.717246e-15  1.413478e-16  1.533292e-16  2.999292e-17  3.079603e-17  2.827710e-22  6.419594e-17  4.401530e-16  2.819618e-16  3.035525e-18  6.578000e-17  9.705355e-16  1.937740e-14  8.963561e-17  1.988039e-15  1.589031e-20  2.990445e-20  2.887505e-18      a4c        1.0\n",
       "1  48b09016b32e8b_4903a580509311eb732873606d54_Im...  /mnt/obi0/phi/echo/npyFiles/MGH/48b0/48b09016b...  48b09016b32e8b_4903a580509311eb732873606d54  3513257 2015-04-14 08:24:23  48b09016b32e8b_4903a580509311eb732873606d54_Im...         MGH     iE33  Philips Medical Systems    0.0      33.333              91.0        42.0  0.047111  0.047111  3.749047e-07  2.990790e-10  2.754385e-09  4.811635e-08  3.790895e-10  8.239009e-09  0.996496  1.198259e-08  1.066312e-10  8.882178e-09  1.425669e-03  5.240650e-09  1.404470e-08  1.202118e-09  6.229320e-08  1.117606e-08  4.633523e-11  1.920444e-09  4.513532e-11  1.979736e-09  3.215599e-09  8.065429e-06  1.350255e-10  2.069227e-03  1.685130e-08  9.140099e-11  4.707263e-11      a4c        1.0"
      ]
     },
     "execution_count": 12,
     "metadata": {},
     "output_type": "execute_result"
    }
   ],
   "source": [
    "meta_a4c_filename = echo_list_filename.split('.')[0] + '_'+view+'.parquet'\n",
    "meta_a4c_file = os.path.join(echo_list_dir, meta_a4c_filename)\n",
    "meta_df_a4c.to_parquet(meta_a4c_file)\n",
    "meta_df_a4c.head(2)"
   ]
  },
  {
   "cell_type": "code",
   "execution_count": 14,
   "metadata": {},
   "outputs": [
    {
     "data": {
      "text/plain": [
       "(13273, 44)"
      ]
     },
     "execution_count": 14,
     "metadata": {},
     "output_type": "execute_result"
    }
   ],
   "source": [
    "meta_df_a4c.shape"
   ]
  },
  {
   "cell_type": "code",
   "execution_count": 13,
   "metadata": {},
   "outputs": [
    {
     "data": {
      "text/html": [
       "<div>\n",
       "<style scoped>\n",
       "    .dataframe tbody tr th:only-of-type {\n",
       "        vertical-align: middle;\n",
       "    }\n",
       "\n",
       "    .dataframe tbody tr th {\n",
       "        vertical-align: top;\n",
       "    }\n",
       "\n",
       "    .dataframe thead th {\n",
       "        text-align: right;\n",
       "    }\n",
       "</style>\n",
       "<table border=\"1\" class=\"dataframe\">\n",
       "  <thead>\n",
       "    <tr style=\"text-align: right;\">\n",
       "      <th></th>\n",
       "      <th>model_name</th>\n",
       "      <th>model_output</th>\n",
       "      <th>epoch</th>\n",
       "      <th>chechkpoint_file</th>\n",
       "      <th>spear_cor</th>\n",
       "      <th>spear_p</th>\n",
       "      <th>pear_cor</th>\n",
       "      <th>pear_p</th>\n",
       "      <th>n_samples</th>\n",
       "      <th>dset</th>\n",
       "      <th>view</th>\n",
       "      <th>gpu</th>\n",
       "    </tr>\n",
       "  </thead>\n",
       "  <tbody>\n",
       "    <tr>\n",
       "      <th>0</th>\n",
       "      <td>nondefect_a4c_dgx-1_rest_mbf_unaff</td>\n",
       "      <td>rest_mbf_unaff</td>\n",
       "      <td>100</td>\n",
       "      <td>/mnt/obi0/andreas/data/cfr/log/nondefect_a4c_d...</td>\n",
       "      <td>0.343776</td>\n",
       "      <td>7.655502e-26</td>\n",
       "      <td>0.350960</td>\n",
       "      <td>6.191784e-27</td>\n",
       "      <td>881</td>\n",
       "      <td>nondefect</td>\n",
       "      <td>a4c</td>\n",
       "      <td>dgx-1</td>\n",
       "    </tr>\n",
       "    <tr>\n",
       "      <th>1</th>\n",
       "      <td>nondefect_a4c_dgx-1_stress_mbf_unaff</td>\n",
       "      <td>stress_mbf_unaff</td>\n",
       "      <td>100</td>\n",
       "      <td>/mnt/obi0/andreas/data/cfr/log/nondefect_a4c_d...</td>\n",
       "      <td>0.446963</td>\n",
       "      <td>1.734637e-44</td>\n",
       "      <td>0.440022</td>\n",
       "      <td>5.112244e-43</td>\n",
       "      <td>881</td>\n",
       "      <td>nondefect</td>\n",
       "      <td>a4c</td>\n",
       "      <td>dgx-1</td>\n",
       "    </tr>\n",
       "    <tr>\n",
       "      <th>2</th>\n",
       "      <td>nondefect_a4c_dgx-1_unaffected_cfr</td>\n",
       "      <td>unaffected_cfr</td>\n",
       "      <td>100</td>\n",
       "      <td>/mnt/obi0/andreas/data/cfr/log/nondefect_a4c_d...</td>\n",
       "      <td>0.226273</td>\n",
       "      <td>1.083594e-11</td>\n",
       "      <td>0.263326</td>\n",
       "      <td>1.934262e-15</td>\n",
       "      <td>881</td>\n",
       "      <td>nondefect</td>\n",
       "      <td>a4c</td>\n",
       "      <td>dgx-1</td>\n",
       "    </tr>\n",
       "    <tr>\n",
       "      <th>3</th>\n",
       "      <td>global_a4c_gpu2_stress_global_mbf</td>\n",
       "      <td>stress_global_mbf</td>\n",
       "      <td>150</td>\n",
       "      <td>/mnt/obi0/andreas/data/cfr/log/global_a4c_gpu2...</td>\n",
       "      <td>0.521974</td>\n",
       "      <td>1.406801e-74</td>\n",
       "      <td>0.532282</td>\n",
       "      <td>5.110090e-78</td>\n",
       "      <td>1052</td>\n",
       "      <td>global</td>\n",
       "      <td>a4c</td>\n",
       "      <td>gpu2</td>\n",
       "    </tr>\n",
       "    <tr>\n",
       "      <th>4</th>\n",
       "      <td>global_a4c_dgx-1_rest_global_mbf</td>\n",
       "      <td>rest_global_mbf</td>\n",
       "      <td>150</td>\n",
       "      <td>/mnt/obi0/andreas/data/cfr/log/global_a4c_dgx-...</td>\n",
       "      <td>0.444414</td>\n",
       "      <td>3.753792e-52</td>\n",
       "      <td>0.458937</td>\n",
       "      <td>6.343615e-56</td>\n",
       "      <td>1052</td>\n",
       "      <td>global</td>\n",
       "      <td>a4c</td>\n",
       "      <td>dgx-1</td>\n",
       "    </tr>\n",
       "    <tr>\n",
       "      <th>5</th>\n",
       "      <td>global_a4c_gpu2_global_cfr_calc</td>\n",
       "      <td>global_cfr_calc</td>\n",
       "      <td>50</td>\n",
       "      <td>/mnt/obi0/andreas/data/cfr/log/global_a4c_gpu2...</td>\n",
       "      <td>0.325327</td>\n",
       "      <td>2.339397e-27</td>\n",
       "      <td>0.354585</td>\n",
       "      <td>1.593943e-32</td>\n",
       "      <td>1052</td>\n",
       "      <td>global</td>\n",
       "      <td>a4c</td>\n",
       "      <td>gpu2</td>\n",
       "    </tr>\n",
       "  </tbody>\n",
       "</table>\n",
       "</div>"
      ],
      "text/plain": [
       "                             model_name       model_output  epoch                                   chechkpoint_file  spear_cor       spear_p  pear_cor        pear_p  n_samples       dset view    gpu\n",
       "0    nondefect_a4c_dgx-1_rest_mbf_unaff     rest_mbf_unaff    100  /mnt/obi0/andreas/data/cfr/log/nondefect_a4c_d...   0.343776  7.655502e-26  0.350960  6.191784e-27        881  nondefect  a4c  dgx-1\n",
       "1  nondefect_a4c_dgx-1_stress_mbf_unaff   stress_mbf_unaff    100  /mnt/obi0/andreas/data/cfr/log/nondefect_a4c_d...   0.446963  1.734637e-44  0.440022  5.112244e-43        881  nondefect  a4c  dgx-1\n",
       "2    nondefect_a4c_dgx-1_unaffected_cfr     unaffected_cfr    100  /mnt/obi0/andreas/data/cfr/log/nondefect_a4c_d...   0.226273  1.083594e-11  0.263326  1.934262e-15        881  nondefect  a4c  dgx-1\n",
       "3     global_a4c_gpu2_stress_global_mbf  stress_global_mbf    150  /mnt/obi0/andreas/data/cfr/log/global_a4c_gpu2...   0.521974  1.406801e-74  0.532282  5.110090e-78       1052     global  a4c   gpu2\n",
       "4      global_a4c_dgx-1_rest_global_mbf    rest_global_mbf    150  /mnt/obi0/andreas/data/cfr/log/global_a4c_dgx-...   0.444414  3.753792e-52  0.458937  6.343615e-56       1052     global  a4c  dgx-1\n",
       "5       global_a4c_gpu2_global_cfr_calc    global_cfr_calc     50  /mnt/obi0/andreas/data/cfr/log/global_a4c_gpu2...   0.325327  2.339397e-27  0.354585  1.593943e-32       1052     global  a4c   gpu2"
      ]
     },
     "execution_count": 13,
     "metadata": {},
     "output_type": "execute_result"
    }
   ],
   "source": [
    "model = best_models\n",
    "model"
   ]
  },
  {
   "cell_type": "code",
   "execution_count": 20,
   "metadata": {},
   "outputs": [
    {
     "name": "stdout",
     "output_type": "stream",
     "text": [
      "BWH\n",
      "Files in original list:       26537\n",
      "Files with .npy and metadata: 26537\n",
      "Disqualified files:           4869\n",
      "\n",
      "MGH\n",
      "Files in original list:       13273\n",
      "Files with .npy and metadata: 13273\n",
      "Disqualified files:           4309\n"
     ]
    }
   ],
   "source": [
    "# Load disqualified files after predictions\n",
    "dis_df_file_BWH = 'a4cname_BWH_a4c_disqualified.parquet'\n",
    "echo_df_file_BWH = 'a4cname_BWH_a4c.parquet'\n",
    "echo_list_filename = 'a4cname_BWH.txt'\n",
    "echo_list_file = os.path.join(echo_list_dir, echo_list_filename)\n",
    "echo_list = pd.read_csv(echo_list_file, header='infer', sep='\\t')\n",
    "echo_file_list_BWH = list(echo_list.names.unique())\n",
    "dis_df_BWH = pd.read_parquet(os.path.join(echo_list_dir, dis_df_file_BWH))\n",
    "echo_df_BWH = pd.read_parquet(os.path.join(echo_list_dir, echo_df_file_BWH))\n",
    "print('BWH')\n",
    "print(f'Files in original list:       {len(echo_file_list_BWH)}')\n",
    "print(f'Files with .npy and metadata: {len(echo_df_BWH.filename.unique())}')\n",
    "print(f'Disqualified files:           {len(dis_df_BWH.filename.unique())}')\n",
    "\n",
    "\n",
    "dis_df_file_MGH = 'a4cname_MGH_a4c_disqualified.parquet'\n",
    "echo_df_file_MGH = 'a4cname_MGH_a4c.parquet'\n",
    "echo_list_filename = 'a4cname_MGH.txt'\n",
    "echo_list_file = os.path.join(echo_list_dir, echo_list_filename)\n",
    "echo_list = pd.read_csv(echo_list_file, header='infer', sep='\\t')\n",
    "echo_file_list_MGH = list(echo_list.names.unique())\n",
    "\n",
    "dis_df_MGH = pd.read_parquet(os.path.join(echo_list_dir, dis_df_file_MGH))\n",
    "echo_df_MGH = pd.read_parquet(os.path.join(echo_list_dir, echo_df_file_MGH))\n",
    "\n",
    "print()\n",
    "print('MGH')\n",
    "print(f'Files in original list:       {len(echo_file_list_MGH)}')\n",
    "print(f'Files with .npy and metadata: {len(echo_df_MGH.filename.unique())}')\n",
    "print(f'Disqualified files:           {len(dis_df_MGH.filename.unique())}')"
   ]
  },
  {
   "cell_type": "code",
   "execution_count": 61,
   "metadata": {},
   "outputs": [
    {
     "data": {
      "text/plain": [
       "32.46440141640925"
      ]
     },
     "execution_count": 61,
     "metadata": {},
     "output_type": "execute_result"
    }
   ],
   "source": [
    "4309/13273*100"
   ]
  },
  {
   "cell_type": "code",
   "execution_count": 62,
   "metadata": {},
   "outputs": [],
   "source": [
    "max_frame_time=33.34 ### FINAL CUTOFF FOR FRAME TIME INTERVAL\n",
    "dis_df_BWH = dis_df_BWH.assign(videolen=(dis_df_BWH.frame_time * 1e-3 * dis_df_BWH.number_of_frames))\n",
    "min_len = max_frame_time*40\n",
    "\n",
    "dis_df_BWH_filter = dis_df_BWH[(dis_df_BWH.frame_time<=max_frame_time*1000) & (dis_df_BWH.videolen>=min_len)]"
   ]
  },
  {
   "cell_type": "code",
   "execution_count": 63,
   "metadata": {},
   "outputs": [
    {
     "data": {
      "text/html": [
       "<div>\n",
       "<style scoped>\n",
       "    .dataframe tbody tr th:only-of-type {\n",
       "        vertical-align: middle;\n",
       "    }\n",
       "\n",
       "    .dataframe tbody tr th {\n",
       "        vertical-align: top;\n",
       "    }\n",
       "\n",
       "    .dataframe thead th {\n",
       "        text-align: right;\n",
       "    }\n",
       "</style>\n",
       "<table border=\"1\" class=\"dataframe\">\n",
       "  <thead>\n",
       "    <tr style=\"text-align: right;\">\n",
       "      <th></th>\n",
       "      <th>filename</th>\n",
       "      <th>dir</th>\n",
       "      <th>study</th>\n",
       "      <th>mrn</th>\n",
       "      <th>datetime</th>\n",
       "      <th>fileid</th>\n",
       "      <th>institution</th>\n",
       "      <th>model</th>\n",
       "      <th>manufacturer</th>\n",
       "      <th>index</th>\n",
       "      <th>frame_time</th>\n",
       "      <th>number_of_frames</th>\n",
       "      <th>heart_rate</th>\n",
       "      <th>deltaX</th>\n",
       "      <th>deltaY</th>\n",
       "      <th>a2c</th>\n",
       "      <th>a2c_laocc</th>\n",
       "      <th>a2c_lvocc_s</th>\n",
       "      <th>a3c</th>\n",
       "      <th>a3c_laocc</th>\n",
       "      <th>a3c_lvocc_s</th>\n",
       "      <th>a4c</th>\n",
       "      <th>a4c_far</th>\n",
       "      <th>a4c_laocc</th>\n",
       "      <th>a4c_lvocc_s</th>\n",
       "      <th>a4c_rv</th>\n",
       "      <th>a4c_rv_laocc</th>\n",
       "      <th>a5c</th>\n",
       "      <th>apex</th>\n",
       "      <th>other</th>\n",
       "      <th>plax_far</th>\n",
       "      <th>plax_lac</th>\n",
       "      <th>plax_laz</th>\n",
       "      <th>plax_laz_ao</th>\n",
       "      <th>plax_plax</th>\n",
       "      <th>psax_avz</th>\n",
       "      <th>psax_az</th>\n",
       "      <th>psax_mv</th>\n",
       "      <th>psax_pap</th>\n",
       "      <th>rvinf</th>\n",
       "      <th>subcostal</th>\n",
       "      <th>suprasternal</th>\n",
       "      <th>max_view</th>\n",
       "      <th>sum_views</th>\n",
       "      <th>videolen</th>\n",
       "    </tr>\n",
       "  </thead>\n",
       "  <tbody>\n",
       "  </tbody>\n",
       "</table>\n",
       "</div>"
      ],
      "text/plain": [
       "Empty DataFrame\n",
       "Columns: [filename, dir, study, mrn, datetime, fileid, institution, model, manufacturer, index, frame_time, number_of_frames, heart_rate, deltaX, deltaY, a2c, a2c_laocc, a2c_lvocc_s, a3c, a3c_laocc, a3c_lvocc_s, a4c, a4c_far, a4c_laocc, a4c_lvocc_s, a4c_rv, a4c_rv_laocc, a5c, apex, other, plax_far, plax_lac, plax_laz, plax_laz_ao, plax_plax, psax_avz, psax_az, psax_mv, psax_pap, rvinf, subcostal, suprasternal, max_view, sum_views, videolen]\n",
       "Index: []"
      ]
     },
     "execution_count": 63,
     "metadata": {},
     "output_type": "execute_result"
    }
   ],
   "source": [
    "dis_df_BWH_filter"
   ]
  }
 ],
 "metadata": {
  "kernelspec": {
   "display_name": "Python 3",
   "language": "python",
   "name": "python3"
  },
  "language_info": {
   "codemirror_mode": {
    "name": "ipython",
    "version": 3
   },
   "file_extension": ".py",
   "mimetype": "text/x-python",
   "name": "python",
   "nbconvert_exporter": "python",
   "pygments_lexer": "ipython3",
   "version": "3.7.7"
  }
 },
 "nbformat": 4,
 "nbformat_minor": 4
}
