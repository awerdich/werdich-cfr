{
 "cells": [
  {
   "cell_type": "markdown",
   "metadata": {},
   "source": [
    "### Inference from a list of echo studies ###"
   ]
  },
  {
   "cell_type": "code",
   "execution_count": 1,
   "metadata": {},
   "outputs": [
    {
     "name": "stdout",
     "output_type": "stream",
     "text": [
      "TensorFlow Version: 2.1.0\n"
     ]
    }
   ],
   "source": [
    "import os\n",
    "import glob\n",
    "import pickle\n",
    "import pandas as pd\n",
    "\n",
    "# Custom imports\n",
    "from werdich_cfr.tfutils.Modeltrainer import VideoTrainer"
   ]
  },
  {
   "cell_type": "code",
   "execution_count": 2,
   "metadata": {},
   "outputs": [],
   "source": [
    "def read_model_dict(file):\n",
    "    with open(file, 'rb') as f:\n",
    "        model_dict = pickle.load(f)\n",
    "    return model_dict\n",
    "\n",
    "#%% Directories and data sets\n",
    "cfr_data_root = os.path.normpath('/mnt/obi0/andreas/data/cfr')\n",
    "log_dir = os.path.join(cfr_data_root, 'log', '20020a4c_pad')\n",
    "test_data_dir = os.path.join(cfr_data_root, 'tfr_200202')\n",
    "model_dict_file = glob.glob(os.path.join(log_dir, '*_model_dict.pkl'))[0]\n",
    "model_dict = read_model_dict(model_dict_file)\n",
    "\n",
    "# Re-create the model from checkpoint\n",
    "checkpoint_file_list = sorted(glob.glob(os.path.join(log_dir, model_dict['name']+'*_chkpt_*')))\n",
    "checkpoint_file = checkpoint_file_list[14]"
   ]
  },
  {
   "cell_type": "code",
   "execution_count": 3,
   "metadata": {},
   "outputs": [
    {
     "name": "stdout",
     "output_type": "stream",
     "text": [
      "Model: \"model\"\n",
      "__________________________________________________________________________________________________\n",
      "Layer (type)                    Output Shape         Param #     Connected to                     \n",
      "==================================================================================================\n",
      "video (InputLayer)              [(None, 30, 299, 299 0                                            \n",
      "__________________________________________________________________________________________________\n",
      "conv3d (Conv3D)                 (None, 28, 297, 297, 896         video[0][0]                      \n",
      "__________________________________________________________________________________________________\n",
      "batch_normalization (BatchNorma (None, 28, 297, 297, 128         conv3d[0][0]                     \n",
      "__________________________________________________________________________________________________\n",
      "max_pooling3d (MaxPooling3D)    (None, 28, 148, 148, 0           batch_normalization[0][0]        \n",
      "__________________________________________________________________________________________________\n",
      "conv3d_1 (Conv3D)               (None, 26, 146, 146, 27680       max_pooling3d[0][0]              \n",
      "__________________________________________________________________________________________________\n",
      "batch_normalization_1 (BatchNor (None, 26, 146, 146, 128         conv3d_1[0][0]                   \n",
      "__________________________________________________________________________________________________\n",
      "conv3d_2 (Conv3D)               (None, 24, 144, 144, 27680       batch_normalization_1[0][0]      \n",
      "__________________________________________________________________________________________________\n",
      "batch_normalization_2 (BatchNor (None, 24, 144, 144, 128         conv3d_2[0][0]                   \n",
      "__________________________________________________________________________________________________\n",
      "max_pooling3d_1 (MaxPooling3D)  (None, 24, 72, 72, 3 0           batch_normalization_2[0][0]      \n",
      "__________________________________________________________________________________________________\n",
      "conv3d_3 (Conv3D)               (None, 22, 70, 70, 6 55360       max_pooling3d_1[0][0]            \n",
      "__________________________________________________________________________________________________\n",
      "batch_normalization_3 (BatchNor (None, 22, 70, 70, 6 256         conv3d_3[0][0]                   \n",
      "__________________________________________________________________________________________________\n",
      "conv3d_4 (Conv3D)               (None, 20, 68, 68, 6 110656      batch_normalization_3[0][0]      \n",
      "__________________________________________________________________________________________________\n",
      "batch_normalization_4 (BatchNor (None, 20, 68, 68, 6 256         conv3d_4[0][0]                   \n",
      "__________________________________________________________________________________________________\n",
      "max_pooling3d_2 (MaxPooling3D)  (None, 20, 34, 34, 6 0           batch_normalization_4[0][0]      \n",
      "__________________________________________________________________________________________________\n",
      "conv3d_5 (Conv3D)               (None, 18, 32, 32, 1 221312      max_pooling3d_2[0][0]            \n",
      "__________________________________________________________________________________________________\n",
      "batch_normalization_5 (BatchNor (None, 18, 32, 32, 1 512         conv3d_5[0][0]                   \n",
      "__________________________________________________________________________________________________\n",
      "conv3d_6 (Conv3D)               (None, 16, 30, 30, 1 442496      batch_normalization_5[0][0]      \n",
      "__________________________________________________________________________________________________\n",
      "batch_normalization_6 (BatchNor (None, 16, 30, 30, 1 512         conv3d_6[0][0]                   \n",
      "__________________________________________________________________________________________________\n",
      "max_pooling3d_3 (MaxPooling3D)  (None, 8, 30, 15, 12 0           batch_normalization_6[0][0]      \n",
      "__________________________________________________________________________________________________\n",
      "conv3d_7 (Conv3D)               (None, 6, 28, 13, 25 884992      max_pooling3d_3[0][0]            \n",
      "__________________________________________________________________________________________________\n",
      "batch_normalization_7 (BatchNor (None, 6, 28, 13, 25 1024        conv3d_7[0][0]                   \n",
      "__________________________________________________________________________________________________\n",
      "conv3d_8 (Conv3D)               (None, 4, 26, 11, 25 1769728     batch_normalization_7[0][0]      \n",
      "__________________________________________________________________________________________________\n",
      "batch_normalization_8 (BatchNor (None, 4, 26, 11, 25 1024        conv3d_8[0][0]                   \n",
      "__________________________________________________________________________________________________\n",
      "conv3d_9 (Conv3D)               (None, 2, 24, 9, 256 1769728     batch_normalization_8[0][0]      \n",
      "__________________________________________________________________________________________________\n",
      "batch_normalization_9 (BatchNor (None, 2, 24, 9, 256 1024        conv3d_9[0][0]                   \n",
      "__________________________________________________________________________________________________\n",
      "max_pooling3d_4 (MaxPooling3D)  (None, 1, 24, 4, 256 0           batch_normalization_9[0][0]      \n",
      "__________________________________________________________________________________________________\n",
      "conv3d_10 (Conv3D)              (None, 1, 24, 4, 256 65792       max_pooling3d_4[0][0]            \n",
      "__________________________________________________________________________________________________\n",
      "flatten (Flatten)               (None, 24576)        0           conv3d_10[0][0]                  \n",
      "__________________________________________________________________________________________________\n",
      "batch_normalization_10 (BatchNo (None, 24576)        98304       flatten[0][0]                    \n",
      "__________________________________________________________________________________________________\n",
      "dense (Dense)                   (None, 256)          6291712     batch_normalization_10[0][0]     \n",
      "__________________________________________________________________________________________________\n",
      "dense_1 (Dense)                 (None, 256)          6291712     batch_normalization_10[0][0]     \n",
      "__________________________________________________________________________________________________\n",
      "batch_normalization_11 (BatchNo (None, 256)          1024        dense[0][0]                      \n",
      "__________________________________________________________________________________________________\n",
      "batch_normalization_12 (BatchNo (None, 256)          1024        dense_1[0][0]                    \n",
      "__________________________________________________________________________________________________\n",
      "class_output (Dense)            (None, 4)            1028        batch_normalization_11[0][0]     \n",
      "__________________________________________________________________________________________________\n",
      "score_output (Dense)            (None, 1)            257         batch_normalization_12[0][0]     \n",
      "==================================================================================================\n",
      "Total params: 18,066,373\n",
      "Trainable params: 18,013,701\n",
      "Non-trainable params: 52,672\n",
      "__________________________________________________________________________________________________\n"
     ]
    }
   ],
   "source": [
    "# Re-create the model from checkpoint\n",
    "model = load_model(checkpoint_file)\n",
    "model.load_weights(checkpoint_file)\n",
    "model.summary()"
   ]
  },
  {
   "cell_type": "code",
   "execution_count": 4,
   "metadata": {},
   "outputs": [],
   "source": [
    "estimator = VideoTrainer(log_dir = log_dir,\n",
    "                         model_dict = model_dict,\n",
    "                         train_dict = None)\n",
    "\n",
    "test_tfr_files = sorted(glob.glob(os.path.join(test_data_dir, 'CFR_200202_view_a4c_test_*.tfrecords')))\n",
    "test_parquet_files = [file.replace('.tfrecords', '.parquet') for file in test_tfr_files]\n",
    "\n",
    "batch_size = 10\n",
    "n_take = 5"
   ]
  },
  {
   "cell_type": "code",
   "execution_count": 5,
   "metadata": {},
   "outputs": [
    {
     "name": "stdout",
     "output_type": "stream",
     "text": [
      "WARNING:tensorflow:From /home/andreas/.local/share/virtualenvs/werdich-cfr-I8EtkdgQ/lib/python3.6/site-packages/tensorflow_core/python/ops/image_ops_impl.py:1556: div (from tensorflow.python.ops.math_ops) is deprecated and will be removed in a future version.\n",
      "Instructions for updating:\n",
      "Deprecated in favor of operator or tf.math.divide.\n",
      "Pulling batch 1 of 5.\n",
      "Pulling batch 2 of 5.\n",
      "Pulling batch 3 of 5.\n",
      "Pulling batch 4 of 5.\n",
      "Pulling batch 5 of 5.\n"
     ]
    }
   ],
   "source": [
    "#parquet labels\n",
    "test_df = pd.concat([pd.read_parquet(file) for file in test_parquet_files])\n",
    "df_cfr_list = list(test_df.cfr.values[:n_take*batch_size])\n",
    "\n",
    "#tfr files\n",
    "n_steps_test, test_dataset = estimator.build_dataset(test_tfr_files,\n",
    "                                                     batch_size=10,\n",
    "                                                     buffer_n_batches=None,\n",
    "                                                     repeat_count=1,\n",
    "                                                     shuffle=False)\n",
    "dset_cfr_list = []\n",
    "for b, batch_output in enumerate(test_dataset.take(n_take)):\n",
    "    print('Pulling batch {} of {}.'.format(b+1, n_take))\n",
    "    image, labels = batch_output\n",
    "    dset_cfr_list.extend(list(labels['score_output'].numpy()))\n",
    "\n",
    "df_cfr = pd.DataFrame({'df': df_cfr_list,\n",
    "                       'dset': dset_cfr_list})"
   ]
  },
  {
   "cell_type": "code",
   "execution_count": 6,
   "metadata": {},
   "outputs": [
    {
     "name": "stdout",
     "output_type": "stream",
     "text": [
      "          df      dset\n",
      "0   2.404288  2.404288\n",
      "1   2.488095  2.488095\n",
      "2   1.599432  1.599432\n",
      "3   2.066356  2.066356\n",
      "4   0.870137  0.870137\n",
      "5   1.642648  1.642648\n",
      "6   1.424691  1.424691\n",
      "7   1.563758  1.563758\n",
      "8   2.404288  2.404288\n",
      "9   2.144766  2.144766\n",
      "10  1.259314  1.259314\n",
      "11  2.038288  2.038288\n",
      "12  1.647627  1.647627\n",
      "13  2.075501  2.075501\n",
      "14  2.240754  2.240754\n",
      "15  2.607143  2.607143\n",
      "16  1.309837  1.309837\n",
      "17  1.194884  1.194884\n",
      "18  1.661782  1.661783\n",
      "19  1.142522  1.142522\n",
      "20  0.679818  0.679818\n",
      "21  2.000812  2.000812\n",
      "22  0.933810  0.933810\n",
      "23  1.225256  1.225256\n",
      "24  1.939511  1.939511\n",
      "25  0.834783  0.834783\n",
      "26  1.418968  1.418968\n",
      "27  2.496112  2.496112\n",
      "28  2.385086  2.385086\n",
      "29  1.432231  1.432230\n",
      "30  1.259202  1.259202\n",
      "31  1.606000  1.606000\n",
      "32  1.412959  1.412959\n",
      "33  1.030008  1.030007\n",
      "34  2.038288  2.038288\n",
      "35  1.615126  1.615126\n",
      "36  0.987633  0.987633\n",
      "37  1.596078  1.596078\n",
      "38  3.155941  3.155941\n",
      "39  0.987633  0.987633\n",
      "40  1.057143  1.057143\n",
      "41  1.013293  1.013293\n",
      "42  1.620968  1.620968\n",
      "43  1.263273  1.263273\n",
      "44  1.966547  1.966547\n",
      "45  1.117647  1.117647\n",
      "46  1.215447  1.215447\n",
      "47  1.007547  1.007547\n",
      "48  0.863489  0.863489\n",
      "49  1.249698  1.249698\n"
     ]
    }
   ],
   "source": [
    "print(df_cfr)"
   ]
  }
 ],
 "metadata": {
  "kernelspec": {
   "display_name": "Python 3",
   "language": "python",
   "name": "python3"
  },
  "language_info": {
   "codemirror_mode": {
    "name": "ipython",
    "version": 3
   },
   "file_extension": ".py",
   "mimetype": "text/x-python",
   "name": "python",
   "nbconvert_exporter": "python",
   "pygments_lexer": "ipython3",
   "version": "3.7.7"
  }
 },
 "nbformat": 4,
 "nbformat_minor": 4
}
