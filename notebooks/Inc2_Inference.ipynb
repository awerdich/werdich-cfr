{
 "cells": [
  {
   "cell_type": "markdown",
   "metadata": {},
   "source": [
    "### Inference from a list of echo studies ###"
   ]
  },
  {
   "cell_type": "code",
   "execution_count": 1,
   "metadata": {},
   "outputs": [
    {
     "name": "stdout",
     "output_type": "stream",
     "text": [
      "TensorFlow Version: 2.2.0\n"
     ]
    }
   ],
   "source": [
    "import os\n",
    "import glob\n",
    "import pickle\n",
    "import pandas as pd\n",
    "\n",
    "# Custom imports\n",
    "from werdich_cfr.tfutils.Modeltrainer import VideoTrainer"
   ]
  },
  {
   "cell_type": "code",
   "execution_count": 3,
   "metadata": {},
   "outputs": [
    {
     "name": "stdout",
     "output_type": "stream",
     "text": [
      "Original file list: 13273 files.\n"
     ]
    }
   ],
   "source": [
    "def read_model_dict(file):\n",
    "    with open(file, 'rb') as f:\n",
    "        model_dict = pickle.load(f)\n",
    "    return model_dict\n",
    "\n",
    "# Directories and data sets\n",
    "cfr_data_root = os.path.normpath('/mnt/obi0/andreas/data/cfr')\n",
    "meta_date = '200606'\n",
    "meta_dir = os.path.join(cfr_data_root, 'metadata_'+meta_date)\n",
    "file_df_file = 'echo_BWH_npy_feather_files_'+meta_date+'.parquet'\n",
    "view = 'a4c'\n",
    "\n",
    "# echo list\n",
    "echo_list_dir = os.path.normpath('/mnt/obi0/andreas/data/cfr/predictions_echodata/SecondEchoGenetics')\n",
    "echo_list_filename = 'a4cname_MGH.txt'\n",
    "echo_list_file = os.path.join(echo_list_dir, echo_list_filename)\n",
    "echo_list = pd.read_csv(echo_list_file, header='infer', sep='\\t')\n",
    "echo_file_list = list(echo_list.names.unique())\n",
    "print(f'Original file list: {len(echo_file_list)} files.')\n",
    "\n",
    "best_models = pd.read_parquet(os.path.join(echo_list_dir, 'cfr_models_200611.parquet')).reset_index(drop=True)"
   ]
  },
  {
   "cell_type": "code",
   "execution_count": 4,
   "metadata": {},
   "outputs": [
    {
     "data": {
      "text/plain": [
       "'4f2101e60be2be_4903a44ab09602c1f5c8e634489d_Image-45.npy.lz4'"
      ]
     },
     "execution_count": 4,
     "metadata": {},
     "output_type": "execute_result"
    }
   ],
   "source": [
    "echo_list.head().names.iloc[0]"
   ]
  },
  {
   "cell_type": "code",
   "execution_count": 3,
   "metadata": {},
   "outputs": [
    {
     "name": "stdout",
     "output_type": "stream",
     "text": [
      "7860\n",
      "7705\n",
      "155\n"
     ]
    }
   ],
   "source": [
    "# Create a reduced npy_feather files to speed up the metadata collections\n",
    "\n",
    "#file_df = pd.read_parquet(os.path.join(meta_dir, file_df_file))\n",
    "#file_df_study = file_df[file_df.study.isin(study_list)]\n",
    "#file_df_study_list = list(file_df_study.study.unique())\n",
    "#print(len(study_list))\n",
    "#print(len(file_df_study_list))\n",
    "# What's missing?\n",
    "#missing_files = list(set(study_list).difference(file_df_study_list))\n",
    "#print(len(missing_files))\n",
    "\n",
    "# Save missing echo list\n",
    "#echo_list_file_missing = echo_list_filename.split('.')[0]+'_missing.parquet'\n",
    "#echo_list_missing = echo_list[echo_list.study.isin(missing_files)]\n",
    "#echo_list_missing.to_parquet(os.path.join(meta_dir, echo_list_file_missing))\n",
    "\n",
    "# Save the new list to collect the metadata\n",
    "#file_df_file_pred = os.path.join(meta_dir, 'echo_BWH_npy_feather_files_pred_'+meta_date+'.parquet')\n",
    "#file_df_study.to_parquet(file_df_file_pred)"
   ]
  },
  {
   "cell_type": "code",
   "execution_count": 5,
   "metadata": {},
   "outputs": [
    {
     "data": {
      "text/html": [
       "<div>\n",
       "<style scoped>\n",
       "    .dataframe tbody tr th:only-of-type {\n",
       "        vertical-align: middle;\n",
       "    }\n",
       "\n",
       "    .dataframe tbody tr th {\n",
       "        vertical-align: top;\n",
       "    }\n",
       "\n",
       "    .dataframe thead th {\n",
       "        text-align: right;\n",
       "    }\n",
       "</style>\n",
       "<table border=\"1\" class=\"dataframe\">\n",
       "  <thead>\n",
       "    <tr style=\"text-align: right;\">\n",
       "      <th></th>\n",
       "      <th>filename</th>\n",
       "      <th>dir</th>\n",
       "      <th>study</th>\n",
       "      <th>mrn</th>\n",
       "      <th>datetime</th>\n",
       "      <th>fileid</th>\n",
       "      <th>institution</th>\n",
       "      <th>model</th>\n",
       "      <th>manufacturer</th>\n",
       "      <th>index</th>\n",
       "      <th>frame_time</th>\n",
       "      <th>number_of_frames</th>\n",
       "      <th>heart_rate</th>\n",
       "      <th>deltaX</th>\n",
       "      <th>deltaY</th>\n",
       "      <th>a2c</th>\n",
       "      <th>a2c_laocc</th>\n",
       "      <th>a2c_lvocc_s</th>\n",
       "      <th>a3c</th>\n",
       "      <th>a3c_laocc</th>\n",
       "      <th>a3c_lvocc_s</th>\n",
       "      <th>a4c</th>\n",
       "      <th>a4c_far</th>\n",
       "      <th>a4c_laocc</th>\n",
       "      <th>a4c_lvocc_s</th>\n",
       "      <th>a4c_rv</th>\n",
       "      <th>a4c_rv_laocc</th>\n",
       "      <th>a5c</th>\n",
       "      <th>apex</th>\n",
       "      <th>other</th>\n",
       "      <th>plax_far</th>\n",
       "      <th>plax_lac</th>\n",
       "      <th>plax_laz</th>\n",
       "      <th>plax_laz_ao</th>\n",
       "      <th>plax_plax</th>\n",
       "      <th>psax_avz</th>\n",
       "      <th>psax_az</th>\n",
       "      <th>psax_mv</th>\n",
       "      <th>psax_pap</th>\n",
       "      <th>rvinf</th>\n",
       "      <th>subcostal</th>\n",
       "      <th>suprasternal</th>\n",
       "    </tr>\n",
       "  </thead>\n",
       "  <tbody>\n",
       "    <tr>\n",
       "      <th>0</th>\n",
       "      <td>48b09010a09a4b2e_4903a582ec77f16c8f7cbc7f8bf7_...</td>\n",
       "      <td>/mnt/obi0/phi/echo/npyFiles/BWH/48b0/48b09010a...</td>\n",
       "      <td>48b09010a09a4b2e_4903a582ec77f16c8f7cbc7f8bf7</td>\n",
       "      <td>35154293</td>\n",
       "      <td>2017-06-21 13:58:47</td>\n",
       "      <td>48b09010a09a4b2e_4903a582ec77f16c8f7cbc7f8bf7_...</td>\n",
       "      <td>BWH</td>\n",
       "      <td>iE33</td>\n",
       "      <td>Philips Medical Systems</td>\n",
       "      <td>0.0</td>\n",
       "      <td>63.756</td>\n",
       "      <td>46.0</td>\n",
       "      <td>64.0</td>\n",
       "      <td>0.037484</td>\n",
       "      <td>0.037484</td>\n",
       "      <td>1.825323e-12</td>\n",
       "      <td>9.551256e-10</td>\n",
       "      <td>3.902316e-12</td>\n",
       "      <td>1.877408e-12</td>\n",
       "      <td>1.445331e-10</td>\n",
       "      <td>9.478744e-12</td>\n",
       "      <td>8.755016e-05</td>\n",
       "      <td>7.889080e-11</td>\n",
       "      <td>2.352379e-15</td>\n",
       "      <td>2.875156e-11</td>\n",
       "      <td>1.463021e-10</td>\n",
       "      <td>2.815503e-12</td>\n",
       "      <td>1.344274e-09</td>\n",
       "      <td>7.833037e-14</td>\n",
       "      <td>0.999913</td>\n",
       "      <td>3.436280e-13</td>\n",
       "      <td>3.458812e-11</td>\n",
       "      <td>4.586925e-13</td>\n",
       "      <td>1.264374e-12</td>\n",
       "      <td>7.937974e-10</td>\n",
       "      <td>1.614885e-15</td>\n",
       "      <td>3.353979e-09</td>\n",
       "      <td>2.809696e-10</td>\n",
       "      <td>1.067778e-09</td>\n",
       "      <td>4.724536e-14</td>\n",
       "      <td>4.397777e-10</td>\n",
       "      <td>2.398687e-12</td>\n",
       "    </tr>\n",
       "    <tr>\n",
       "      <th>1</th>\n",
       "      <td>48b09010a09a4b2e_4903a582ec77f16c8f7cbc7f8bf7_...</td>\n",
       "      <td>/mnt/obi0/phi/echo/npyFiles/BWH/48b0/48b09010a...</td>\n",
       "      <td>48b09010a09a4b2e_4903a582ec77f16c8f7cbc7f8bf7</td>\n",
       "      <td>35154293</td>\n",
       "      <td>2017-06-21 13:58:47</td>\n",
       "      <td>48b09010a09a4b2e_4903a582ec77f16c8f7cbc7f8bf7_...</td>\n",
       "      <td>BWH</td>\n",
       "      <td>iE33</td>\n",
       "      <td>Philips Medical Systems</td>\n",
       "      <td>0.0</td>\n",
       "      <td>44.333</td>\n",
       "      <td>64.0</td>\n",
       "      <td>67.0</td>\n",
       "      <td>0.041844</td>\n",
       "      <td>0.041844</td>\n",
       "      <td>1.841953e-11</td>\n",
       "      <td>5.083539e-10</td>\n",
       "      <td>1.585738e-11</td>\n",
       "      <td>1.233755e-10</td>\n",
       "      <td>1.995799e-10</td>\n",
       "      <td>1.127267e-12</td>\n",
       "      <td>1.235251e-12</td>\n",
       "      <td>4.256902e-11</td>\n",
       "      <td>9.418960e-16</td>\n",
       "      <td>7.657971e-12</td>\n",
       "      <td>1.053997e-11</td>\n",
       "      <td>6.121281e-11</td>\n",
       "      <td>5.981390e-10</td>\n",
       "      <td>2.671665e-12</td>\n",
       "      <td>1.000000</td>\n",
       "      <td>4.888175e-14</td>\n",
       "      <td>2.039909e-12</td>\n",
       "      <td>1.602643e-13</td>\n",
       "      <td>4.351348e-11</td>\n",
       "      <td>4.508235e-10</td>\n",
       "      <td>1.274972e-14</td>\n",
       "      <td>1.103503e-11</td>\n",
       "      <td>2.001570e-10</td>\n",
       "      <td>7.542065e-08</td>\n",
       "      <td>9.852938e-14</td>\n",
       "      <td>8.525817e-11</td>\n",
       "      <td>4.462386e-11</td>\n",
       "    </tr>\n",
       "  </tbody>\n",
       "</table>\n",
       "</div>"
      ],
      "text/plain": [
       "                                            filename                                                dir                                          study       mrn            datetime                                             fileid institution model             manufacturer  index  frame_time  number_of_frames  heart_rate    deltaX    deltaY           a2c     a2c_laocc   a2c_lvocc_s           a3c     a3c_laocc   a3c_lvocc_s           a4c       a4c_far     a4c_laocc   a4c_lvocc_s        a4c_rv  a4c_rv_laocc           a5c          apex     other      plax_far      plax_lac      plax_laz   plax_laz_ao     plax_plax      psax_avz       psax_az       psax_mv      psax_pap         rvinf     subcostal  suprasternal\n",
       "0  48b09010a09a4b2e_4903a582ec77f16c8f7cbc7f8bf7_...  /mnt/obi0/phi/echo/npyFiles/BWH/48b0/48b09010a...  48b09010a09a4b2e_4903a582ec77f16c8f7cbc7f8bf7  35154293 2017-06-21 13:58:47  48b09010a09a4b2e_4903a582ec77f16c8f7cbc7f8bf7_...         BWH  iE33  Philips Medical Systems    0.0      63.756              46.0        64.0  0.037484  0.037484  1.825323e-12  9.551256e-10  3.902316e-12  1.877408e-12  1.445331e-10  9.478744e-12  8.755016e-05  7.889080e-11  2.352379e-15  2.875156e-11  1.463021e-10  2.815503e-12  1.344274e-09  7.833037e-14  0.999913  3.436280e-13  3.458812e-11  4.586925e-13  1.264374e-12  7.937974e-10  1.614885e-15  3.353979e-09  2.809696e-10  1.067778e-09  4.724536e-14  4.397777e-10  2.398687e-12\n",
       "1  48b09010a09a4b2e_4903a582ec77f16c8f7cbc7f8bf7_...  /mnt/obi0/phi/echo/npyFiles/BWH/48b0/48b09010a...  48b09010a09a4b2e_4903a582ec77f16c8f7cbc7f8bf7  35154293 2017-06-21 13:58:47  48b09010a09a4b2e_4903a582ec77f16c8f7cbc7f8bf7_...         BWH  iE33  Philips Medical Systems    0.0      44.333              64.0        67.0  0.041844  0.041844  1.841953e-11  5.083539e-10  1.585738e-11  1.233755e-10  1.995799e-10  1.127267e-12  1.235251e-12  4.256902e-11  9.418960e-16  7.657971e-12  1.053997e-11  6.121281e-11  5.981390e-10  2.671665e-12  1.000000  4.888175e-14  2.039909e-12  1.602643e-13  4.351348e-11  4.508235e-10  1.274972e-14  1.103503e-11  2.001570e-10  7.542065e-08  9.852938e-14  8.525817e-11  4.462386e-11"
      ]
     },
     "execution_count": 5,
     "metadata": {},
     "output_type": "execute_result"
    }
   ],
   "source": [
    "# Join the echo list with the meta data and filter VIEWS!!!\n",
    "meta_file = os.path.join(cfr_data_root, 'metadata_200606', 'echo_BWH_meta_200606.parquet')\n",
    "meta_df = pd.read_parquet(meta_file)\n",
    "meta_df.head(2)"
   ]
  },
  {
   "cell_type": "code",
   "execution_count": 8,
   "metadata": {},
   "outputs": [
    {
     "name": "stdout",
     "output_type": "stream",
     "text": [
      "Number of files in meta data after echo filter: 0\n",
      "(0, 42)\n",
      "\n",
      "After removal of rows without view clasification:\n",
      "Total number of patients in meta data 0\n",
      "Total number of studies 0\n",
      "Total number of files in meta data 0\n"
     ]
    }
   ],
   "source": [
    "# Filter the meta data by the echos we need\n",
    "meta_df = meta_df[meta_df.filename.isin(echo_file_list)]\n",
    "print(f'Number of files in meta data after echo filter: {len(meta_df.filename.unique())}')\n",
    "print(meta_df.shape)\n",
    "\n",
    "# Remove meta rows without view classification\n",
    "meta_df = meta_df.loc[~meta_df.a4c.isnull()]\n",
    "\n",
    "# Remove rows without frame_time\n",
    "meta_df = meta_df.loc[~meta_df.frame_time.isnull()].reset_index(drop = True)\n",
    "\n",
    "print()\n",
    "print('After removal of rows without view clasification:')\n",
    "print('Total number of patients in meta data {}'.format(len(meta_df.mrn.unique())))\n",
    "print('Total number of studies {}'.format(len(meta_df.study.unique())))\n",
    "print('Total number of files in meta data {}'.format(len(meta_df.filename.unique())))"
   ]
  },
  {
   "cell_type": "code",
   "execution_count": 15,
   "metadata": {},
   "outputs": [
    {
     "name": "stdout",
     "output_type": "stream",
     "text": [
      "Studies in data:     9415\n",
      "Total files:         26537\n",
      "\n",
      "Studies in a4c data: 9415\n",
      "Total files:         26537\n",
      "Total patients:      5945\n"
     ]
    }
   ],
   "source": [
    "view_dict = {'view_a2c': ['a2c', 'a2c_laocc', 'a2c_lvocc_s'],\n",
    "             'view_a3c': ['a3c', 'a3c_laocc', 'a3c_lvocc_s'],\n",
    "             'view_a4c': ['a4c', 'a4c_far', 'a4c_laocc', 'a4c_lvocc_s', 'a4c_rv', 'a4c_rv_laocc'],\n",
    "             'view_plax': ['plax_far', 'plax_lac', 'plax_laz', 'plax_laz_ao', 'plax_plax'],\n",
    "             'view_psax': ['psax_avz', 'psax_az', 'psax_mv', 'psax_pap'],\n",
    "             'view_other': ['other', 'a5c', 'apex', 'rvinf', 'subcostal', 'suprasternal']}\n",
    "\n",
    "# Get the maxiumum view classification score for each row\n",
    "view_list = [item for sublist in view_dict.values() for item in sublist]\n",
    "echo_meta_sum_views = meta_df.assign(max_view = meta_df[view_list].\\\n",
    "                                     idxmax(axis = 1))\n",
    "\n",
    "# Make sure that we have all views in our list and for consistency: Sum up all view columns\n",
    "echo_meta_sum_views = echo_meta_sum_views.assign(sum_views = echo_meta_sum_views[view_list].sum(axis=1))\n",
    "\n",
    "print(f'Studies in data:     {len(echo_meta_sum_views.study.unique())}')\n",
    "print(f'Total files:         {len(echo_meta_sum_views.filename.unique())}')\n",
    "\n",
    "meta_df_a4c = echo_meta_sum_views[echo_meta_sum_views.max_view==view].reset_index(drop=True)\n",
    "\n",
    "print()\n",
    "print(f'Studies in a4c data: {len(meta_df_a4c.study.unique())}')\n",
    "print(f'Total files:         {len(meta_df_a4c.filename.unique())}')\n",
    "print(f'Total patients:      {len(meta_df_a4c.mrn.unique())}')"
   ]
  },
  {
   "cell_type": "code",
   "execution_count": 16,
   "metadata": {},
   "outputs": [],
   "source": [
    "meta_a4c_filename = echo_list_filename.split('.')[0] + '_'+view+'.parquet'"
   ]
  },
  {
   "cell_type": "code",
   "execution_count": 17,
   "metadata": {},
   "outputs": [
    {
     "data": {
      "text/plain": [
       "'a4cname_BWH_a4c.parquet'"
      ]
     },
     "execution_count": 17,
     "metadata": {},
     "output_type": "execute_result"
    }
   ],
   "source": [
    "meta_a4c_filename"
   ]
  },
  {
   "cell_type": "code",
   "execution_count": 18,
   "metadata": {},
   "outputs": [
    {
     "data": {
      "text/html": [
       "<div>\n",
       "<style scoped>\n",
       "    .dataframe tbody tr th:only-of-type {\n",
       "        vertical-align: middle;\n",
       "    }\n",
       "\n",
       "    .dataframe tbody tr th {\n",
       "        vertical-align: top;\n",
       "    }\n",
       "\n",
       "    .dataframe thead th {\n",
       "        text-align: right;\n",
       "    }\n",
       "</style>\n",
       "<table border=\"1\" class=\"dataframe\">\n",
       "  <thead>\n",
       "    <tr style=\"text-align: right;\">\n",
       "      <th></th>\n",
       "      <th>filename</th>\n",
       "      <th>dir</th>\n",
       "      <th>study</th>\n",
       "      <th>mrn</th>\n",
       "      <th>datetime</th>\n",
       "      <th>fileid</th>\n",
       "      <th>institution</th>\n",
       "      <th>model</th>\n",
       "      <th>manufacturer</th>\n",
       "      <th>index</th>\n",
       "      <th>frame_time</th>\n",
       "      <th>number_of_frames</th>\n",
       "      <th>heart_rate</th>\n",
       "      <th>deltaX</th>\n",
       "      <th>deltaY</th>\n",
       "      <th>a2c</th>\n",
       "      <th>a2c_laocc</th>\n",
       "      <th>a2c_lvocc_s</th>\n",
       "      <th>a3c</th>\n",
       "      <th>a3c_laocc</th>\n",
       "      <th>a3c_lvocc_s</th>\n",
       "      <th>a4c</th>\n",
       "      <th>a4c_far</th>\n",
       "      <th>a4c_laocc</th>\n",
       "      <th>a4c_lvocc_s</th>\n",
       "      <th>a4c_rv</th>\n",
       "      <th>a4c_rv_laocc</th>\n",
       "      <th>a5c</th>\n",
       "      <th>apex</th>\n",
       "      <th>other</th>\n",
       "      <th>plax_far</th>\n",
       "      <th>plax_lac</th>\n",
       "      <th>plax_laz</th>\n",
       "      <th>plax_laz_ao</th>\n",
       "      <th>plax_plax</th>\n",
       "      <th>psax_avz</th>\n",
       "      <th>psax_az</th>\n",
       "      <th>psax_mv</th>\n",
       "      <th>psax_pap</th>\n",
       "      <th>rvinf</th>\n",
       "      <th>subcostal</th>\n",
       "      <th>suprasternal</th>\n",
       "      <th>max_view</th>\n",
       "      <th>sum_views</th>\n",
       "    </tr>\n",
       "  </thead>\n",
       "  <tbody>\n",
       "    <tr>\n",
       "      <th>0</th>\n",
       "      <td>48b09010a09a4b2e_4903a582ec77f16c8f7cbc7f8bf7_...</td>\n",
       "      <td>/mnt/obi0/phi/echo/npyFiles/BWH/48b0/48b09010a...</td>\n",
       "      <td>48b09010a09a4b2e_4903a582ec77f16c8f7cbc7f8bf7</td>\n",
       "      <td>35154293</td>\n",
       "      <td>2017-06-21 13:58:47</td>\n",
       "      <td>48b09010a09a4b2e_4903a582ec77f16c8f7cbc7f8bf7_...</td>\n",
       "      <td>BWH</td>\n",
       "      <td>iE33</td>\n",
       "      <td>Philips Medical Systems</td>\n",
       "      <td>0.0</td>\n",
       "      <td>33.333</td>\n",
       "      <td>86.0</td>\n",
       "      <td>64.0</td>\n",
       "      <td>0.037481</td>\n",
       "      <td>0.037481</td>\n",
       "      <td>3.776899e-15</td>\n",
       "      <td>1.125900e-16</td>\n",
       "      <td>3.224137e-16</td>\n",
       "      <td>1.302460e-17</td>\n",
       "      <td>7.848898e-19</td>\n",
       "      <td>5.098876e-16</td>\n",
       "      <td>1.0</td>\n",
       "      <td>1.014299e-16</td>\n",
       "      <td>6.181438e-14</td>\n",
       "      <td>4.001530e-15</td>\n",
       "      <td>8.249603e-14</td>\n",
       "      <td>7.506383e-17</td>\n",
       "      <td>1.980705e-11</td>\n",
       "      <td>1.996741e-16</td>\n",
       "      <td>2.450561e-14</td>\n",
       "      <td>2.183899e-17</td>\n",
       "      <td>3.440755e-15</td>\n",
       "      <td>1.291427e-16</td>\n",
       "      <td>2.468740e-18</td>\n",
       "      <td>1.228838e-17</td>\n",
       "      <td>1.206828e-16</td>\n",
       "      <td>9.948373e-15</td>\n",
       "      <td>4.953818e-15</td>\n",
       "      <td>9.274850e-15</td>\n",
       "      <td>3.036023e-18</td>\n",
       "      <td>2.210231e-18</td>\n",
       "      <td>2.941698e-15</td>\n",
       "      <td>a4c</td>\n",
       "      <td>1.0</td>\n",
       "    </tr>\n",
       "    <tr>\n",
       "      <th>1</th>\n",
       "      <td>48b09010a09a4b2e_4903a582ec77f16c8f7cbc7f8bf7_...</td>\n",
       "      <td>/mnt/obi0/phi/echo/npyFiles/BWH/48b0/48b09010a...</td>\n",
       "      <td>48b09010a09a4b2e_4903a582ec77f16c8f7cbc7f8bf7</td>\n",
       "      <td>35154293</td>\n",
       "      <td>2017-06-21 13:58:47</td>\n",
       "      <td>48b09010a09a4b2e_4903a582ec77f16c8f7cbc7f8bf7_...</td>\n",
       "      <td>BWH</td>\n",
       "      <td>iE33</td>\n",
       "      <td>Philips Medical Systems</td>\n",
       "      <td>0.0</td>\n",
       "      <td>33.333</td>\n",
       "      <td>87.0</td>\n",
       "      <td>66.0</td>\n",
       "      <td>0.041843</td>\n",
       "      <td>0.041843</td>\n",
       "      <td>3.274194e-18</td>\n",
       "      <td>2.229899e-15</td>\n",
       "      <td>6.499876e-17</td>\n",
       "      <td>6.389318e-19</td>\n",
       "      <td>7.796556e-19</td>\n",
       "      <td>9.509607e-18</td>\n",
       "      <td>1.0</td>\n",
       "      <td>1.160418e-16</td>\n",
       "      <td>2.514978e-15</td>\n",
       "      <td>3.065668e-16</td>\n",
       "      <td>1.090487e-14</td>\n",
       "      <td>6.611535e-17</td>\n",
       "      <td>3.245944e-15</td>\n",
       "      <td>9.960633e-16</td>\n",
       "      <td>2.744140e-16</td>\n",
       "      <td>1.558221e-18</td>\n",
       "      <td>6.892581e-17</td>\n",
       "      <td>3.179071e-16</td>\n",
       "      <td>1.023685e-19</td>\n",
       "      <td>8.421285e-18</td>\n",
       "      <td>1.718870e-17</td>\n",
       "      <td>2.774656e-15</td>\n",
       "      <td>6.060843e-16</td>\n",
       "      <td>3.451965e-14</td>\n",
       "      <td>1.964853e-18</td>\n",
       "      <td>4.619642e-19</td>\n",
       "      <td>4.186211e-17</td>\n",
       "      <td>a4c</td>\n",
       "      <td>1.0</td>\n",
       "    </tr>\n",
       "  </tbody>\n",
       "</table>\n",
       "</div>"
      ],
      "text/plain": [
       "                                            filename                                                dir                                          study       mrn            datetime                                             fileid institution model             manufacturer  index  frame_time  number_of_frames  heart_rate    deltaX    deltaY           a2c     a2c_laocc   a2c_lvocc_s           a3c     a3c_laocc   a3c_lvocc_s  a4c       a4c_far     a4c_laocc   a4c_lvocc_s        a4c_rv  a4c_rv_laocc           a5c          apex         other      plax_far      plax_lac      plax_laz   plax_laz_ao     plax_plax      psax_avz       psax_az       psax_mv      psax_pap         rvinf     subcostal  suprasternal max_view  sum_views\n",
       "0  48b09010a09a4b2e_4903a582ec77f16c8f7cbc7f8bf7_...  /mnt/obi0/phi/echo/npyFiles/BWH/48b0/48b09010a...  48b09010a09a4b2e_4903a582ec77f16c8f7cbc7f8bf7  35154293 2017-06-21 13:58:47  48b09010a09a4b2e_4903a582ec77f16c8f7cbc7f8bf7_...         BWH  iE33  Philips Medical Systems    0.0      33.333              86.0        64.0  0.037481  0.037481  3.776899e-15  1.125900e-16  3.224137e-16  1.302460e-17  7.848898e-19  5.098876e-16  1.0  1.014299e-16  6.181438e-14  4.001530e-15  8.249603e-14  7.506383e-17  1.980705e-11  1.996741e-16  2.450561e-14  2.183899e-17  3.440755e-15  1.291427e-16  2.468740e-18  1.228838e-17  1.206828e-16  9.948373e-15  4.953818e-15  9.274850e-15  3.036023e-18  2.210231e-18  2.941698e-15      a4c        1.0\n",
       "1  48b09010a09a4b2e_4903a582ec77f16c8f7cbc7f8bf7_...  /mnt/obi0/phi/echo/npyFiles/BWH/48b0/48b09010a...  48b09010a09a4b2e_4903a582ec77f16c8f7cbc7f8bf7  35154293 2017-06-21 13:58:47  48b09010a09a4b2e_4903a582ec77f16c8f7cbc7f8bf7_...         BWH  iE33  Philips Medical Systems    0.0      33.333              87.0        66.0  0.041843  0.041843  3.274194e-18  2.229899e-15  6.499876e-17  6.389318e-19  7.796556e-19  9.509607e-18  1.0  1.160418e-16  2.514978e-15  3.065668e-16  1.090487e-14  6.611535e-17  3.245944e-15  9.960633e-16  2.744140e-16  1.558221e-18  6.892581e-17  3.179071e-16  1.023685e-19  8.421285e-18  1.718870e-17  2.774656e-15  6.060843e-16  3.451965e-14  1.964853e-18  4.619642e-19  4.186211e-17      a4c        1.0"
      ]
     },
     "execution_count": 18,
     "metadata": {},
     "output_type": "execute_result"
    }
   ],
   "source": [
    "meta_a4c_filename = echo_list_filename.split('.')[0] + '_'+view+'.parquet'\n",
    "meta_a4c_file = os.path.join(echo_list_dir, meta_a4c_filename)\n",
    "meta_df_a4c.to_parquet(meta_a4c_file)\n",
    "meta_df_a4c.head(2)"
   ]
  },
  {
   "cell_type": "code",
   "execution_count": 19,
   "metadata": {},
   "outputs": [
    {
     "data": {
      "text/plain": [
       "model_name                       nondefect_a4c_dgx-1_stress_mbf_unaff\n",
       "model_output                                         stress_mbf_unaff\n",
       "epoch                                                             100\n",
       "chechkpoint_file    /mnt/obi0/andreas/data/cfr/log/nondefect_a4c_d...\n",
       "spear_cor                                                    0.446963\n",
       "spear_p                                                   1.73464e-44\n",
       "pear_cor                                                     0.440022\n",
       "pear_p                                                    5.11224e-43\n",
       "n_samples                                                         881\n",
       "dset                                                        nondefect\n",
       "view                                                              a4c\n",
       "gpu                                                             dgx-1\n",
       "Name: 0, dtype: object"
      ]
     },
     "execution_count": 19,
     "metadata": {},
     "output_type": "execute_result"
    }
   ],
   "source": [
    "model = best_models.iloc[0]\n",
    "model"
   ]
  }
 ],
 "metadata": {
  "kernelspec": {
   "display_name": "Python 3",
   "language": "python",
   "name": "python3"
  },
  "language_info": {
   "codemirror_mode": {
    "name": "ipython",
    "version": 3
   },
   "file_extension": ".py",
   "mimetype": "text/x-python",
   "name": "python",
   "nbconvert_exporter": "python",
   "pygments_lexer": "ipython3",
   "version": "3.7.7"
  }
 },
 "nbformat": 4,
 "nbformat_minor": 4
}
