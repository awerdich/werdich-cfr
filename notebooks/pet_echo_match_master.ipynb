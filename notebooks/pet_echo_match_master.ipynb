{
 "cells": [
  {
   "cell_type": "markdown",
   "metadata": {},
   "source": [
    "### Match ECHO videos with PET CFR labels ###\n",
    "Master PET-ECHO match list: All data available on FS. Need to be filtered to create data sets."
   ]
  },
  {
   "cell_type": "code",
   "execution_count": 1,
   "metadata": {},
   "outputs": [],
   "source": [
    "import os\n",
    "import pickle\n",
    "import numpy as np\n",
    "import pandas as pd\n",
    "\n",
    "pd.set_option('display.max_rows', 1000)\n",
    "pd.set_option('display.max_columns', 100)\n",
    "pd.set_option('display.width', 2000)"
   ]
  },
  {
   "cell_type": "code",
   "execution_count": 2,
   "metadata": {},
   "outputs": [
    {
     "name": "stdout",
     "output_type": "stream",
     "text": [
      "/mnt/obi0/andreas/data/cfr/metadata_200425\n"
     ]
    }
   ],
   "source": [
    "cfr_data_root = os.path.normpath('/mnt/obi0/andreas/data/cfr')\n",
    "cfr_meta_date = '200425'\n",
    "meta_dir = os.path.join(cfr_data_root, 'metadata_'+cfr_meta_date)\n",
    "print(meta_dir)"
   ]
  },
  {
   "cell_type": "markdown",
   "metadata": {},
   "source": [
    "#### PET DATA ####"
   ]
  },
  {
   "cell_type": "code",
   "execution_count": 3,
   "metadata": {},
   "outputs": [
    {
     "name": "stdout",
     "output_type": "stream",
     "text": [
      "Unique PET measurements 4136\n"
     ]
    },
    {
     "data": {
      "text/html": [
       "<div>\n",
       "<style scoped>\n",
       "    .dataframe tbody tr th:only-of-type {\n",
       "        vertical-align: middle;\n",
       "    }\n",
       "\n",
       "    .dataframe tbody tr th {\n",
       "        vertical-align: top;\n",
       "    }\n",
       "\n",
       "    .dataframe thead th {\n",
       "        text-align: right;\n",
       "    }\n",
       "</style>\n",
       "<table border=\"1\" class=\"dataframe\">\n",
       "  <thead>\n",
       "    <tr style=\"text-align: right;\">\n",
       "      <th></th>\n",
       "      <th>mrn</th>\n",
       "      <th>pet_date</th>\n",
       "      <th>petmrn_identifier</th>\n",
       "    </tr>\n",
       "  </thead>\n",
       "  <tbody>\n",
       "    <tr>\n",
       "      <th>0</th>\n",
       "      <td>7924277</td>\n",
       "      <td>2008-08-15</td>\n",
       "      <td>7924277_2008-08-15</td>\n",
       "    </tr>\n",
       "    <tr>\n",
       "      <th>1</th>\n",
       "      <td>12853099</td>\n",
       "      <td>2006-01-25</td>\n",
       "      <td>12853099_2006-01-25</td>\n",
       "    </tr>\n",
       "    <tr>\n",
       "      <th>2</th>\n",
       "      <td>20710471</td>\n",
       "      <td>2006-01-23</td>\n",
       "      <td>20710471_2006-01-23</td>\n",
       "    </tr>\n",
       "    <tr>\n",
       "      <th>3</th>\n",
       "      <td>12627030</td>\n",
       "      <td>2006-02-10</td>\n",
       "      <td>12627030_2006-02-10</td>\n",
       "    </tr>\n",
       "    <tr>\n",
       "      <th>4</th>\n",
       "      <td>15324312</td>\n",
       "      <td>2006-02-23</td>\n",
       "      <td>15324312_2006-02-23</td>\n",
       "    </tr>\n",
       "  </tbody>\n",
       "</table>\n",
       "</div>"
      ],
      "text/plain": [
       "        mrn   pet_date    petmrn_identifier\n",
       "0   7924277 2008-08-15   7924277_2008-08-15\n",
       "1  12853099 2006-01-25  12853099_2006-01-25\n",
       "2  20710471 2006-01-23  20710471_2006-01-23\n",
       "3  12627030 2006-02-10  12627030_2006-02-10\n",
       "4  15324312 2006-02-23  15324312_2006-02-23"
      ]
     },
     "execution_count": 3,
     "metadata": {},
     "output_type": "execute_result"
    }
   ],
   "source": [
    "pet_echo_file = os.path.normpath('/mnt/obi0/phi/pet/pet_cfr/pets_with_echos_all.parquet')\n",
    "pet_cols = ['mrn', 'pet_date', 'petmrn_identifier']\n",
    "pet = pd.read_parquet(pet_echo_file)\n",
    "pet = pet[pet_cols].dropna(how='all').drop_duplicates()\n",
    "pet = pet.astype({'pet_date': 'datetime64[ns]'})\n",
    "print(f'Unique PET measurements {len(pet.petmrn_identifier.unique())}')\n",
    "pet.head()"
   ]
  },
  {
   "cell_type": "markdown",
   "metadata": {},
   "source": [
    "#### PET ECHO PAIRS (Rahul's list) ####"
   ]
  },
  {
   "cell_type": "code",
   "execution_count": 4,
   "metadata": {},
   "outputs": [
    {
     "data": {
      "text/html": [
       "<div>\n",
       "<style scoped>\n",
       "    .dataframe tbody tr th:only-of-type {\n",
       "        vertical-align: middle;\n",
       "    }\n",
       "\n",
       "    .dataframe tbody tr th {\n",
       "        vertical-align: top;\n",
       "    }\n",
       "\n",
       "    .dataframe thead th {\n",
       "        text-align: right;\n",
       "    }\n",
       "</style>\n",
       "<table border=\"1\" class=\"dataframe\">\n",
       "  <thead>\n",
       "    <tr style=\"text-align: right;\">\n",
       "      <th></th>\n",
       "      <th>mrn</th>\n",
       "      <th>echo_date</th>\n",
       "      <th>pet_date</th>\n",
       "      <th>difference(days)</th>\n",
       "    </tr>\n",
       "  </thead>\n",
       "  <tbody>\n",
       "    <tr>\n",
       "      <th>0</th>\n",
       "      <td>17666439</td>\n",
       "      <td>2017-03-14</td>\n",
       "      <td>2017-07-20</td>\n",
       "      <td>128</td>\n",
       "    </tr>\n",
       "    <tr>\n",
       "      <th>1</th>\n",
       "      <td>12287447</td>\n",
       "      <td>2019-05-16</td>\n",
       "      <td>2020-01-23</td>\n",
       "      <td>252</td>\n",
       "    </tr>\n",
       "    <tr>\n",
       "      <th>2</th>\n",
       "      <td>12287447</td>\n",
       "      <td>2020-01-23</td>\n",
       "      <td>2020-01-23</td>\n",
       "      <td>0</td>\n",
       "    </tr>\n",
       "    <tr>\n",
       "      <th>3</th>\n",
       "      <td>31953938</td>\n",
       "      <td>2017-11-09</td>\n",
       "      <td>2018-08-20</td>\n",
       "      <td>284</td>\n",
       "    </tr>\n",
       "    <tr>\n",
       "      <th>4</th>\n",
       "      <td>31953938</td>\n",
       "      <td>2018-08-13</td>\n",
       "      <td>2018-08-20</td>\n",
       "      <td>7</td>\n",
       "    </tr>\n",
       "  </tbody>\n",
       "</table>\n",
       "</div>"
      ],
      "text/plain": [
       "        mrn  echo_date   pet_date  difference(days)\n",
       "0  17666439 2017-03-14 2017-07-20               128\n",
       "1  12287447 2019-05-16 2020-01-23               252\n",
       "2  12287447 2020-01-23 2020-01-23                 0\n",
       "3  31953938 2017-11-09 2018-08-20               284\n",
       "4  31953938 2018-08-13 2018-08-20                 7"
      ]
     },
     "execution_count": 4,
     "metadata": {},
     "output_type": "execute_result"
    }
   ],
   "source": [
    "match_list_file = 'bwh_2020-Feb-4_pet_365_diff.txt'\n",
    "rdf = pd.read_csv(os.path.join(cfr_data_root, match_list_file), sep = '\\t')\n",
    "rdf = rdf.astype({'echo_date': 'datetime64[ns]',\n",
    "                  'pet_date': 'datetime64[ns]'}).\\\n",
    "        rename(columns={'MRN': 'mrn'})\n",
    "rdf.head()"
   ]
  },
  {
   "cell_type": "code",
   "execution_count": 5,
   "metadata": {},
   "outputs": [],
   "source": [
    "# Join PET and PET-ECHO PAIRS tables\n",
    "pet_echo = rdf.merge(pet, on=['mrn', 'pet_date'], how='left')"
   ]
  },
  {
   "cell_type": "code",
   "execution_count": 6,
   "metadata": {},
   "outputs": [
    {
     "name": "stdout",
     "output_type": "stream",
     "text": [
      "mrn-pet_date pairs without echo_date: 196\n",
      "mrn-pet_dates with echo_dates: 7227\n",
      "PET studies 3791\n"
     ]
    }
   ],
   "source": [
    "# Those rows that do not have the petmrn_identifier did not have a match mrn_pet_date with Rahul's list\n",
    "pet_echo_noID = pet_echo.loc[pet_echo.petmrn_identifier.isnull()]\n",
    "pet_echo_noID.head()\n",
    "print(f'mrn-pet_date pairs without echo_date: {pet_echo_noID.shape[0]}')\n",
    "# Let's save those\n",
    "filename = 'missingPET.parquet'\n",
    "pet_echo_noID.to_parquet(os.path.join(meta_dir, filename))\n",
    "# Let's focus on those mrn-pet_date pairs that were identified by Rahul\n",
    "pet2 = pet_echo.loc[~pet_echo.petmrn_identifier.isnull()]\n",
    "print(f'mrn-pet_dates with echo_dates: {pet2.shape[0]}')\n",
    "print(f'PET studies {len(pet2.petmrn_identifier.unique())}')"
   ]
  },
  {
   "cell_type": "markdown",
   "metadata": {},
   "source": [
    "#### NPY ECHO FILES ####\n",
    "This is a data frame that contains the filenames, MRNs and dates of all echo studies"
   ]
  },
  {
   "cell_type": "code",
   "execution_count": 7,
   "metadata": {},
   "outputs": [
    {
     "name": "stdout",
     "output_type": "stream",
     "text": [
      "echo_npyFiles_BWH_200425.parquet\n",
      "Number of npy files: 1390741\n",
      "Unique echo studies: 27746\n",
      "Unique patients:     16579\n",
      "\n"
     ]
    }
   ],
   "source": [
    "echo_files_name = 'echo_npyFiles_BWH_'+cfr_meta_date+'.parquet'\n",
    "echo = pd.read_parquet(os.path.join(meta_dir, echo_files_name))\n",
    "echo = echo.assign(echo_study_date = echo.datetime.dt.date,\n",
    "                   echo_study_time = echo.datetime.dt.time)\n",
    "\n",
    "echo = echo.astype({'mrn': 'int64',\n",
    "                    'echo_study_date': 'datetime64[ns]'})\n",
    "\n",
    "print(echo_files_name)\n",
    "print('Number of npy files: {}'.format(len(echo.filename.unique())))\n",
    "print('Unique echo studies: {}'.format(len(echo.study.unique())))\n",
    "print('Unique patients:     {}'.format(len(echo.mrn.unique())))\n",
    "print()\n",
    "\n",
    "# For matching dates with PET, we only need the studies\n",
    "# So we can greatly reduce this data frame\n",
    "echo = echo[['study', 'mrn', 'echo_study_date']].drop_duplicates().reset_index(drop = True).\\\n",
    "    sort_values(by = 'mrn', ascending = True)"
   ]
  },
  {
   "cell_type": "code",
   "execution_count": 8,
   "metadata": {},
   "outputs": [
    {
     "data": {
      "text/html": [
       "<div>\n",
       "<style scoped>\n",
       "    .dataframe tbody tr th:only-of-type {\n",
       "        vertical-align: middle;\n",
       "    }\n",
       "\n",
       "    .dataframe tbody tr th {\n",
       "        vertical-align: top;\n",
       "    }\n",
       "\n",
       "    .dataframe thead th {\n",
       "        text-align: right;\n",
       "    }\n",
       "</style>\n",
       "<table border=\"1\" class=\"dataframe\">\n",
       "  <thead>\n",
       "    <tr style=\"text-align: right;\">\n",
       "      <th></th>\n",
       "      <th>study</th>\n",
       "      <th>mrn</th>\n",
       "      <th>echo_study_date</th>\n",
       "    </tr>\n",
       "  </thead>\n",
       "  <tbody>\n",
       "    <tr>\n",
       "      <th>3956</th>\n",
       "      <td>4b7b463ae45ad0e0_4903a585842a266f561aee3f563e</td>\n",
       "      <td>9241</td>\n",
       "      <td>2010-04-02</td>\n",
       "    </tr>\n",
       "    <tr>\n",
       "      <th>3951</th>\n",
       "      <td>4b7b463ae45ad0e0_4903a585842f436837ee2e0d9dd5</td>\n",
       "      <td>9241</td>\n",
       "      <td>2010-01-26</td>\n",
       "    </tr>\n",
       "    <tr>\n",
       "      <th>4040</th>\n",
       "      <td>4b7b463e0550e9de_4903a58051d59d426fe452739a29</td>\n",
       "      <td>41723</td>\n",
       "      <td>2015-11-03</td>\n",
       "    </tr>\n",
       "    <tr>\n",
       "      <th>3962</th>\n",
       "      <td>4b7b463fc2f49a36_4903a58dd5465407d53d20ba3790</td>\n",
       "      <td>51599</td>\n",
       "      <td>2018-05-22</td>\n",
       "    </tr>\n",
       "    <tr>\n",
       "      <th>3971</th>\n",
       "      <td>4b7b463fc2f49a36_4903a58793b43bb4bb1078d62f4e</td>\n",
       "      <td>51599</td>\n",
       "      <td>2012-03-08</td>\n",
       "    </tr>\n",
       "  </tbody>\n",
       "</table>\n",
       "</div>"
      ],
      "text/plain": [
       "                                              study    mrn echo_study_date\n",
       "3956  4b7b463ae45ad0e0_4903a585842a266f561aee3f563e   9241      2010-04-02\n",
       "3951  4b7b463ae45ad0e0_4903a585842f436837ee2e0d9dd5   9241      2010-01-26\n",
       "4040  4b7b463e0550e9de_4903a58051d59d426fe452739a29  41723      2015-11-03\n",
       "3962  4b7b463fc2f49a36_4903a58dd5465407d53d20ba3790  51599      2018-05-22\n",
       "3971  4b7b463fc2f49a36_4903a58793b43bb4bb1078d62f4e  51599      2012-03-08"
      ]
     },
     "execution_count": 8,
     "metadata": {},
     "output_type": "execute_result"
    }
   ],
   "source": [
    "echo.head()"
   ]
  },
  {
   "cell_type": "markdown",
   "metadata": {},
   "source": [
    "#### PET STUDIES + NPY ECHO DATA merged on mrn only ####"
   ]
  },
  {
   "cell_type": "code",
   "execution_count": 11,
   "metadata": {
    "scrolled": false
   },
   "outputs": [],
   "source": [
    "pet_study = pet2.merge(right = echo, on = 'mrn', how = 'left')"
   ]
  },
  {
   "cell_type": "code",
   "execution_count": 12,
   "metadata": {},
   "outputs": [
    {
     "name": "stdout",
     "output_type": "stream",
     "text": [
      "mrns with PET total:       3498\n",
      "mrns with PET but no echo: 618\n",
      "mrns with PET and echo:    2880\n"
     ]
    }
   ],
   "source": [
    "mrns_without_echo = pet_study.loc[pet_study.study.isnull()]\n",
    "mrns_without_echo = mrns_without_echo.drop(axis=1, columns=['study', 'echo_study_date']).drop_duplicates()\n",
    "print(f'mrns with PET total:       {len(pet2.mrn.unique())}')\n",
    "print(f'mrns with PET but no echo: {len(mrns_without_echo.mrn.unique())}')\n",
    "mrns_without_echo.head()\n",
    "filename='MRNs_without_echo.parquet'\n",
    "mrns_without_echo.to_parquet(os.path.join(meta_dir, filename))\n",
    "\n",
    "# OK let's drop all rows where we dont have echo studies\n",
    "pet_study = pet_study.loc[~pet_study.study.isnull()]\n",
    "print(f'mrns with PET and echo:    {len(pet_study.mrn.unique())}')"
   ]
  },
  {
   "cell_type": "code",
   "execution_count": 13,
   "metadata": {},
   "outputs": [
    {
     "data": {
      "text/html": [
       "<div>\n",
       "<style scoped>\n",
       "    .dataframe tbody tr th:only-of-type {\n",
       "        vertical-align: middle;\n",
       "    }\n",
       "\n",
       "    .dataframe tbody tr th {\n",
       "        vertical-align: top;\n",
       "    }\n",
       "\n",
       "    .dataframe thead th {\n",
       "        text-align: right;\n",
       "    }\n",
       "</style>\n",
       "<table border=\"1\" class=\"dataframe\">\n",
       "  <thead>\n",
       "    <tr style=\"text-align: right;\">\n",
       "      <th></th>\n",
       "      <th>mrn</th>\n",
       "      <th>echo_date</th>\n",
       "      <th>pet_date</th>\n",
       "      <th>difference(days)</th>\n",
       "      <th>petmrn_identifier</th>\n",
       "      <th>study</th>\n",
       "      <th>echo_study_date</th>\n",
       "    </tr>\n",
       "  </thead>\n",
       "  <tbody>\n",
       "    <tr>\n",
       "      <th>1151</th>\n",
       "      <td>39835152</td>\n",
       "      <td>2019-06-14</td>\n",
       "      <td>2019-09-10</td>\n",
       "      <td>88</td>\n",
       "      <td>39835152_2019-09-10</td>\n",
       "      <td>48bca16ebb9f79e9_4903a58c1bc8b8b4edc2ff652898</td>\n",
       "      <td>2019-07-29</td>\n",
       "    </tr>\n",
       "    <tr>\n",
       "      <th>1152</th>\n",
       "      <td>39835152</td>\n",
       "      <td>2019-06-14</td>\n",
       "      <td>2019-09-10</td>\n",
       "      <td>88</td>\n",
       "      <td>39835152_2019-09-10</td>\n",
       "      <td>48bca16ebb9f79e9_4903a58c1bc99380baa33591b299</td>\n",
       "      <td>2019-06-14</td>\n",
       "    </tr>\n",
       "    <tr>\n",
       "      <th>1153</th>\n",
       "      <td>39835152</td>\n",
       "      <td>2019-07-29</td>\n",
       "      <td>2019-09-10</td>\n",
       "      <td>43</td>\n",
       "      <td>39835152_2019-09-10</td>\n",
       "      <td>48bca16ebb9f79e9_4903a58c1bc8b8b4edc2ff652898</td>\n",
       "      <td>2019-07-29</td>\n",
       "    </tr>\n",
       "    <tr>\n",
       "      <th>1154</th>\n",
       "      <td>39835152</td>\n",
       "      <td>2019-07-29</td>\n",
       "      <td>2019-09-10</td>\n",
       "      <td>43</td>\n",
       "      <td>39835152_2019-09-10</td>\n",
       "      <td>48bca16ebb9f79e9_4903a58c1bc99380baa33591b299</td>\n",
       "      <td>2019-06-14</td>\n",
       "    </tr>\n",
       "  </tbody>\n",
       "</table>\n",
       "</div>"
      ],
      "text/plain": [
       "           mrn  echo_date   pet_date  difference(days)    petmrn_identifier                                          study echo_study_date\n",
       "1151  39835152 2019-06-14 2019-09-10                88  39835152_2019-09-10  48bca16ebb9f79e9_4903a58c1bc8b8b4edc2ff652898      2019-07-29\n",
       "1152  39835152 2019-06-14 2019-09-10                88  39835152_2019-09-10  48bca16ebb9f79e9_4903a58c1bc99380baa33591b299      2019-06-14\n",
       "1153  39835152 2019-07-29 2019-09-10                43  39835152_2019-09-10  48bca16ebb9f79e9_4903a58c1bc8b8b4edc2ff652898      2019-07-29\n",
       "1154  39835152 2019-07-29 2019-09-10                43  39835152_2019-09-10  48bca16ebb9f79e9_4903a58c1bc99380baa33591b299      2019-06-14"
      ]
     },
     "execution_count": 13,
     "metadata": {},
     "output_type": "execute_result"
    }
   ],
   "source": [
    "# Now we need to match pet_date and echo_dates (we have two echo dates from the merge with .npy files)\n",
    "pet_study[pet_study.mrn==39835152]"
   ]
  },
  {
   "cell_type": "markdown",
   "metadata": {},
   "source": [
    "### Match ECHO study with PET reportID  ###\n",
    "Goal:\n",
    "Find a PET study for each echo video taken from the closest PET measurement.\n",
    "Requirement: We want to pick the most recent CFR measurments for each echo that is not older than 365 days.\n",
    "For this, we need a data frame that contains for a given MRN:\n",
    "\n",
    "- All echo studies for this patient\n",
    "- A date for each echo study\n",
    "- All pet reports for that patient\n",
    "- Date for each pet report"
   ]
  },
  {
   "cell_type": "code",
   "execution_count": 14,
   "metadata": {},
   "outputs": [],
   "source": [
    "df = pet_study.copy()\n",
    "mrn=39835152\n",
    "df_mrn = df[df.mrn == mrn]\n",
    "echo_study_list = list(df_mrn.study.unique())\n",
    "study = echo_study_list[0]\n",
    "echo_study_date = df_mrn[df_mrn.study == study].echo_study_date.values[0]\n",
    "pet_dates = df_mrn[['petmrn_identifier', 'pet_date']].groupby('petmrn_identifier').first().reset_index(drop=False)\n",
    "pet_dates = df_mrn[['petmrn_identifier', 'pet_date']].groupby('petmrn_identifier').first().reset_index(drop=False)\n",
    "pet_dates = pet_dates.assign(days_post_pet=(echo_study_date-pet_dates.pet_date).dt.days)\n",
    "pet_dates = pet_dates.assign(days_abs = np.abs(pet_dates.days_post_pet))\n",
    "ser = pet_dates.loc[pet_dates.days_abs.idxmin()]"
   ]
  },
  {
   "cell_type": "code",
   "execution_count": 15,
   "metadata": {},
   "outputs": [
    {
     "data": {
      "text/html": [
       "<div>\n",
       "<style scoped>\n",
       "    .dataframe tbody tr th:only-of-type {\n",
       "        vertical-align: middle;\n",
       "    }\n",
       "\n",
       "    .dataframe tbody tr th {\n",
       "        vertical-align: top;\n",
       "    }\n",
       "\n",
       "    .dataframe thead th {\n",
       "        text-align: right;\n",
       "    }\n",
       "</style>\n",
       "<table border=\"1\" class=\"dataframe\">\n",
       "  <thead>\n",
       "    <tr style=\"text-align: right;\">\n",
       "      <th></th>\n",
       "      <th>petmrn_identifier</th>\n",
       "      <th>pet_date</th>\n",
       "      <th>days_post_pet</th>\n",
       "      <th>days_abs</th>\n",
       "    </tr>\n",
       "  </thead>\n",
       "  <tbody>\n",
       "    <tr>\n",
       "      <th>0</th>\n",
       "      <td>39835152_2019-09-10</td>\n",
       "      <td>2019-09-10</td>\n",
       "      <td>-43</td>\n",
       "      <td>43</td>\n",
       "    </tr>\n",
       "  </tbody>\n",
       "</table>\n",
       "</div>"
      ],
      "text/plain": [
       "     petmrn_identifier   pet_date  days_post_pet  days_abs\n",
       "0  39835152_2019-09-10 2019-09-10            -43        43"
      ]
     },
     "execution_count": 15,
     "metadata": {},
     "output_type": "execute_result"
    }
   ],
   "source": [
    "pet_dates"
   ]
  },
  {
   "cell_type": "code",
   "execution_count": 16,
   "metadata": {},
   "outputs": [],
   "source": [
    "def match_pet_echo(df):\n",
    "    \"\"\" \n",
    "    Determine the earliest PET measurement for all studies\n",
    "    \"\"\"\n",
    "\n",
    "    # Loop through all MRNs in df_pet_echo\n",
    "    mrn_list = sorted(list(df.mrn.unique()))\n",
    "    cfr_echo_days = pd.DataFrame()\n",
    "    for m, mrn in enumerate(mrn_list):\n",
    "\n",
    "        if (m+1)%200==0:\n",
    "            print('Processing MRN {} of {}'.format(m+1, len(mrn_list)))\n",
    "\n",
    "        df_mrn = df[df.mrn == mrn]\n",
    "        echo_study_list = list(df_mrn.study.unique())\n",
    "\n",
    "        # Loop through all echo studies for this MRN\n",
    "        for study in echo_study_list:\n",
    "            echo_study_date = df_mrn[df_mrn.study == study].echo_study_date.values[0]\n",
    "\n",
    "            # Find all pet dates for this patient and add the difference to the echo dates\n",
    "            pet_dates = df_mrn[['petmrn_identifier', 'pet_date']].groupby('petmrn_identifier').first().reset_index(drop=False)\n",
    "            pet_dates = pet_dates.assign(days_post_pet=(echo_study_date-pet_dates.pet_date).dt.days)\n",
    "            pet_dates = pet_dates.assign(days_abs = np.abs(pet_dates.days_post_pet))\n",
    "            ser = pet_dates.loc[pet_dates.days_abs.idxmin()]\n",
    "\n",
    "            # We can return the reportID and the days of the earliest pet study\n",
    "            study_dict = {'mrn': [mrn],\n",
    "                          'study': [study],\n",
    "                          'pet_date': [ser.pet_date],\n",
    "                          'echo_date': [echo_study_date],\n",
    "                          'petmrn_identifier': [ser.petmrn_identifier],\n",
    "                          'days_post_pet': [ser.days_post_pet]}\n",
    "            cfr_echo_days = pd.concat([cfr_echo_days, pd.DataFrame(study_dict)], ignore_index=True)\n",
    "    \n",
    "    return cfr_echo_days"
   ]
  },
  {
   "cell_type": "code",
   "execution_count": 17,
   "metadata": {},
   "outputs": [
    {
     "name": "stdout",
     "output_type": "stream",
     "text": [
      "Processing MRN 200 of 2880\n",
      "Processing MRN 400 of 2880\n",
      "Processing MRN 600 of 2880\n",
      "Processing MRN 800 of 2880\n",
      "Processing MRN 1000 of 2880\n",
      "Processing MRN 1200 of 2880\n",
      "Processing MRN 1400 of 2880\n",
      "Processing MRN 1600 of 2880\n",
      "Processing MRN 1800 of 2880\n",
      "Processing MRN 2000 of 2880\n",
      "Processing MRN 2200 of 2880\n",
      "Processing MRN 2400 of 2880\n",
      "Processing MRN 2600 of 2880\n",
      "Processing MRN 2800 of 2880\n"
     ]
    }
   ],
   "source": [
    "pet_echo_days = match_pet_echo(pet_study)"
   ]
  },
  {
   "cell_type": "markdown",
   "metadata": {},
   "source": [
    "Here, we have picked the closest PET date for all echo studies for this mrn. And the closest PET date was the same for all echos. Therefore, PET scans that occurred earlier that do not have an echo that is closer, will disappear."
   ]
  },
  {
   "cell_type": "code",
   "execution_count": 18,
   "metadata": {},
   "outputs": [
    {
     "data": {
      "text/html": [
       "<div>\n",
       "<style scoped>\n",
       "    .dataframe tbody tr th:only-of-type {\n",
       "        vertical-align: middle;\n",
       "    }\n",
       "\n",
       "    .dataframe tbody tr th {\n",
       "        vertical-align: top;\n",
       "    }\n",
       "\n",
       "    .dataframe thead th {\n",
       "        text-align: right;\n",
       "    }\n",
       "</style>\n",
       "<table border=\"1\" class=\"dataframe\">\n",
       "  <thead>\n",
       "    <tr style=\"text-align: right;\">\n",
       "      <th></th>\n",
       "      <th>mrn</th>\n",
       "      <th>study</th>\n",
       "      <th>pet_date</th>\n",
       "      <th>echo_date</th>\n",
       "      <th>petmrn_identifier</th>\n",
       "      <th>days_post_pet</th>\n",
       "    </tr>\n",
       "  </thead>\n",
       "  <tbody>\n",
       "    <tr>\n",
       "      <th>5566</th>\n",
       "      <td>39835152</td>\n",
       "      <td>48bca16ebb9f79e9_4903a58c1bc8b8b4edc2ff652898</td>\n",
       "      <td>2019-09-10</td>\n",
       "      <td>2019-07-29</td>\n",
       "      <td>39835152_2019-09-10</td>\n",
       "      <td>-43</td>\n",
       "    </tr>\n",
       "    <tr>\n",
       "      <th>5567</th>\n",
       "      <td>39835152</td>\n",
       "      <td>48bca16ebb9f79e9_4903a58c1bc99380baa33591b299</td>\n",
       "      <td>2019-09-10</td>\n",
       "      <td>2019-06-14</td>\n",
       "      <td>39835152_2019-09-10</td>\n",
       "      <td>-88</td>\n",
       "    </tr>\n",
       "  </tbody>\n",
       "</table>\n",
       "</div>"
      ],
      "text/plain": [
       "           mrn                                          study   pet_date  echo_date    petmrn_identifier  days_post_pet\n",
       "5566  39835152  48bca16ebb9f79e9_4903a58c1bc8b8b4edc2ff652898 2019-09-10 2019-07-29  39835152_2019-09-10            -43\n",
       "5567  39835152  48bca16ebb9f79e9_4903a58c1bc99380baa33591b299 2019-09-10 2019-06-14  39835152_2019-09-10            -88"
      ]
     },
     "execution_count": 18,
     "metadata": {},
     "output_type": "execute_result"
    }
   ],
   "source": [
    "pet_echo_days[pet_echo_days.mrn==mrn]"
   ]
  },
  {
   "cell_type": "code",
   "execution_count": 19,
   "metadata": {},
   "outputs": [
    {
     "data": {
      "text/html": [
       "<div>\n",
       "<style scoped>\n",
       "    .dataframe tbody tr th:only-of-type {\n",
       "        vertical-align: middle;\n",
       "    }\n",
       "\n",
       "    .dataframe tbody tr th {\n",
       "        vertical-align: top;\n",
       "    }\n",
       "\n",
       "    .dataframe thead th {\n",
       "        text-align: right;\n",
       "    }\n",
       "</style>\n",
       "<table border=\"1\" class=\"dataframe\">\n",
       "  <thead>\n",
       "    <tr style=\"text-align: right;\">\n",
       "      <th></th>\n",
       "      <th>mrn</th>\n",
       "      <th>echo_date</th>\n",
       "      <th>pet_date</th>\n",
       "      <th>difference(days)</th>\n",
       "      <th>petmrn_identifier</th>\n",
       "    </tr>\n",
       "  </thead>\n",
       "  <tbody>\n",
       "    <tr>\n",
       "      <th>0</th>\n",
       "      <td>17666439</td>\n",
       "      <td>2017-03-14</td>\n",
       "      <td>2017-07-20</td>\n",
       "      <td>128</td>\n",
       "      <td>17666439_2017-07-20</td>\n",
       "    </tr>\n",
       "    <tr>\n",
       "      <th>1</th>\n",
       "      <td>12287447</td>\n",
       "      <td>2019-05-16</td>\n",
       "      <td>2020-01-23</td>\n",
       "      <td>252</td>\n",
       "      <td>12287447_2020-01-23</td>\n",
       "    </tr>\n",
       "    <tr>\n",
       "      <th>2</th>\n",
       "      <td>12287447</td>\n",
       "      <td>2020-01-23</td>\n",
       "      <td>2020-01-23</td>\n",
       "      <td>0</td>\n",
       "      <td>12287447_2020-01-23</td>\n",
       "    </tr>\n",
       "    <tr>\n",
       "      <th>3</th>\n",
       "      <td>31953938</td>\n",
       "      <td>2017-11-09</td>\n",
       "      <td>2018-08-20</td>\n",
       "      <td>284</td>\n",
       "      <td>31953938_2018-08-20</td>\n",
       "    </tr>\n",
       "    <tr>\n",
       "      <th>4</th>\n",
       "      <td>31953938</td>\n",
       "      <td>2018-08-13</td>\n",
       "      <td>2018-08-20</td>\n",
       "      <td>7</td>\n",
       "      <td>31953938_2018-08-20</td>\n",
       "    </tr>\n",
       "  </tbody>\n",
       "</table>\n",
       "</div>"
      ],
      "text/plain": [
       "        mrn  echo_date   pet_date  difference(days)    petmrn_identifier\n",
       "0  17666439 2017-03-14 2017-07-20               128  17666439_2017-07-20\n",
       "1  12287447 2019-05-16 2020-01-23               252  12287447_2020-01-23\n",
       "2  12287447 2020-01-23 2020-01-23                 0  12287447_2020-01-23\n",
       "3  31953938 2017-11-09 2018-08-20               284  31953938_2018-08-20\n",
       "4  31953938 2018-08-13 2018-08-20                 7  31953938_2018-08-20"
      ]
     },
     "execution_count": 19,
     "metadata": {},
     "output_type": "execute_result"
    }
   ],
   "source": [
    "pet2.head()"
   ]
  },
  {
   "cell_type": "code",
   "execution_count": 20,
   "metadata": {},
   "outputs": [
    {
     "name": "stdout",
     "output_type": "stream",
     "text": [
      "PET studies before match with echo: 3791\n",
      "PET studies after match with echo:  3001\n",
      "mrns in original PET file:          3516\n",
      "mrns in original match file:        3498\n",
      "mrns with PET and echo after match: 2880\n"
     ]
    }
   ],
   "source": [
    "# I still want to know how this match compares to Rahu's original match list\n",
    "pet_echo_matched = pet_echo_days.merge(pet2, on = ['mrn', 'echo_date', 'pet_date', 'petmrn_identifier'], how='left')\n",
    "pet_echo_matched = pet_echo_matched.sort_values(by='mrn').reset_index(drop=True)\n",
    "pet_echo_matched.head(20)\n",
    "print(f'PET studies before match with echo: {len(pet2.petmrn_identifier.unique())}')\n",
    "print(f'PET studies after match with echo:  {len(pet_echo_matched.petmrn_identifier.unique())}')\n",
    "# After match there are fewer PET studies because we only picked the closest PET measurment for each echo\n",
    "print(f'mrns in original PET file:          {len(pet.mrn.unique())}')\n",
    "print(f'mrns in original match file:        {len(pet2.mrn.unique())}')\n",
    "print(f'mrns with PET and echo after match: {len(pet_echo_matched.mrn.unique())}')"
   ]
  },
  {
   "cell_type": "code",
   "execution_count": 21,
   "metadata": {},
   "outputs": [
    {
     "name": "stdout",
     "output_type": "stream",
     "text": [
      "PET studies in originial match list: 3791\n",
      "PET studies in new match list:       3001\n",
      "Total ECHO studies in match list:    5574\n"
     ]
    }
   ],
   "source": [
    "print(f'PET studies in originial match list: {len(pet2.petmrn_identifier.unique())}')\n",
    "print(f'PET studies in new match list:       {len(pet_echo_matched.petmrn_identifier.unique())}')\n",
    "print(f'Total ECHO studies in match list:    {len(pet_echo_matched.study.unique())}')"
   ]
  },
  {
   "cell_type": "code",
   "execution_count": 22,
   "metadata": {},
   "outputs": [
    {
     "data": {
      "text/html": [
       "<div>\n",
       "<style scoped>\n",
       "    .dataframe tbody tr th:only-of-type {\n",
       "        vertical-align: middle;\n",
       "    }\n",
       "\n",
       "    .dataframe tbody tr th {\n",
       "        vertical-align: top;\n",
       "    }\n",
       "\n",
       "    .dataframe thead th {\n",
       "        text-align: right;\n",
       "    }\n",
       "</style>\n",
       "<table border=\"1\" class=\"dataframe\">\n",
       "  <thead>\n",
       "    <tr style=\"text-align: right;\">\n",
       "      <th></th>\n",
       "      <th>mrn</th>\n",
       "      <th>study</th>\n",
       "      <th>pet_date</th>\n",
       "      <th>echo_date</th>\n",
       "      <th>petmrn_identifier</th>\n",
       "      <th>days_post_pet</th>\n",
       "      <th>difference(days)</th>\n",
       "    </tr>\n",
       "  </thead>\n",
       "  <tbody>\n",
       "    <tr>\n",
       "      <th>5452</th>\n",
       "      <td>35169325</td>\n",
       "      <td>48b09013185d7d6b_4903a582ec77f16c8e735c3b6113</td>\n",
       "      <td>2017-05-22</td>\n",
       "      <td>2017-06-21</td>\n",
       "      <td>35169325_2017-05-22</td>\n",
       "      <td>30</td>\n",
       "      <td>30.0</td>\n",
       "    </tr>\n",
       "    <tr>\n",
       "      <th>5450</th>\n",
       "      <td>35133560</td>\n",
       "      <td>48b09016b25a7f36_4903a58dd44b7b81d524809aba5f</td>\n",
       "      <td>2018-04-25</td>\n",
       "      <td>2018-11-02</td>\n",
       "      <td>35133560_2018-04-25</td>\n",
       "      <td>191</td>\n",
       "      <td>191.0</td>\n",
       "    </tr>\n",
       "    <tr>\n",
       "      <th>5446</th>\n",
       "      <td>35014216</td>\n",
       "      <td>48b091b44637c987_4903a58c1bcb23767fc2818c6e63</td>\n",
       "      <td>2018-05-08</td>\n",
       "      <td>2019-04-25</td>\n",
       "      <td>35014216_2018-05-08</td>\n",
       "      <td>352</td>\n",
       "      <td>352.0</td>\n",
       "    </tr>\n",
       "    <tr>\n",
       "      <th>5448</th>\n",
       "      <td>35034941</td>\n",
       "      <td>48b091b6184a771a_4903a582ec751999e07cf30ae81a</td>\n",
       "      <td>2017-04-17</td>\n",
       "      <td>2017-04-18</td>\n",
       "      <td>35034941_2017-04-17</td>\n",
       "      <td>1</td>\n",
       "      <td>1.0</td>\n",
       "    </tr>\n",
       "    <tr>\n",
       "      <th>5447</th>\n",
       "      <td>35029545</td>\n",
       "      <td>48b091b714b41ffe_4903a582ec746dce5e9b6c1f4070</td>\n",
       "      <td>2017-07-24</td>\n",
       "      <td>2017-05-16</td>\n",
       "      <td>35029545_2017-07-24</td>\n",
       "      <td>-69</td>\n",
       "      <td>69.0</td>\n",
       "    </tr>\n",
       "  </tbody>\n",
       "</table>\n",
       "</div>"
      ],
      "text/plain": [
       "           mrn                                          study   pet_date  echo_date    petmrn_identifier  days_post_pet  difference(days)\n",
       "5452  35169325  48b09013185d7d6b_4903a582ec77f16c8e735c3b6113 2017-05-22 2017-06-21  35169325_2017-05-22             30              30.0\n",
       "5450  35133560  48b09016b25a7f36_4903a58dd44b7b81d524809aba5f 2018-04-25 2018-11-02  35133560_2018-04-25            191             191.0\n",
       "5446  35014216  48b091b44637c987_4903a58c1bcb23767fc2818c6e63 2018-05-08 2019-04-25  35014216_2018-05-08            352             352.0\n",
       "5448  35034941  48b091b6184a771a_4903a582ec751999e07cf30ae81a 2017-04-17 2017-04-18  35034941_2017-04-17              1               1.0\n",
       "5447  35029545  48b091b714b41ffe_4903a582ec746dce5e9b6c1f4070 2017-07-24 2017-05-16  35029545_2017-07-24            -69              69.0"
      ]
     },
     "execution_count": 22,
     "metadata": {},
     "output_type": "execute_result"
    }
   ],
   "source": [
    "# Filter echo studies that do not have a PET within 365 days\n",
    "pet_echo_matched_365 = pet_echo_matched.assign(abs_pet_days = np.abs(pet_echo_matched.days_post_pet))\n",
    "pet_echo_matched_365 = pet_echo_matched_365[pet_echo_matched_365.abs_pet_days<=365].drop(columns = ['abs_pet_days'])\n",
    "pet_echo_matched_365 = pet_echo_matched_365.sort_values(by = 'study')\n",
    "pet_echo_matched_365.head()"
   ]
  },
  {
   "cell_type": "code",
   "execution_count": 23,
   "metadata": {},
   "outputs": [
    {
     "name": "stdout",
     "output_type": "stream",
     "text": [
      "mrns before 365 filter:        2880\n",
      "mrns after 365 filter:         2719\n",
      "\n",
      "echo studies before 365 filter:5574\n",
      "echo studies after 365 filter: 4143\n"
     ]
    }
   ],
   "source": [
    "# After the match, do we have the same number of patients\n",
    "print(f'mrns before 365 filter:        {len(pet_echo_matched.mrn.unique())}')\n",
    "print(f'mrns after 365 filter:         {len(pet_echo_matched_365.mrn.unique())}')\n",
    "print()\n",
    "print(f'echo studies before 365 filter:{len(pet_echo_matched.study.unique())}')\n",
    "print(f'echo studies after 365 filter: {len(pet_echo_matched_365.study.unique())}')"
   ]
  },
  {
   "cell_type": "code",
   "execution_count": 24,
   "metadata": {},
   "outputs": [
    {
     "data": {
      "text/html": [
       "<div>\n",
       "<style scoped>\n",
       "    .dataframe tbody tr th:only-of-type {\n",
       "        vertical-align: middle;\n",
       "    }\n",
       "\n",
       "    .dataframe tbody tr th {\n",
       "        vertical-align: top;\n",
       "    }\n",
       "\n",
       "    .dataframe thead th {\n",
       "        text-align: right;\n",
       "    }\n",
       "</style>\n",
       "<table border=\"1\" class=\"dataframe\">\n",
       "  <thead>\n",
       "    <tr style=\"text-align: right;\">\n",
       "      <th></th>\n",
       "      <th>mrn</th>\n",
       "      <th>study</th>\n",
       "      <th>pet_date</th>\n",
       "      <th>echo_date</th>\n",
       "      <th>petmrn_identifier</th>\n",
       "      <th>days_post_pet</th>\n",
       "      <th>difference(days)</th>\n",
       "    </tr>\n",
       "  </thead>\n",
       "  <tbody>\n",
       "    <tr>\n",
       "      <th>5452</th>\n",
       "      <td>35169325</td>\n",
       "      <td>48b09013185d7d6b_4903a582ec77f16c8e735c3b6113</td>\n",
       "      <td>2017-05-22</td>\n",
       "      <td>2017-06-21</td>\n",
       "      <td>35169325_2017-05-22</td>\n",
       "      <td>30</td>\n",
       "      <td>30.0</td>\n",
       "    </tr>\n",
       "    <tr>\n",
       "      <th>5450</th>\n",
       "      <td>35133560</td>\n",
       "      <td>48b09016b25a7f36_4903a58dd44b7b81d524809aba5f</td>\n",
       "      <td>2018-04-25</td>\n",
       "      <td>2018-11-02</td>\n",
       "      <td>35133560_2018-04-25</td>\n",
       "      <td>191</td>\n",
       "      <td>191.0</td>\n",
       "    </tr>\n",
       "    <tr>\n",
       "      <th>5446</th>\n",
       "      <td>35014216</td>\n",
       "      <td>48b091b44637c987_4903a58c1bcb23767fc2818c6e63</td>\n",
       "      <td>2018-05-08</td>\n",
       "      <td>2019-04-25</td>\n",
       "      <td>35014216_2018-05-08</td>\n",
       "      <td>352</td>\n",
       "      <td>352.0</td>\n",
       "    </tr>\n",
       "    <tr>\n",
       "      <th>5448</th>\n",
       "      <td>35034941</td>\n",
       "      <td>48b091b6184a771a_4903a582ec751999e07cf30ae81a</td>\n",
       "      <td>2017-04-17</td>\n",
       "      <td>2017-04-18</td>\n",
       "      <td>35034941_2017-04-17</td>\n",
       "      <td>1</td>\n",
       "      <td>1.0</td>\n",
       "    </tr>\n",
       "    <tr>\n",
       "      <th>5447</th>\n",
       "      <td>35029545</td>\n",
       "      <td>48b091b714b41ffe_4903a582ec746dce5e9b6c1f4070</td>\n",
       "      <td>2017-07-24</td>\n",
       "      <td>2017-05-16</td>\n",
       "      <td>35029545_2017-07-24</td>\n",
       "      <td>-69</td>\n",
       "      <td>69.0</td>\n",
       "    </tr>\n",
       "    <tr>\n",
       "      <th>5449</th>\n",
       "      <td>35092402</td>\n",
       "      <td>48b091bc02fb15f5_4903a58dd541f0af3fb9763595d6</td>\n",
       "      <td>2018-01-29</td>\n",
       "      <td>2018-02-12</td>\n",
       "      <td>35092402_2018-01-29</td>\n",
       "      <td>14</td>\n",
       "      <td>14.0</td>\n",
       "    </tr>\n",
       "    <tr>\n",
       "      <th>5457</th>\n",
       "      <td>35583509</td>\n",
       "      <td>48b09412e8754782_4903a582ec78ec0366e9db9e17cd</td>\n",
       "      <td>2018-08-08</td>\n",
       "      <td>2017-09-06</td>\n",
       "      <td>35583509_2018-08-08</td>\n",
       "      <td>-336</td>\n",
       "      <td>336.0</td>\n",
       "    </tr>\n",
       "    <tr>\n",
       "      <th>5455</th>\n",
       "      <td>35401116</td>\n",
       "      <td>48b095533cbfdf01_4903a58c1bcb2198682a98b7503a</td>\n",
       "      <td>2019-04-11</td>\n",
       "      <td>2019-04-09</td>\n",
       "      <td>35401116_2019-04-11</td>\n",
       "      <td>-2</td>\n",
       "      <td>2.0</td>\n",
       "    </tr>\n",
       "    <tr>\n",
       "      <th>5456</th>\n",
       "      <td>35401116</td>\n",
       "      <td>48b095533cbfdf01_4903a58dd5441181fcd696f7d50c</td>\n",
       "      <td>2019-04-11</td>\n",
       "      <td>2018-07-25</td>\n",
       "      <td>35401116_2019-04-11</td>\n",
       "      <td>-260</td>\n",
       "      <td>260.0</td>\n",
       "    </tr>\n",
       "    <tr>\n",
       "      <th>5461</th>\n",
       "      <td>35750744</td>\n",
       "      <td>48b09627edb790dc_4903a582ec78ec0420a169da26a4</td>\n",
       "      <td>2017-08-16</td>\n",
       "      <td>2017-09-01</td>\n",
       "      <td>35750744_2017-08-16</td>\n",
       "      <td>16</td>\n",
       "      <td>16.0</td>\n",
       "    </tr>\n",
       "  </tbody>\n",
       "</table>\n",
       "</div>"
      ],
      "text/plain": [
       "           mrn                                          study   pet_date  echo_date    petmrn_identifier  days_post_pet  difference(days)\n",
       "5452  35169325  48b09013185d7d6b_4903a582ec77f16c8e735c3b6113 2017-05-22 2017-06-21  35169325_2017-05-22             30              30.0\n",
       "5450  35133560  48b09016b25a7f36_4903a58dd44b7b81d524809aba5f 2018-04-25 2018-11-02  35133560_2018-04-25            191             191.0\n",
       "5446  35014216  48b091b44637c987_4903a58c1bcb23767fc2818c6e63 2018-05-08 2019-04-25  35014216_2018-05-08            352             352.0\n",
       "5448  35034941  48b091b6184a771a_4903a582ec751999e07cf30ae81a 2017-04-17 2017-04-18  35034941_2017-04-17              1               1.0\n",
       "5447  35029545  48b091b714b41ffe_4903a582ec746dce5e9b6c1f4070 2017-07-24 2017-05-16  35029545_2017-07-24            -69              69.0\n",
       "5449  35092402  48b091bc02fb15f5_4903a58dd541f0af3fb9763595d6 2018-01-29 2018-02-12  35092402_2018-01-29             14              14.0\n",
       "5457  35583509  48b09412e8754782_4903a582ec78ec0366e9db9e17cd 2018-08-08 2017-09-06  35583509_2018-08-08           -336             336.0\n",
       "5455  35401116  48b095533cbfdf01_4903a58c1bcb2198682a98b7503a 2019-04-11 2019-04-09  35401116_2019-04-11             -2               2.0\n",
       "5456  35401116  48b095533cbfdf01_4903a58dd5441181fcd696f7d50c 2019-04-11 2018-07-25  35401116_2019-04-11           -260             260.0\n",
       "5461  35750744  48b09627edb790dc_4903a582ec78ec0420a169da26a4 2017-08-16 2017-09-01  35750744_2017-08-16             16              16.0"
      ]
     },
     "execution_count": 24,
     "metadata": {},
     "output_type": "execute_result"
    }
   ],
   "source": [
    "pet_echo_matched_365.head(10)"
   ]
  },
  {
   "cell_type": "code",
   "execution_count": 25,
   "metadata": {},
   "outputs": [
    {
     "name": "stdout",
     "output_type": "stream",
     "text": [
      "(4143, 7)\n"
     ]
    }
   ],
   "source": [
    "# We can now save the data frame with the echo studies and the matched CFR measurements\n",
    "match_filename = 'pet_match365_diff_'+cfr_meta_date+'.parquet'\n",
    "pet_echo_matched_365.to_parquet(os.path.join(meta_dir, match_filename))\n",
    "\n",
    "# Save also as .csv file\n",
    "match_filename_csv = 'pet_match365_diff_'+cfr_meta_date+'.csv'\n",
    "pet_echo_matched_365.to_csv(os.path.join(meta_dir, match_filename_csv))\n",
    "print(pet_echo_matched_365.shape)"
   ]
  }
 ],
 "metadata": {
  "kernelspec": {
   "display_name": "Python 3",
   "language": "python",
   "name": "python3"
  },
  "language_info": {
   "codemirror_mode": {
    "name": "ipython",
    "version": 3
   },
   "file_extension": ".py",
   "mimetype": "text/x-python",
   "name": "python",
   "nbconvert_exporter": "python",
   "pygments_lexer": "ipython3",
   "version": "3.6.9"
  }
 },
 "nbformat": 4,
 "nbformat_minor": 4
}
