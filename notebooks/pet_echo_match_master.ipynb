{
 "cells": [
  {
   "cell_type": "markdown",
   "metadata": {},
   "source": [
    "### Match ECHO videos with PET CFR labels ###\n",
    "Master PET-ECHO match list: All data available on FS. Need to be filtered to create data sets."
   ]
  },
  {
   "cell_type": "code",
   "execution_count": 7,
   "metadata": {},
   "outputs": [],
   "source": [
    "import os\n",
    "import pickle\n",
    "import numpy as np\n",
    "import pandas as pd\n",
    "\n",
    "pd.set_option('display.max_rows', 1000)\n",
    "pd.set_option('display.max_columns', 100)\n",
    "pd.set_option('display.width', 2000)"
   ]
  },
  {
   "cell_type": "code",
   "execution_count": 8,
   "metadata": {},
   "outputs": [
    {
     "name": "stdout",
     "output_type": "stream",
     "text": [
      "/mnt/obi0/andreas/data/cfr/metadata_200416\n"
     ]
    }
   ],
   "source": [
    "cfr_data_root = os.path.normpath('/mnt/obi0/andreas/data/cfr')\n",
    "cfr_meta_date = '200416'\n",
    "meta_dir = os.path.join(cfr_data_root, 'metadata_'+cfr_meta_date)\n",
    "print(meta_dir)"
   ]
  },
  {
   "cell_type": "markdown",
   "metadata": {},
   "source": [
    "#### PET DATA ####"
   ]
  },
  {
   "cell_type": "code",
   "execution_count": 28,
   "metadata": {},
   "outputs": [
    {
     "name": "stdout",
     "output_type": "stream",
     "text": [
      "Unique PET measurements 4136\n"
     ]
    },
    {
     "data": {
      "text/html": [
       "<div>\n",
       "<style scoped>\n",
       "    .dataframe tbody tr th:only-of-type {\n",
       "        vertical-align: middle;\n",
       "    }\n",
       "\n",
       "    .dataframe tbody tr th {\n",
       "        vertical-align: top;\n",
       "    }\n",
       "\n",
       "    .dataframe thead th {\n",
       "        text-align: right;\n",
       "    }\n",
       "</style>\n",
       "<table border=\"1\" class=\"dataframe\">\n",
       "  <thead>\n",
       "    <tr style=\"text-align: right;\">\n",
       "      <th></th>\n",
       "      <th>mrn</th>\n",
       "      <th>pet_date</th>\n",
       "      <th>petmrn_identifier</th>\n",
       "    </tr>\n",
       "  </thead>\n",
       "  <tbody>\n",
       "    <tr>\n",
       "      <th>0</th>\n",
       "      <td>7924277</td>\n",
       "      <td>2008-08-15</td>\n",
       "      <td>7924277_2008-08-15</td>\n",
       "    </tr>\n",
       "    <tr>\n",
       "      <th>1</th>\n",
       "      <td>12853099</td>\n",
       "      <td>2006-01-25</td>\n",
       "      <td>12853099_2006-01-25</td>\n",
       "    </tr>\n",
       "    <tr>\n",
       "      <th>2</th>\n",
       "      <td>20710471</td>\n",
       "      <td>2006-01-23</td>\n",
       "      <td>20710471_2006-01-23</td>\n",
       "    </tr>\n",
       "    <tr>\n",
       "      <th>3</th>\n",
       "      <td>12627030</td>\n",
       "      <td>2006-02-10</td>\n",
       "      <td>12627030_2006-02-10</td>\n",
       "    </tr>\n",
       "    <tr>\n",
       "      <th>4</th>\n",
       "      <td>15324312</td>\n",
       "      <td>2006-02-23</td>\n",
       "      <td>15324312_2006-02-23</td>\n",
       "    </tr>\n",
       "  </tbody>\n",
       "</table>\n",
       "</div>"
      ],
      "text/plain": [
       "        mrn   pet_date    petmrn_identifier\n",
       "0   7924277 2008-08-15   7924277_2008-08-15\n",
       "1  12853099 2006-01-25  12853099_2006-01-25\n",
       "2  20710471 2006-01-23  20710471_2006-01-23\n",
       "3  12627030 2006-02-10  12627030_2006-02-10\n",
       "4  15324312 2006-02-23  15324312_2006-02-23"
      ]
     },
     "execution_count": 28,
     "metadata": {},
     "output_type": "execute_result"
    }
   ],
   "source": [
    "pet_echo_file = os.path.normpath('/mnt/obi0/phi/pet/pet_cfr/pets_with_echos_all.parquet')\n",
    "pet_cols = ['mrn', 'pet_date', 'petmrn_identifier']\n",
    "pet = pd.read_parquet(pet_echo_file)\n",
    "pet = pet[pet_cols].dropna(how='all').drop_duplicates()\n",
    "pet = pet.astype({'pet_date': 'datetime64[ns]'})\n",
    "print(f'Unique PET measurements {len(pet.petmrn_identifier.unique())}')\n",
    "pet.head()"
   ]
  },
  {
   "cell_type": "markdown",
   "metadata": {},
   "source": [
    "#### PET ECHO PAIRS ####"
   ]
  },
  {
   "cell_type": "code",
   "execution_count": 38,
   "metadata": {},
   "outputs": [
    {
     "data": {
      "text/html": [
       "<div>\n",
       "<style scoped>\n",
       "    .dataframe tbody tr th:only-of-type {\n",
       "        vertical-align: middle;\n",
       "    }\n",
       "\n",
       "    .dataframe tbody tr th {\n",
       "        vertical-align: top;\n",
       "    }\n",
       "\n",
       "    .dataframe thead th {\n",
       "        text-align: right;\n",
       "    }\n",
       "</style>\n",
       "<table border=\"1\" class=\"dataframe\">\n",
       "  <thead>\n",
       "    <tr style=\"text-align: right;\">\n",
       "      <th></th>\n",
       "      <th>mrn</th>\n",
       "      <th>echo_date</th>\n",
       "      <th>pet_date</th>\n",
       "      <th>difference(days)</th>\n",
       "    </tr>\n",
       "  </thead>\n",
       "  <tbody>\n",
       "    <tr>\n",
       "      <th>0</th>\n",
       "      <td>17666439</td>\n",
       "      <td>2017-03-14</td>\n",
       "      <td>2017-07-20</td>\n",
       "      <td>128</td>\n",
       "    </tr>\n",
       "    <tr>\n",
       "      <th>1</th>\n",
       "      <td>12287447</td>\n",
       "      <td>2019-05-16</td>\n",
       "      <td>2020-01-23</td>\n",
       "      <td>252</td>\n",
       "    </tr>\n",
       "    <tr>\n",
       "      <th>2</th>\n",
       "      <td>12287447</td>\n",
       "      <td>2020-01-23</td>\n",
       "      <td>2020-01-23</td>\n",
       "      <td>0</td>\n",
       "    </tr>\n",
       "    <tr>\n",
       "      <th>3</th>\n",
       "      <td>31953938</td>\n",
       "      <td>2017-11-09</td>\n",
       "      <td>2018-08-20</td>\n",
       "      <td>284</td>\n",
       "    </tr>\n",
       "    <tr>\n",
       "      <th>4</th>\n",
       "      <td>31953938</td>\n",
       "      <td>2018-08-13</td>\n",
       "      <td>2018-08-20</td>\n",
       "      <td>7</td>\n",
       "    </tr>\n",
       "  </tbody>\n",
       "</table>\n",
       "</div>"
      ],
      "text/plain": [
       "        mrn  echo_date   pet_date  difference(days)\n",
       "0  17666439 2017-03-14 2017-07-20               128\n",
       "1  12287447 2019-05-16 2020-01-23               252\n",
       "2  12287447 2020-01-23 2020-01-23                 0\n",
       "3  31953938 2017-11-09 2018-08-20               284\n",
       "4  31953938 2018-08-13 2018-08-20                 7"
      ]
     },
     "execution_count": 38,
     "metadata": {},
     "output_type": "execute_result"
    }
   ],
   "source": [
    "match_list_file = 'bwh_2020-Feb-4_pet_365_diff.txt'\n",
    "rdf = pd.read_csv(os.path.join(cfr_data_root, match_list_file), sep = '\\t')\n",
    "rdf = rdf.astype({'echo_date': 'datetime64[ns]',\n",
    "                  'pet_date': 'datetime64[ns]'}).\\\n",
    "        rename(columns={'MRN': 'mrn'})\n",
    "rdf.head()"
   ]
  },
  {
   "cell_type": "code",
   "execution_count": 61,
   "metadata": {},
   "outputs": [
    {
     "name": "stdout",
     "output_type": "stream",
     "text": [
      "PET-ECHO pairs without PET data: 196 from 95 mrns.\n",
      "PET-ECHO pairs with PET data: 7227 from 3498 mrns.\n",
      "PET-ECHO pairs from match list: 7423 from 3567 mrns.\n"
     ]
    }
   ],
   "source": [
    "# Join PET and PET-ECHO tables\n",
    "pet_echo = rdf.merge(pet, on=['mrn', 'pet_date'], how='left')\n",
    "pet_without_pair = pet_echo.loc[pet_echo.petmrn_identifier.isnull()]\n",
    "pet2 = pet_with_pair = pet_echo.loc[~pet_echo.petmrn_identifier.isnull()]\n",
    "print(f'PET-ECHO pairs without PET data: {pet_without_pair.shape[0]} ' \\\n",
    "      f'from {len(pet_without_pair.mrn.unique())} mrns.')\n",
    "print(f'PET-ECHO pairs with PET data: {pet_with_pair.shape[0]} ' \\\n",
    "      f'from {len(pet_with_pair.mrn.unique())} mrns.')\n",
    "print(f'PET-ECHO pairs from match list: {rdf.shape[0]} from {len(rdf.mrn.unique())} mrns.')"
   ]
  },
  {
   "cell_type": "code",
   "execution_count": 62,
   "metadata": {},
   "outputs": [
    {
     "data": {
      "text/html": [
       "<div>\n",
       "<style scoped>\n",
       "    .dataframe tbody tr th:only-of-type {\n",
       "        vertical-align: middle;\n",
       "    }\n",
       "\n",
       "    .dataframe tbody tr th {\n",
       "        vertical-align: top;\n",
       "    }\n",
       "\n",
       "    .dataframe thead th {\n",
       "        text-align: right;\n",
       "    }\n",
       "</style>\n",
       "<table border=\"1\" class=\"dataframe\">\n",
       "  <thead>\n",
       "    <tr style=\"text-align: right;\">\n",
       "      <th></th>\n",
       "      <th>mrn</th>\n",
       "      <th>echo_date</th>\n",
       "      <th>pet_date</th>\n",
       "      <th>difference(days)</th>\n",
       "      <th>petmrn_identifier</th>\n",
       "    </tr>\n",
       "  </thead>\n",
       "  <tbody>\n",
       "    <tr>\n",
       "      <th>0</th>\n",
       "      <td>17666439</td>\n",
       "      <td>2017-03-14</td>\n",
       "      <td>2017-07-20</td>\n",
       "      <td>128</td>\n",
       "      <td>17666439_2017-07-20</td>\n",
       "    </tr>\n",
       "    <tr>\n",
       "      <th>1</th>\n",
       "      <td>12287447</td>\n",
       "      <td>2019-05-16</td>\n",
       "      <td>2020-01-23</td>\n",
       "      <td>252</td>\n",
       "      <td>12287447_2020-01-23</td>\n",
       "    </tr>\n",
       "    <tr>\n",
       "      <th>2</th>\n",
       "      <td>12287447</td>\n",
       "      <td>2020-01-23</td>\n",
       "      <td>2020-01-23</td>\n",
       "      <td>0</td>\n",
       "      <td>12287447_2020-01-23</td>\n",
       "    </tr>\n",
       "    <tr>\n",
       "      <th>3</th>\n",
       "      <td>31953938</td>\n",
       "      <td>2017-11-09</td>\n",
       "      <td>2018-08-20</td>\n",
       "      <td>284</td>\n",
       "      <td>31953938_2018-08-20</td>\n",
       "    </tr>\n",
       "    <tr>\n",
       "      <th>4</th>\n",
       "      <td>31953938</td>\n",
       "      <td>2018-08-13</td>\n",
       "      <td>2018-08-20</td>\n",
       "      <td>7</td>\n",
       "      <td>31953938_2018-08-20</td>\n",
       "    </tr>\n",
       "  </tbody>\n",
       "</table>\n",
       "</div>"
      ],
      "text/plain": [
       "        mrn  echo_date   pet_date  difference(days)    petmrn_identifier\n",
       "0  17666439 2017-03-14 2017-07-20               128  17666439_2017-07-20\n",
       "1  12287447 2019-05-16 2020-01-23               252  12287447_2020-01-23\n",
       "2  12287447 2020-01-23 2020-01-23                 0  12287447_2020-01-23\n",
       "3  31953938 2017-11-09 2018-08-20               284  31953938_2018-08-20\n",
       "4  31953938 2018-08-13 2018-08-20                 7  31953938_2018-08-20"
      ]
     },
     "execution_count": 62,
     "metadata": {},
     "output_type": "execute_result"
    }
   ],
   "source": [
    "pet2.head()"
   ]
  },
  {
   "cell_type": "markdown",
   "metadata": {},
   "source": [
    "#### NPY ECHO FILES ####\n",
    "This is a data frame that contains the filenames, MRNs and dates of all echo studies"
   ]
  },
  {
   "cell_type": "code",
   "execution_count": 63,
   "metadata": {},
   "outputs": [
    {
     "name": "stdout",
     "output_type": "stream",
     "text": [
      "echo_npyFiles_BWH_200416.parquet\n",
      "Number of npy files: 1366266\n",
      "Unique echo studies: 27251\n",
      "Unique patients:     16373\n",
      "\n"
     ]
    }
   ],
   "source": [
    "echo_files_name = 'echo_npyFiles_BWH_'+cfr_meta_date+'.parquet'\n",
    "echo = pd.read_parquet(os.path.join(meta_dir, echo_files_name))\n",
    "echo = echo.assign(echo_study_date = echo.datetime.dt.date,\n",
    "                   echo_study_time = echo.datetime.dt.time)\n",
    "\n",
    "echo = echo.astype({'mrn': 'int64',\n",
    "                    'echo_study_date': 'datetime64[ns]'})\n",
    "\n",
    "print(echo_files_name)\n",
    "print('Number of npy files: {}'.format(len(echo.filename.unique())))\n",
    "print('Unique echo studies: {}'.format(len(echo.study.unique())))\n",
    "print('Unique patients:     {}'.format(len(echo.mrn.unique())))\n",
    "print()\n",
    "\n",
    "# For matching dates with PET, we only need the studies\n",
    "# So we can greatly reduce this data frame\n",
    "echo = echo[['study', 'mrn', 'echo_study_date']].drop_duplicates().reset_index(drop = True).\\\n",
    "    sort_values(by = 'mrn', ascending = True)"
   ]
  },
  {
   "cell_type": "code",
   "execution_count": 64,
   "metadata": {},
   "outputs": [
    {
     "data": {
      "text/html": [
       "<div>\n",
       "<style scoped>\n",
       "    .dataframe tbody tr th:only-of-type {\n",
       "        vertical-align: middle;\n",
       "    }\n",
       "\n",
       "    .dataframe tbody tr th {\n",
       "        vertical-align: top;\n",
       "    }\n",
       "\n",
       "    .dataframe thead th {\n",
       "        text-align: right;\n",
       "    }\n",
       "</style>\n",
       "<table border=\"1\" class=\"dataframe\">\n",
       "  <thead>\n",
       "    <tr style=\"text-align: right;\">\n",
       "      <th></th>\n",
       "      <th>study</th>\n",
       "      <th>mrn</th>\n",
       "      <th>echo_study_date</th>\n",
       "    </tr>\n",
       "  </thead>\n",
       "  <tbody>\n",
       "    <tr>\n",
       "      <th>3912</th>\n",
       "      <td>4b7b463ae45ad0e0_4903a585842f436837ee2e0d9dd5</td>\n",
       "      <td>9241</td>\n",
       "      <td>2010-01-26</td>\n",
       "    </tr>\n",
       "    <tr>\n",
       "      <th>3917</th>\n",
       "      <td>4b7b463ae45ad0e0_4903a585842a266f561aee3f563e</td>\n",
       "      <td>9241</td>\n",
       "      <td>2010-04-02</td>\n",
       "    </tr>\n",
       "    <tr>\n",
       "      <th>4000</th>\n",
       "      <td>4b7b463e0550e9de_4903a58051d59d426fe452739a29</td>\n",
       "      <td>41723</td>\n",
       "      <td>2015-11-03</td>\n",
       "    </tr>\n",
       "    <tr>\n",
       "      <th>3923</th>\n",
       "      <td>4b7b463fc2f49a36_4903a58dd5465407d53d20ba3790</td>\n",
       "      <td>51599</td>\n",
       "      <td>2018-05-22</td>\n",
       "    </tr>\n",
       "    <tr>\n",
       "      <th>3932</th>\n",
       "      <td>4b7b463fc2f49a36_4903a58793b43bb4bb1078d62f4e</td>\n",
       "      <td>51599</td>\n",
       "      <td>2012-03-08</td>\n",
       "    </tr>\n",
       "  </tbody>\n",
       "</table>\n",
       "</div>"
      ],
      "text/plain": [
       "                                              study    mrn echo_study_date\n",
       "3912  4b7b463ae45ad0e0_4903a585842f436837ee2e0d9dd5   9241      2010-01-26\n",
       "3917  4b7b463ae45ad0e0_4903a585842a266f561aee3f563e   9241      2010-04-02\n",
       "4000  4b7b463e0550e9de_4903a58051d59d426fe452739a29  41723      2015-11-03\n",
       "3923  4b7b463fc2f49a36_4903a58dd5465407d53d20ba3790  51599      2018-05-22\n",
       "3932  4b7b463fc2f49a36_4903a58793b43bb4bb1078d62f4e  51599      2012-03-08"
      ]
     },
     "execution_count": 64,
     "metadata": {},
     "output_type": "execute_result"
    }
   ],
   "source": [
    "echo.head()"
   ]
  },
  {
   "cell_type": "markdown",
   "metadata": {},
   "source": [
    "#### PET STUDIES + NPY ECHO DATA merged on mrn only ####"
   ]
  },
  {
   "cell_type": "code",
   "execution_count": 78,
   "metadata": {
    "scrolled": false
   },
   "outputs": [
    {
     "name": "stdout",
     "output_type": "stream",
     "text": [
      "PET-ECHO pairs with PET data: 7227 from 3498 mrns.\n",
      "PET-ECHO pairs with PET data and echo study: 18338 from 2880 mrns.\n"
     ]
    }
   ],
   "source": [
    "pet_study = pet2.merge(right = echo, on = 'mrn', how = 'left')\n",
    "pet_study = pet_study.loc[~pet_study.study.isnull()].sort_values(by='mrn')\n",
    "print(f'PET-ECHO pairs with PET data: {pet2.shape[0]} ' \\\n",
    "      f'from {len(pet2.mrn.unique())} mrns.')\n",
    "print(f'PET-ECHO pairs with PET data and echo study: {pet_study.shape[0]} ' \\\n",
    "      f'from {len(pet_study.mrn.unique())} mrns.')"
   ]
  },
  {
   "cell_type": "code",
   "execution_count": 79,
   "metadata": {},
   "outputs": [
    {
     "data": {
      "text/html": [
       "<div>\n",
       "<style scoped>\n",
       "    .dataframe tbody tr th:only-of-type {\n",
       "        vertical-align: middle;\n",
       "    }\n",
       "\n",
       "    .dataframe tbody tr th {\n",
       "        vertical-align: top;\n",
       "    }\n",
       "\n",
       "    .dataframe thead th {\n",
       "        text-align: right;\n",
       "    }\n",
       "</style>\n",
       "<table border=\"1\" class=\"dataframe\">\n",
       "  <thead>\n",
       "    <tr style=\"text-align: right;\">\n",
       "      <th></th>\n",
       "      <th>mrn</th>\n",
       "      <th>echo_date</th>\n",
       "      <th>pet_date</th>\n",
       "      <th>difference(days)</th>\n",
       "      <th>petmrn_identifier</th>\n",
       "      <th>study</th>\n",
       "      <th>echo_study_date</th>\n",
       "    </tr>\n",
       "  </thead>\n",
       "  <tbody>\n",
       "    <tr>\n",
       "      <th>1154</th>\n",
       "      <td>39835152</td>\n",
       "      <td>2019-07-29</td>\n",
       "      <td>2019-09-10</td>\n",
       "      <td>43</td>\n",
       "      <td>39835152_2019-09-10</td>\n",
       "      <td>48bca16ebb9f79e9_4903a58c1bc99380baa33591b299</td>\n",
       "      <td>2019-06-14</td>\n",
       "    </tr>\n",
       "    <tr>\n",
       "      <th>1153</th>\n",
       "      <td>39835152</td>\n",
       "      <td>2019-07-29</td>\n",
       "      <td>2019-09-10</td>\n",
       "      <td>43</td>\n",
       "      <td>39835152_2019-09-10</td>\n",
       "      <td>48bca16ebb9f79e9_4903a58c1bc8b8b4edc2ff652898</td>\n",
       "      <td>2019-07-29</td>\n",
       "    </tr>\n",
       "    <tr>\n",
       "      <th>1152</th>\n",
       "      <td>39835152</td>\n",
       "      <td>2019-06-14</td>\n",
       "      <td>2019-09-10</td>\n",
       "      <td>88</td>\n",
       "      <td>39835152_2019-09-10</td>\n",
       "      <td>48bca16ebb9f79e9_4903a58c1bc99380baa33591b299</td>\n",
       "      <td>2019-06-14</td>\n",
       "    </tr>\n",
       "    <tr>\n",
       "      <th>1151</th>\n",
       "      <td>39835152</td>\n",
       "      <td>2019-06-14</td>\n",
       "      <td>2019-09-10</td>\n",
       "      <td>88</td>\n",
       "      <td>39835152_2019-09-10</td>\n",
       "      <td>48bca16ebb9f79e9_4903a58c1bc8b8b4edc2ff652898</td>\n",
       "      <td>2019-07-29</td>\n",
       "    </tr>\n",
       "  </tbody>\n",
       "</table>\n",
       "</div>"
      ],
      "text/plain": [
       "           mrn  echo_date   pet_date  difference(days)    petmrn_identifier                                          study echo_study_date\n",
       "1154  39835152 2019-07-29 2019-09-10                43  39835152_2019-09-10  48bca16ebb9f79e9_4903a58c1bc99380baa33591b299      2019-06-14\n",
       "1153  39835152 2019-07-29 2019-09-10                43  39835152_2019-09-10  48bca16ebb9f79e9_4903a58c1bc8b8b4edc2ff652898      2019-07-29\n",
       "1152  39835152 2019-06-14 2019-09-10                88  39835152_2019-09-10  48bca16ebb9f79e9_4903a58c1bc99380baa33591b299      2019-06-14\n",
       "1151  39835152 2019-06-14 2019-09-10                88  39835152_2019-09-10  48bca16ebb9f79e9_4903a58c1bc8b8b4edc2ff652898      2019-07-29"
      ]
     },
     "execution_count": 79,
     "metadata": {},
     "output_type": "execute_result"
    }
   ],
   "source": [
    "pet_study[pet_study.mrn==39835152]"
   ]
  },
  {
   "cell_type": "markdown",
   "metadata": {},
   "source": [
    "### Match ECHO study with PET reportID  ###\n",
    "Goal:\n",
    "Find a PET study for each echo video taken from the closest PET measurement.\n",
    "Requirement: We want to pick the most recent CFR measurments for each echo that is not older than 365 days.\n",
    "For this, we need a data frame that contains for a given MRN:\n",
    "\n",
    "- All echo studies for this patient\n",
    "- A date for each echo study\n",
    "- All pet reports for that patient\n",
    "- Date for each pet report"
   ]
  },
  {
   "cell_type": "code",
   "execution_count": 113,
   "metadata": {},
   "outputs": [],
   "source": [
    "df = pet_study.copy()\n",
    "mrn = 92742\n",
    "df_mrn = df[df.mrn==mrn]\n",
    "echo_study_list = list(df_mrn.echo_study_date.unique())\n",
    "echo_study_date = echo_date_list[0]\n",
    "pet_dates = df_mrn[['petmrn_identifier', 'pet_date']].groupby('petmrn_identifier').first().reset_index(drop=False)\n",
    "pet_dates = pet_dates.assign(days_post_cfr=(echo_study_date-pet_dates.pet_date).dt.days)\n",
    "pet_dates = pet_dates.assign(days_abs = np.abs(pet_dates.days_post_cfr))\n",
    "ser = pet_dates.loc[pet_dates.days_abs.idxmin()]"
   ]
  },
  {
   "cell_type": "code",
   "execution_count": 154,
   "metadata": {},
   "outputs": [],
   "source": [
    "def match_pet_echo(df):\n",
    "    \"\"\" \n",
    "    Determine the earliest PET measurement for all studies\n",
    "    \"\"\"\n",
    "\n",
    "    # Loop through all MRNs in df_pet_echo\n",
    "    mrn_list = sorted(list(df.mrn.unique()))\n",
    "    cfr_echo_days = pd.DataFrame()\n",
    "    for m, mrn in enumerate(mrn_list):\n",
    "\n",
    "        if (m+1)%200==0:\n",
    "            print('Processing MRN {} of {}'.format(m+1, len(mrn_list)))\n",
    "\n",
    "        df_mrn = df[df.mrn == mrn]\n",
    "        echo_study_list = list(df_mrn.study.unique())\n",
    "\n",
    "        # Loop through all echo studies for this MRN\n",
    "        for study in echo_study_list:\n",
    "            echo_study_date = df_mrn[df_mrn.study == study].echo_study_date.values[0]\n",
    "\n",
    "            # Find all pet dates for this patient and add the difference to the echo dates\n",
    "            pet_dates = df_mrn[['petmrn_identifier', 'pet_date']].groupby('petmrn_identifier').first().reset_index(drop=False)\n",
    "            pet_dates = pet_dates.assign(days_post_pet=(echo_study_date-pet_dates.pet_date).dt.days)\n",
    "            pet_dates = pet_dates.assign(days_abs = np.abs(pet_dates.days_post_pet))\n",
    "            ser = pet_dates.loc[pet_dates.days_abs.idxmin()]\n",
    "\n",
    "            # We can return the reportID and the days of the earliest pet study\n",
    "            study_dict = {'mrn': [mrn],\n",
    "                          'study': [study],\n",
    "                          'pet_date': [ser.pet_date],\n",
    "                          'echo_date': [echo_study_date],\n",
    "                          'petmrn_identifier': [ser.petmrn_identifier],\n",
    "                          'days_post_pet': [ser.days_post_pet]}\n",
    "            cfr_echo_days = pd.concat([cfr_echo_days, pd.DataFrame(study_dict)], ignore_index=True)\n",
    "    \n",
    "    return cfr_echo_days"
   ]
  },
  {
   "cell_type": "code",
   "execution_count": 155,
   "metadata": {},
   "outputs": [
    {
     "name": "stdout",
     "output_type": "stream",
     "text": [
      "Processing MRN 200 of 2880\n",
      "Processing MRN 400 of 2880\n",
      "Processing MRN 600 of 2880\n",
      "Processing MRN 800 of 2880\n",
      "Processing MRN 1000 of 2880\n",
      "Processing MRN 1200 of 2880\n",
      "Processing MRN 1400 of 2880\n",
      "Processing MRN 1600 of 2880\n",
      "Processing MRN 1800 of 2880\n",
      "Processing MRN 2000 of 2880\n",
      "Processing MRN 2200 of 2880\n",
      "Processing MRN 2400 of 2880\n",
      "Processing MRN 2600 of 2880\n",
      "Processing MRN 2800 of 2880\n"
     ]
    }
   ],
   "source": [
    "pet_echo_days = match_pet_echo(pet_study)"
   ]
  },
  {
   "cell_type": "markdown",
   "metadata": {},
   "source": [
    "Here, we have picked the closest PET date for all echo studies for this mrn. And the closest PET date was the same for all echos. Therefore, PET scans that occurred earlier that do not have an echo that is closer, will disappear."
   ]
  },
  {
   "cell_type": "code",
   "execution_count": 145,
   "metadata": {},
   "outputs": [
    {
     "data": {
      "text/html": [
       "<div>\n",
       "<style scoped>\n",
       "    .dataframe tbody tr th:only-of-type {\n",
       "        vertical-align: middle;\n",
       "    }\n",
       "\n",
       "    .dataframe tbody tr th {\n",
       "        vertical-align: top;\n",
       "    }\n",
       "\n",
       "    .dataframe thead th {\n",
       "        text-align: right;\n",
       "    }\n",
       "</style>\n",
       "<table border=\"1\" class=\"dataframe\">\n",
       "  <thead>\n",
       "    <tr style=\"text-align: right;\">\n",
       "      <th></th>\n",
       "      <th>mrn</th>\n",
       "      <th>study</th>\n",
       "      <th>pet_date</th>\n",
       "      <th>echo_study_date</th>\n",
       "      <th>petmrn_identifier</th>\n",
       "      <th>days_post_cfr</th>\n",
       "    </tr>\n",
       "  </thead>\n",
       "  <tbody>\n",
       "    <tr>\n",
       "      <th>0</th>\n",
       "      <td>9241</td>\n",
       "      <td>4b7b463ae45ad0e0_4903a585842a266f561aee3f563e</td>\n",
       "      <td>2010-01-28</td>\n",
       "      <td>2010-04-02</td>\n",
       "      <td>9241_2010-01-28</td>\n",
       "      <td>64</td>\n",
       "    </tr>\n",
       "    <tr>\n",
       "      <th>1</th>\n",
       "      <td>9241</td>\n",
       "      <td>4b7b463ae45ad0e0_4903a585842f436837ee2e0d9dd5</td>\n",
       "      <td>2010-01-28</td>\n",
       "      <td>2010-01-26</td>\n",
       "      <td>9241_2010-01-28</td>\n",
       "      <td>-2</td>\n",
       "    </tr>\n",
       "    <tr>\n",
       "      <th>2</th>\n",
       "      <td>59691</td>\n",
       "      <td>4b7b463fca25269d_4903a5864e60c69dea709396260d</td>\n",
       "      <td>2015-09-17</td>\n",
       "      <td>2013-06-03</td>\n",
       "      <td>59691_2015-09-17</td>\n",
       "      <td>-836</td>\n",
       "    </tr>\n",
       "    <tr>\n",
       "      <th>3</th>\n",
       "      <td>59691</td>\n",
       "      <td>4b7b463fca25269d_4903a580509f97a83ea0d31ca15c</td>\n",
       "      <td>2015-09-17</td>\n",
       "      <td>2015-08-31</td>\n",
       "      <td>59691_2015-09-17</td>\n",
       "      <td>-17</td>\n",
       "    </tr>\n",
       "    <tr>\n",
       "      <th>4</th>\n",
       "      <td>88435</td>\n",
       "      <td>4b7b46323562dafe_4903a58c1bccabff29a2958b368c</td>\n",
       "      <td>2015-02-20</td>\n",
       "      <td>2019-03-07</td>\n",
       "      <td>88435_2015-02-20</td>\n",
       "      <td>1476</td>\n",
       "    </tr>\n",
       "  </tbody>\n",
       "</table>\n",
       "</div>"
      ],
      "text/plain": [
       "     mrn                                          study   pet_date echo_study_date petmrn_identifier  days_post_cfr\n",
       "0   9241  4b7b463ae45ad0e0_4903a585842a266f561aee3f563e 2010-01-28      2010-04-02   9241_2010-01-28             64\n",
       "1   9241  4b7b463ae45ad0e0_4903a585842f436837ee2e0d9dd5 2010-01-28      2010-01-26   9241_2010-01-28             -2\n",
       "2  59691  4b7b463fca25269d_4903a5864e60c69dea709396260d 2015-09-17      2013-06-03  59691_2015-09-17           -836\n",
       "3  59691  4b7b463fca25269d_4903a580509f97a83ea0d31ca15c 2015-09-17      2015-08-31  59691_2015-09-17            -17\n",
       "4  88435  4b7b46323562dafe_4903a58c1bccabff29a2958b368c 2015-02-20      2019-03-07  88435_2015-02-20           1476"
      ]
     },
     "execution_count": 145,
     "metadata": {},
     "output_type": "execute_result"
    }
   ],
   "source": [
    "pet_echo_days.head()"
   ]
  },
  {
   "cell_type": "code",
   "execution_count": 151,
   "metadata": {},
   "outputs": [
    {
     "data": {
      "text/html": [
       "<div>\n",
       "<style scoped>\n",
       "    .dataframe tbody tr th:only-of-type {\n",
       "        vertical-align: middle;\n",
       "    }\n",
       "\n",
       "    .dataframe tbody tr th {\n",
       "        vertical-align: top;\n",
       "    }\n",
       "\n",
       "    .dataframe thead th {\n",
       "        text-align: right;\n",
       "    }\n",
       "</style>\n",
       "<table border=\"1\" class=\"dataframe\">\n",
       "  <thead>\n",
       "    <tr style=\"text-align: right;\">\n",
       "      <th></th>\n",
       "      <th>mrn</th>\n",
       "      <th>echo_date</th>\n",
       "      <th>pet_date</th>\n",
       "      <th>difference(days)</th>\n",
       "    </tr>\n",
       "  </thead>\n",
       "  <tbody>\n",
       "    <tr>\n",
       "      <th>0</th>\n",
       "      <td>17666439</td>\n",
       "      <td>2017-03-14</td>\n",
       "      <td>2017-07-20</td>\n",
       "      <td>128</td>\n",
       "    </tr>\n",
       "    <tr>\n",
       "      <th>1</th>\n",
       "      <td>12287447</td>\n",
       "      <td>2019-05-16</td>\n",
       "      <td>2020-01-23</td>\n",
       "      <td>252</td>\n",
       "    </tr>\n",
       "    <tr>\n",
       "      <th>2</th>\n",
       "      <td>12287447</td>\n",
       "      <td>2020-01-23</td>\n",
       "      <td>2020-01-23</td>\n",
       "      <td>0</td>\n",
       "    </tr>\n",
       "    <tr>\n",
       "      <th>3</th>\n",
       "      <td>31953938</td>\n",
       "      <td>2017-11-09</td>\n",
       "      <td>2018-08-20</td>\n",
       "      <td>284</td>\n",
       "    </tr>\n",
       "    <tr>\n",
       "      <th>4</th>\n",
       "      <td>31953938</td>\n",
       "      <td>2018-08-13</td>\n",
       "      <td>2018-08-20</td>\n",
       "      <td>7</td>\n",
       "    </tr>\n",
       "  </tbody>\n",
       "</table>\n",
       "</div>"
      ],
      "text/plain": [
       "        mrn  echo_date   pet_date  difference(days)\n",
       "0  17666439 2017-03-14 2017-07-20               128\n",
       "1  12287447 2019-05-16 2020-01-23               252\n",
       "2  12287447 2020-01-23 2020-01-23                 0\n",
       "3  31953938 2017-11-09 2018-08-20               284\n",
       "4  31953938 2018-08-13 2018-08-20                 7"
      ]
     },
     "execution_count": 151,
     "metadata": {},
     "output_type": "execute_result"
    }
   ],
   "source": [
    "rdf.head()"
   ]
  },
  {
   "cell_type": "code",
   "execution_count": 153,
   "metadata": {},
   "outputs": [
    {
     "ename": "KeyError",
     "evalue": "'echo_date'",
     "output_type": "error",
     "traceback": [
      "\u001b[0;31m---------------------------------------------------------------------------\u001b[0m",
      "\u001b[0;31mKeyError\u001b[0m                                  Traceback (most recent call last)",
      "\u001b[0;32m<ipython-input-153-f3705eb0c604>\u001b[0m in \u001b[0;36m<module>\u001b[0;34m\u001b[0m\n\u001b[1;32m      1\u001b[0m \u001b[0;31m# Join back Rahul's PET-ECHO pairs\u001b[0m\u001b[0;34m\u001b[0m\u001b[0;34m\u001b[0m\u001b[0;34m\u001b[0m\u001b[0m\n\u001b[0;32m----> 2\u001b[0;31m \u001b[0mpet_echo_days\u001b[0m \u001b[0;34m=\u001b[0m \u001b[0mpet_echo_days\u001b[0m\u001b[0;34m.\u001b[0m\u001b[0mmerge\u001b[0m\u001b[0;34m(\u001b[0m\u001b[0mrdf\u001b[0m\u001b[0;34m,\u001b[0m \u001b[0mon\u001b[0m \u001b[0;34m=\u001b[0m \u001b[0;34m[\u001b[0m\u001b[0;34m'mrn'\u001b[0m\u001b[0;34m,\u001b[0m \u001b[0;34m'echo_date'\u001b[0m\u001b[0;34m,\u001b[0m \u001b[0;34m'pet_date'\u001b[0m\u001b[0;34m]\u001b[0m\u001b[0;34m,\u001b[0m \u001b[0mhow\u001b[0m \u001b[0;34m=\u001b[0m \u001b[0;34m'left'\u001b[0m\u001b[0;34m)\u001b[0m\u001b[0;34m\u001b[0m\u001b[0;34m\u001b[0m\u001b[0m\n\u001b[0m",
      "\u001b[0;32m~/.local/share/virtualenvs/werdich-cfr-D0WEyBzl/lib/python3.6/site-packages/pandas/core/frame.py\u001b[0m in \u001b[0;36mmerge\u001b[0;34m(self, right, how, on, left_on, right_on, left_index, right_index, sort, suffixes, copy, indicator, validate)\u001b[0m\n\u001b[1;32m   7295\u001b[0m             \u001b[0mcopy\u001b[0m\u001b[0;34m=\u001b[0m\u001b[0mcopy\u001b[0m\u001b[0;34m,\u001b[0m\u001b[0;34m\u001b[0m\u001b[0;34m\u001b[0m\u001b[0m\n\u001b[1;32m   7296\u001b[0m             \u001b[0mindicator\u001b[0m\u001b[0;34m=\u001b[0m\u001b[0mindicator\u001b[0m\u001b[0;34m,\u001b[0m\u001b[0;34m\u001b[0m\u001b[0;34m\u001b[0m\u001b[0m\n\u001b[0;32m-> 7297\u001b[0;31m             \u001b[0mvalidate\u001b[0m\u001b[0;34m=\u001b[0m\u001b[0mvalidate\u001b[0m\u001b[0;34m,\u001b[0m\u001b[0;34m\u001b[0m\u001b[0;34m\u001b[0m\u001b[0m\n\u001b[0m\u001b[1;32m   7298\u001b[0m         )\n\u001b[1;32m   7299\u001b[0m \u001b[0;34m\u001b[0m\u001b[0m\n",
      "\u001b[0;32m~/.local/share/virtualenvs/werdich-cfr-D0WEyBzl/lib/python3.6/site-packages/pandas/core/reshape/merge.py\u001b[0m in \u001b[0;36mmerge\u001b[0;34m(left, right, how, on, left_on, right_on, left_index, right_index, sort, suffixes, copy, indicator, validate)\u001b[0m\n\u001b[1;32m     84\u001b[0m         \u001b[0mcopy\u001b[0m\u001b[0;34m=\u001b[0m\u001b[0mcopy\u001b[0m\u001b[0;34m,\u001b[0m\u001b[0;34m\u001b[0m\u001b[0;34m\u001b[0m\u001b[0m\n\u001b[1;32m     85\u001b[0m         \u001b[0mindicator\u001b[0m\u001b[0;34m=\u001b[0m\u001b[0mindicator\u001b[0m\u001b[0;34m,\u001b[0m\u001b[0;34m\u001b[0m\u001b[0;34m\u001b[0m\u001b[0m\n\u001b[0;32m---> 86\u001b[0;31m         \u001b[0mvalidate\u001b[0m\u001b[0;34m=\u001b[0m\u001b[0mvalidate\u001b[0m\u001b[0;34m,\u001b[0m\u001b[0;34m\u001b[0m\u001b[0;34m\u001b[0m\u001b[0m\n\u001b[0m\u001b[1;32m     87\u001b[0m     )\n\u001b[1;32m     88\u001b[0m     \u001b[0;32mreturn\u001b[0m \u001b[0mop\u001b[0m\u001b[0;34m.\u001b[0m\u001b[0mget_result\u001b[0m\u001b[0;34m(\u001b[0m\u001b[0;34m)\u001b[0m\u001b[0;34m\u001b[0m\u001b[0;34m\u001b[0m\u001b[0m\n",
      "\u001b[0;32m~/.local/share/virtualenvs/werdich-cfr-D0WEyBzl/lib/python3.6/site-packages/pandas/core/reshape/merge.py\u001b[0m in \u001b[0;36m__init__\u001b[0;34m(self, left, right, how, on, left_on, right_on, axis, left_index, right_index, sort, suffixes, copy, indicator, validate)\u001b[0m\n\u001b[1;32m    625\u001b[0m             \u001b[0mself\u001b[0m\u001b[0;34m.\u001b[0m\u001b[0mright_join_keys\u001b[0m\u001b[0;34m,\u001b[0m\u001b[0;34m\u001b[0m\u001b[0;34m\u001b[0m\u001b[0m\n\u001b[1;32m    626\u001b[0m             \u001b[0mself\u001b[0m\u001b[0;34m.\u001b[0m\u001b[0mjoin_names\u001b[0m\u001b[0;34m,\u001b[0m\u001b[0;34m\u001b[0m\u001b[0;34m\u001b[0m\u001b[0m\n\u001b[0;32m--> 627\u001b[0;31m         ) = self._get_merge_keys()\n\u001b[0m\u001b[1;32m    628\u001b[0m \u001b[0;34m\u001b[0m\u001b[0m\n\u001b[1;32m    629\u001b[0m         \u001b[0;31m# validate the merge keys dtypes. We may need to coerce\u001b[0m\u001b[0;34m\u001b[0m\u001b[0;34m\u001b[0m\u001b[0;34m\u001b[0m\u001b[0m\n",
      "\u001b[0;32m~/.local/share/virtualenvs/werdich-cfr-D0WEyBzl/lib/python3.6/site-packages/pandas/core/reshape/merge.py\u001b[0m in \u001b[0;36m_get_merge_keys\u001b[0;34m(self)\u001b[0m\n\u001b[1;32m    994\u001b[0m                         \u001b[0mright_keys\u001b[0m\u001b[0;34m.\u001b[0m\u001b[0mappend\u001b[0m\u001b[0;34m(\u001b[0m\u001b[0mrk\u001b[0m\u001b[0;34m)\u001b[0m\u001b[0;34m\u001b[0m\u001b[0;34m\u001b[0m\u001b[0m\n\u001b[1;32m    995\u001b[0m                     \u001b[0;32mif\u001b[0m \u001b[0mlk\u001b[0m \u001b[0;32mis\u001b[0m \u001b[0;32mnot\u001b[0m \u001b[0;32mNone\u001b[0m\u001b[0;34m:\u001b[0m\u001b[0;34m\u001b[0m\u001b[0;34m\u001b[0m\u001b[0m\n\u001b[0;32m--> 996\u001b[0;31m                         \u001b[0mleft_keys\u001b[0m\u001b[0;34m.\u001b[0m\u001b[0mappend\u001b[0m\u001b[0;34m(\u001b[0m\u001b[0mleft\u001b[0m\u001b[0;34m.\u001b[0m\u001b[0m_get_label_or_level_values\u001b[0m\u001b[0;34m(\u001b[0m\u001b[0mlk\u001b[0m\u001b[0;34m)\u001b[0m\u001b[0;34m)\u001b[0m\u001b[0;34m\u001b[0m\u001b[0;34m\u001b[0m\u001b[0m\n\u001b[0m\u001b[1;32m    997\u001b[0m                         \u001b[0mjoin_names\u001b[0m\u001b[0;34m.\u001b[0m\u001b[0mappend\u001b[0m\u001b[0;34m(\u001b[0m\u001b[0mlk\u001b[0m\u001b[0;34m)\u001b[0m\u001b[0;34m\u001b[0m\u001b[0;34m\u001b[0m\u001b[0m\n\u001b[1;32m    998\u001b[0m                     \u001b[0;32melse\u001b[0m\u001b[0;34m:\u001b[0m\u001b[0;34m\u001b[0m\u001b[0;34m\u001b[0m\u001b[0m\n",
      "\u001b[0;32m~/.local/share/virtualenvs/werdich-cfr-D0WEyBzl/lib/python3.6/site-packages/pandas/core/generic.py\u001b[0m in \u001b[0;36m_get_label_or_level_values\u001b[0;34m(self, key, axis)\u001b[0m\n\u001b[1;32m   1690\u001b[0m             \u001b[0mvalues\u001b[0m \u001b[0;34m=\u001b[0m \u001b[0mself\u001b[0m\u001b[0;34m.\u001b[0m\u001b[0maxes\u001b[0m\u001b[0;34m[\u001b[0m\u001b[0maxis\u001b[0m\u001b[0;34m]\u001b[0m\u001b[0;34m.\u001b[0m\u001b[0mget_level_values\u001b[0m\u001b[0;34m(\u001b[0m\u001b[0mkey\u001b[0m\u001b[0;34m)\u001b[0m\u001b[0;34m.\u001b[0m\u001b[0m_values\u001b[0m\u001b[0;34m\u001b[0m\u001b[0;34m\u001b[0m\u001b[0m\n\u001b[1;32m   1691\u001b[0m         \u001b[0;32melse\u001b[0m\u001b[0;34m:\u001b[0m\u001b[0;34m\u001b[0m\u001b[0;34m\u001b[0m\u001b[0m\n\u001b[0;32m-> 1692\u001b[0;31m             \u001b[0;32mraise\u001b[0m \u001b[0mKeyError\u001b[0m\u001b[0;34m(\u001b[0m\u001b[0mkey\u001b[0m\u001b[0;34m)\u001b[0m\u001b[0;34m\u001b[0m\u001b[0;34m\u001b[0m\u001b[0m\n\u001b[0m\u001b[1;32m   1693\u001b[0m \u001b[0;34m\u001b[0m\u001b[0m\n\u001b[1;32m   1694\u001b[0m         \u001b[0;31m# Check for duplicates\u001b[0m\u001b[0;34m\u001b[0m\u001b[0;34m\u001b[0m\u001b[0;34m\u001b[0m\u001b[0m\n",
      "\u001b[0;31mKeyError\u001b[0m: 'echo_date'"
     ]
    }
   ],
   "source": [
    "# Join back Rahul's PET-ECHO pairs\n",
    "pet_echo_days = pet_echo_days.merge(rdf, on = ['mrn', 'echo_date', 'pet_date'], how = 'left')"
   ]
  },
  {
   "cell_type": "code",
   "execution_count": 147,
   "metadata": {},
   "outputs": [
    {
     "name": "stdout",
     "output_type": "stream",
     "text": [
      "Total patients after match:2880\n",
      "Echo studies after match:  5546\n",
      "PET studies after match:   3001\n",
      "Original PET studies:      4136\n"
     ]
    }
   ],
   "source": [
    "# After the match, do we have the same number of patients\n",
    "print('Total patients after match:{}'.format(len(pet_echo_days.mrn.unique())))\n",
    "print('Echo studies after match:  {}'.format(len(pet_echo_days.study.unique())))\n",
    "print('PET studies after match:   {}'.format(len(pet_echo_days.petmrn_identifier.unique())))\n",
    "print('Original PET studies:      {}'.format(len(pet.petmrn_identifier.unique())))"
   ]
  },
  {
   "cell_type": "code",
   "execution_count": 34,
   "metadata": {},
   "outputs": [],
   "source": [
    "# Next, we will filter those echo studies that occurred earlier or later than 365 days after CFR\n",
    "pet_echo_days_365 = pet_echo_days.assign(abs_pet_days = np.abs(pet_echo_days.days_post_cfr))\n",
    "pet_cfr_echo_days_365 = pet_cfr_echo_days_365[pet_cfr_echo_days_365.abs_cfr_days<=365].drop(columns = ['abs_cfr_days'])\n",
    "# Sort this by study so that we know how well we matched the dates\n",
    "pet_cfr_echo_days_365 = pet_cfr_echo_days_365.sort_values(by = 'study')"
   ]
  },
  {
   "cell_type": "code",
   "execution_count": 36,
   "metadata": {},
   "outputs": [
    {
     "name": "stdout",
     "output_type": "stream",
     "text": [
      "Patients after 365 filter     1577\n",
      "Echo studies after 365 filter 2292\n"
     ]
    }
   ],
   "source": [
    "# After the match, do we have the same number of patients\n",
    "print('Patients after 365 filter     {}'.format(len(pet_cfr_echo_days_365.mrn.unique())))\n",
    "print('Echo studies after 365 filter {}'.format(len(pet_cfr_echo_days_365.study.unique())))"
   ]
  },
  {
   "cell_type": "code",
   "execution_count": 54,
   "metadata": {},
   "outputs": [
    {
     "name": "stdout",
     "output_type": "stream",
     "text": [
      "MRNs lost after 365 filter 85\n"
     ]
    }
   ],
   "source": [
    "# Patients who dropped out because of the 365 time limit\n",
    "mrn_before_filter = set(list(cfr_echo_days.mrn.unique()))\n",
    "mrn_after_filter = set(list(pet_cfr_echo_days_365.mrn.unique()))\n",
    "mrn_365_dropped = list(mrn_before_filter.difference(mrn_after_filter))\n",
    "print('MRNs lost after 365 filter {}'.format(len(mrn_365_dropped)))\n",
    "mrn_dropped_file = os.path.join(meta_dir, 'mrn_365_dropped.pkl')\n",
    "with open(mrn_dropped_file, 'wb') as fl:\n",
    "    pickle.dump(mrn_365_dropped, fl)"
   ]
  },
  {
   "cell_type": "code",
   "execution_count": 55,
   "metadata": {},
   "outputs": [
    {
     "name": "stdout",
     "output_type": "stream",
     "text": [
      "Original shape: (2954, 5) now: (2297, 116)\n",
      "Original number of studies: 2954 now: 2292\n"
     ]
    }
   ],
   "source": [
    "# To match with filenames, we really only need one study per row. \n",
    "# Remove colums where some rows have missing values\n",
    "pet_cfr_echo_days_noNA = pet_cfr_echo_days_365.dropna(axis=1, how='any') \n",
    "pet_cfr_echo_days_study = pet_cfr_echo_days_noNA.groupby('study').first().reset_index(drop=False)\n",
    "\n",
    "print('Original shape: {} now: {}'.format(cfr_echo_days.shape,\n",
    "                                          pet_cfr_echo_days_365.shape))\n",
    "\n",
    "print('Original number of studies: {} now: {}'.format(len(cfr_echo_days.study.unique()),\n",
    "                                                      len(pet_cfr_echo_days_study.study.unique())))"
   ]
  },
  {
   "cell_type": "code",
   "execution_count": 56,
   "metadata": {},
   "outputs": [
    {
     "data": {
      "text/html": [
       "<div>\n",
       "<style scoped>\n",
       "    .dataframe tbody tr th:only-of-type {\n",
       "        vertical-align: middle;\n",
       "    }\n",
       "\n",
       "    .dataframe tbody tr th {\n",
       "        vertical-align: top;\n",
       "    }\n",
       "\n",
       "    .dataframe thead th {\n",
       "        text-align: right;\n",
       "    }\n",
       "</style>\n",
       "<table border=\"1\" class=\"dataframe\">\n",
       "  <thead>\n",
       "    <tr style=\"text-align: right;\">\n",
       "      <th></th>\n",
       "      <th>mrn</th>\n",
       "      <th>study</th>\n",
       "      <th>cfr_study_date</th>\n",
       "      <th>echo_study_date</th>\n",
       "      <th>days_post_cfr</th>\n",
       "    </tr>\n",
       "  </thead>\n",
       "  <tbody>\n",
       "    <tr>\n",
       "      <th>0</th>\n",
       "      <td>35133560</td>\n",
       "      <td>48b09016b25a7f36_4903a58dd44b7b81d524809aba5f</td>\n",
       "      <td>2018-04-25</td>\n",
       "      <td>2018-11-02</td>\n",
       "      <td>191</td>\n",
       "    </tr>\n",
       "    <tr>\n",
       "      <th>1</th>\n",
       "      <td>35014216</td>\n",
       "      <td>48b091b44637c987_4903a58c1bcb23767fc2818c6e63</td>\n",
       "      <td>2018-05-08</td>\n",
       "      <td>2019-04-25</td>\n",
       "      <td>352</td>\n",
       "    </tr>\n",
       "    <tr>\n",
       "      <th>2</th>\n",
       "      <td>35029545</td>\n",
       "      <td>48b091b714b41ffe_4903a582ec746dce5e9b6c1f4070</td>\n",
       "      <td>2017-07-24</td>\n",
       "      <td>2017-05-16</td>\n",
       "      <td>-69</td>\n",
       "    </tr>\n",
       "    <tr>\n",
       "      <th>3</th>\n",
       "      <td>35583509</td>\n",
       "      <td>48b09412e8754782_4903a582ec78ec0366e9db9e17cd</td>\n",
       "      <td>2018-08-08</td>\n",
       "      <td>2017-09-06</td>\n",
       "      <td>-336</td>\n",
       "    </tr>\n",
       "    <tr>\n",
       "      <th>4</th>\n",
       "      <td>35401116</td>\n",
       "      <td>48b095533cbfdf01_4903a58c1bcb2198682a98b7503a</td>\n",
       "      <td>2019-04-11</td>\n",
       "      <td>2019-04-09</td>\n",
       "      <td>-2</td>\n",
       "    </tr>\n",
       "    <tr>\n",
       "      <th>5</th>\n",
       "      <td>35401116</td>\n",
       "      <td>48b095533cbfdf01_4903a58dd5441181fcd696f7d50c</td>\n",
       "      <td>2019-04-11</td>\n",
       "      <td>2018-07-25</td>\n",
       "      <td>-260</td>\n",
       "    </tr>\n",
       "    <tr>\n",
       "      <th>6</th>\n",
       "      <td>35647072</td>\n",
       "      <td>48b097cb6874ce59_4903a582edf18da17812c4897c25</td>\n",
       "      <td>2017-11-01</td>\n",
       "      <td>2017-10-25</td>\n",
       "      <td>-7</td>\n",
       "    </tr>\n",
       "    <tr>\n",
       "      <th>7</th>\n",
       "      <td>35995307</td>\n",
       "      <td>48b0984d74745d55_4903a582edf18da3b9aa6d4547eb</td>\n",
       "      <td>2017-10-27</td>\n",
       "      <td>2017-10-27</td>\n",
       "      <td>0</td>\n",
       "    </tr>\n",
       "    <tr>\n",
       "      <th>8</th>\n",
       "      <td>34940536</td>\n",
       "      <td>48b1a5aeaf91d4d2_4903a582edf18da48d51c09a959b</td>\n",
       "      <td>2017-06-26</td>\n",
       "      <td>2017-10-20</td>\n",
       "      <td>116</td>\n",
       "    </tr>\n",
       "    <tr>\n",
       "      <th>9</th>\n",
       "      <td>34530097</td>\n",
       "      <td>48b1a9c06ce2b304_4903a582ec7226d2e7bd522f25ce</td>\n",
       "      <td>2017-04-18</td>\n",
       "      <td>2017-03-31</td>\n",
       "      <td>-18</td>\n",
       "    </tr>\n",
       "  </tbody>\n",
       "</table>\n",
       "</div>"
      ],
      "text/plain": [
       "        mrn                                          study cfr_study_date echo_study_date  days_post_cfr\n",
       "0  35133560  48b09016b25a7f36_4903a58dd44b7b81d524809aba5f     2018-04-25      2018-11-02            191\n",
       "1  35014216  48b091b44637c987_4903a58c1bcb23767fc2818c6e63     2018-05-08      2019-04-25            352\n",
       "2  35029545  48b091b714b41ffe_4903a582ec746dce5e9b6c1f4070     2017-07-24      2017-05-16            -69\n",
       "3  35583509  48b09412e8754782_4903a582ec78ec0366e9db9e17cd     2018-08-08      2017-09-06           -336\n",
       "4  35401116  48b095533cbfdf01_4903a58c1bcb2198682a98b7503a     2019-04-11      2019-04-09             -2\n",
       "5  35401116  48b095533cbfdf01_4903a58dd5441181fcd696f7d50c     2019-04-11      2018-07-25           -260\n",
       "6  35647072  48b097cb6874ce59_4903a582edf18da17812c4897c25     2017-11-01      2017-10-25             -7\n",
       "7  35995307  48b0984d74745d55_4903a582edf18da3b9aa6d4547eb     2017-10-27      2017-10-27              0\n",
       "8  34940536  48b1a5aeaf91d4d2_4903a582edf18da48d51c09a959b     2017-06-26      2017-10-20            116\n",
       "9  34530097  48b1a9c06ce2b304_4903a582ec7226d2e7bd522f25ce     2017-04-18      2017-03-31            -18"
      ]
     },
     "execution_count": 56,
     "metadata": {},
     "output_type": "execute_result"
    }
   ],
   "source": [
    "d = pet_cfr_echo_days_study[['mrn', 'study', 'cfr_study_date', 'echo_study_date', 'days_post_cfr']]\n",
    "d.head(10)"
   ]
  },
  {
   "cell_type": "code",
   "execution_count": 57,
   "metadata": {},
   "outputs": [
    {
     "data": {
      "text/html": [
       "<div>\n",
       "<style scoped>\n",
       "    .dataframe tbody tr th:only-of-type {\n",
       "        vertical-align: middle;\n",
       "    }\n",
       "\n",
       "    .dataframe tbody tr th {\n",
       "        vertical-align: top;\n",
       "    }\n",
       "\n",
       "    .dataframe thead th {\n",
       "        text-align: right;\n",
       "    }\n",
       "</style>\n",
       "<table border=\"1\" class=\"dataframe\">\n",
       "  <thead>\n",
       "    <tr style=\"text-align: right;\">\n",
       "      <th></th>\n",
       "      <th>study</th>\n",
       "      <th>mrn</th>\n",
       "      <th>echo_study_date</th>\n",
       "      <th>mrnstudyid</th>\n",
       "      <th>days_post_cfr</th>\n",
       "      <th>cfr_study_date</th>\n",
       "      <th>petmrn_identifier</th>\n",
       "      <th>post-2018</th>\n",
       "      <th>myocardial_perfusion</th>\n",
       "      <th>global_cfr_calc</th>\n",
       "      <th>unaffected_cfr</th>\n",
       "      <th>rest_mbf_unaff</th>\n",
       "      <th>stress_mbf_unaff</th>\n",
       "      <th>num_unaffected_segs</th>\n",
       "      <th>rest_global_mbf</th>\n",
       "      <th>stress_global_mbf</th>\n",
       "    </tr>\n",
       "  </thead>\n",
       "  <tbody>\n",
       "    <tr>\n",
       "      <th>0</th>\n",
       "      <td>48b09016b25a7f36_4903a58dd44b7b81d524809aba5f</td>\n",
       "      <td>35133560</td>\n",
       "      <td>2018-11-02</td>\n",
       "      <td>2618</td>\n",
       "      <td>191</td>\n",
       "      <td>2018-04-25</td>\n",
       "      <td>35133560_2018-04-25</td>\n",
       "      <td>0</td>\n",
       "      <td>normal</td>\n",
       "      <td>1.716143</td>\n",
       "      <td>1.699871</td>\n",
       "      <td>0.934766</td>\n",
       "      <td>1.588982</td>\n",
       "      <td>17</td>\n",
       "      <td>0.923</td>\n",
       "      <td>1.584</td>\n",
       "    </tr>\n",
       "    <tr>\n",
       "      <th>1</th>\n",
       "      <td>48b091b44637c987_4903a58c1bcb23767fc2818c6e63</td>\n",
       "      <td>35014216</td>\n",
       "      <td>2019-04-25</td>\n",
       "      <td>2616</td>\n",
       "      <td>352</td>\n",
       "      <td>2018-05-08</td>\n",
       "      <td>35014216_2018-05-08</td>\n",
       "      <td>0</td>\n",
       "      <td>abnormal</td>\n",
       "      <td>2.644905</td>\n",
       "      <td>2.876778</td>\n",
       "      <td>0.636890</td>\n",
       "      <td>1.832192</td>\n",
       "      <td>8</td>\n",
       "      <td>0.628</td>\n",
       "      <td>1.661</td>\n",
       "    </tr>\n",
       "  </tbody>\n",
       "</table>\n",
       "</div>"
      ],
      "text/plain": [
       "                                           study       mrn echo_study_date  mrnstudyid  days_post_cfr cfr_study_date    petmrn_identifier  post-2018 myocardial_perfusion  global_cfr_calc  unaffected_cfr  rest_mbf_unaff  stress_mbf_unaff  num_unaffected_segs  rest_global_mbf  stress_global_mbf\n",
       "0  48b09016b25a7f36_4903a58dd44b7b81d524809aba5f  35133560      2018-11-02        2618            191     2018-04-25  35133560_2018-04-25          0               normal         1.716143        1.699871        0.934766          1.588982                   17            0.923              1.584\n",
       "1  48b091b44637c987_4903a58c1bcb23767fc2818c6e63  35014216      2019-04-25        2616            352     2018-05-08  35014216_2018-05-08          0             abnormal         2.644905        2.876778        0.636890          1.832192                    8            0.628              1.661"
      ]
     },
     "execution_count": 57,
     "metadata": {},
     "output_type": "execute_result"
    }
   ],
   "source": [
    "pet_cfr_echo_days_study.head(2)"
   ]
  },
  {
   "cell_type": "code",
   "execution_count": 58,
   "metadata": {},
   "outputs": [
    {
     "name": "stdout",
     "output_type": "stream",
     "text": [
      "(2292, 16)\n"
     ]
    },
    {
     "data": {
      "text/html": [
       "<div>\n",
       "<style scoped>\n",
       "    .dataframe tbody tr th:only-of-type {\n",
       "        vertical-align: middle;\n",
       "    }\n",
       "\n",
       "    .dataframe tbody tr th {\n",
       "        vertical-align: top;\n",
       "    }\n",
       "\n",
       "    .dataframe thead th {\n",
       "        text-align: right;\n",
       "    }\n",
       "</style>\n",
       "<table border=\"1\" class=\"dataframe\">\n",
       "  <thead>\n",
       "    <tr style=\"text-align: right;\">\n",
       "      <th></th>\n",
       "      <th>study</th>\n",
       "      <th>mrn</th>\n",
       "      <th>echo_study_date</th>\n",
       "      <th>mrnstudyid</th>\n",
       "      <th>days_post_cfr</th>\n",
       "      <th>cfr_study_date</th>\n",
       "      <th>petmrn_identifier</th>\n",
       "      <th>post-2018</th>\n",
       "      <th>myocardial_perfusion</th>\n",
       "      <th>global_cfr_calc</th>\n",
       "      <th>unaffected_cfr</th>\n",
       "      <th>rest_mbf_unaff</th>\n",
       "      <th>stress_mbf_unaff</th>\n",
       "      <th>num_unaffected_segs</th>\n",
       "      <th>rest_global_mbf</th>\n",
       "      <th>stress_global_mbf</th>\n",
       "    </tr>\n",
       "  </thead>\n",
       "  <tbody>\n",
       "    <tr>\n",
       "      <th>0</th>\n",
       "      <td>48b09016b25a7f36_4903a58dd44b7b81d524809aba5f</td>\n",
       "      <td>35133560</td>\n",
       "      <td>2018-11-02</td>\n",
       "      <td>2618</td>\n",
       "      <td>191</td>\n",
       "      <td>2018-04-25</td>\n",
       "      <td>35133560_2018-04-25</td>\n",
       "      <td>0</td>\n",
       "      <td>normal</td>\n",
       "      <td>1.716143</td>\n",
       "      <td>1.699871</td>\n",
       "      <td>0.934766</td>\n",
       "      <td>1.588982</td>\n",
       "      <td>17</td>\n",
       "      <td>0.923</td>\n",
       "      <td>1.584</td>\n",
       "    </tr>\n",
       "    <tr>\n",
       "      <th>1</th>\n",
       "      <td>48b091b44637c987_4903a58c1bcb23767fc2818c6e63</td>\n",
       "      <td>35014216</td>\n",
       "      <td>2019-04-25</td>\n",
       "      <td>2616</td>\n",
       "      <td>352</td>\n",
       "      <td>2018-05-08</td>\n",
       "      <td>35014216_2018-05-08</td>\n",
       "      <td>0</td>\n",
       "      <td>abnormal</td>\n",
       "      <td>2.644905</td>\n",
       "      <td>2.876778</td>\n",
       "      <td>0.636890</td>\n",
       "      <td>1.832192</td>\n",
       "      <td>8</td>\n",
       "      <td>0.628</td>\n",
       "      <td>1.661</td>\n",
       "    </tr>\n",
       "    <tr>\n",
       "      <th>2</th>\n",
       "      <td>48b091b714b41ffe_4903a582ec746dce5e9b6c1f4070</td>\n",
       "      <td>35029545</td>\n",
       "      <td>2017-05-16</td>\n",
       "      <td>2617</td>\n",
       "      <td>-69</td>\n",
       "      <td>2017-07-24</td>\n",
       "      <td>35029545_2017-07-24</td>\n",
       "      <td>0</td>\n",
       "      <td>abnormal</td>\n",
       "      <td>2.698341</td>\n",
       "      <td>2.554037</td>\n",
       "      <td>0.599508</td>\n",
       "      <td>1.531167</td>\n",
       "      <td>5</td>\n",
       "      <td>0.663</td>\n",
       "      <td>1.789</td>\n",
       "    </tr>\n",
       "    <tr>\n",
       "      <th>3</th>\n",
       "      <td>48b09412e8754782_4903a582ec78ec0366e9db9e17cd</td>\n",
       "      <td>35583509</td>\n",
       "      <td>2017-09-06</td>\n",
       "      <td>2620</td>\n",
       "      <td>-336</td>\n",
       "      <td>2018-08-08</td>\n",
       "      <td>35583509_2018-08-08</td>\n",
       "      <td>0</td>\n",
       "      <td>abnormal</td>\n",
       "      <td>1.994660</td>\n",
       "      <td>2.026460</td>\n",
       "      <td>0.544319</td>\n",
       "      <td>1.103042</td>\n",
       "      <td>3</td>\n",
       "      <td>0.749</td>\n",
       "      <td>1.494</td>\n",
       "    </tr>\n",
       "    <tr>\n",
       "      <th>4</th>\n",
       "      <td>48b095533cbfdf01_4903a58c1bcb2198682a98b7503a</td>\n",
       "      <td>35401116</td>\n",
       "      <td>2019-04-09</td>\n",
       "      <td>2619</td>\n",
       "      <td>-2</td>\n",
       "      <td>2019-04-11</td>\n",
       "      <td>35401116_2019-04-11</td>\n",
       "      <td>1</td>\n",
       "      <td>normal</td>\n",
       "      <td>1.110000</td>\n",
       "      <td>1.110000</td>\n",
       "      <td>0.790000</td>\n",
       "      <td>0.880000</td>\n",
       "      <td>17</td>\n",
       "      <td>0.790</td>\n",
       "      <td>0.880</td>\n",
       "    </tr>\n",
       "  </tbody>\n",
       "</table>\n",
       "</div>"
      ],
      "text/plain": [
       "                                           study       mrn echo_study_date  mrnstudyid  days_post_cfr cfr_study_date    petmrn_identifier  post-2018 myocardial_perfusion  global_cfr_calc  unaffected_cfr  rest_mbf_unaff  stress_mbf_unaff  num_unaffected_segs  rest_global_mbf  stress_global_mbf\n",
       "0  48b09016b25a7f36_4903a58dd44b7b81d524809aba5f  35133560      2018-11-02        2618            191     2018-04-25  35133560_2018-04-25          0               normal         1.716143        1.699871        0.934766          1.588982                   17            0.923              1.584\n",
       "1  48b091b44637c987_4903a58c1bcb23767fc2818c6e63  35014216      2019-04-25        2616            352     2018-05-08  35014216_2018-05-08          0             abnormal         2.644905        2.876778        0.636890          1.832192                    8            0.628              1.661\n",
       "2  48b091b714b41ffe_4903a582ec746dce5e9b6c1f4070  35029545      2017-05-16        2617            -69     2017-07-24  35029545_2017-07-24          0             abnormal         2.698341        2.554037        0.599508          1.531167                    5            0.663              1.789\n",
       "3  48b09412e8754782_4903a582ec78ec0366e9db9e17cd  35583509      2017-09-06        2620           -336     2018-08-08  35583509_2018-08-08          0             abnormal         1.994660        2.026460        0.544319          1.103042                    3            0.749              1.494\n",
       "4  48b095533cbfdf01_4903a58c1bcb2198682a98b7503a  35401116      2019-04-09        2619             -2     2019-04-11  35401116_2019-04-11          1               normal         1.110000        1.110000        0.790000          0.880000                   17            0.790              0.880"
      ]
     },
     "execution_count": 58,
     "metadata": {},
     "output_type": "execute_result"
    }
   ],
   "source": [
    "print(pet_cfr_echo_days_study.shape)\n",
    "pet_cfr_echo_days_study.head()"
   ]
  },
  {
   "cell_type": "code",
   "execution_count": 59,
   "metadata": {},
   "outputs": [
    {
     "name": "stdout",
     "output_type": "stream",
     "text": [
      "Number of echo studies within 365 days of cfr 2292\n",
      "Number of PET studies 1638\n",
      "Total number of studies in petecho df 2954\n",
      "Unique patients:     1577\n"
     ]
    }
   ],
   "source": [
    "print('Number of echo studies within 365 days of cfr {}'.format(len(pet_cfr_echo_days_study.study.unique())))\n",
    "print('Number of PET studies {}'.format(len(pet_cfr_echo_days_study.mrnstudyid.unique())))\n",
    "print('Total number of studies in petecho df {}'.format(len(petecho.study.unique())))\n",
    "print('Unique patients:     {}'.format(len(pet_cfr_echo_days_study.mrn.unique())))"
   ]
  },
  {
   "cell_type": "code",
   "execution_count": 60,
   "metadata": {},
   "outputs": [],
   "source": [
    "# We can now save the data frame with the echo studies and the matched CFR measurements\n",
    "match_filename = 'pet_match365_diff_'+cfr_meta_date+'.parquet'\n",
    "pet_cfr_echo_days_study.to_parquet(os.path.join(meta_dir, match_filename))\n",
    "\n",
    "# Save also as .csv file\n",
    "match_filename_csv = 'pet_match365_diff_'+cfr_meta_date+'.csv'\n",
    "pet_cfr_echo_days_study.to_csv(os.path.join(meta_dir, match_filename_csv))"
   ]
  },
  {
   "cell_type": "code",
   "execution_count": 61,
   "metadata": {},
   "outputs": [
    {
     "data": {
      "text/html": [
       "<div>\n",
       "<style scoped>\n",
       "    .dataframe tbody tr th:only-of-type {\n",
       "        vertical-align: middle;\n",
       "    }\n",
       "\n",
       "    .dataframe tbody tr th {\n",
       "        vertical-align: top;\n",
       "    }\n",
       "\n",
       "    .dataframe thead th {\n",
       "        text-align: right;\n",
       "    }\n",
       "</style>\n",
       "<table border=\"1\" class=\"dataframe\">\n",
       "  <thead>\n",
       "    <tr style=\"text-align: right;\">\n",
       "      <th></th>\n",
       "      <th>study</th>\n",
       "      <th>mrn</th>\n",
       "      <th>echo_study_date</th>\n",
       "      <th>mrnstudyid</th>\n",
       "      <th>days_post_cfr</th>\n",
       "      <th>cfr_study_date</th>\n",
       "      <th>petmrn_identifier</th>\n",
       "      <th>post-2018</th>\n",
       "      <th>myocardial_perfusion</th>\n",
       "      <th>global_cfr_calc</th>\n",
       "      <th>unaffected_cfr</th>\n",
       "      <th>rest_mbf_unaff</th>\n",
       "      <th>stress_mbf_unaff</th>\n",
       "      <th>num_unaffected_segs</th>\n",
       "      <th>rest_global_mbf</th>\n",
       "      <th>stress_global_mbf</th>\n",
       "    </tr>\n",
       "  </thead>\n",
       "  <tbody>\n",
       "    <tr>\n",
       "      <th>0</th>\n",
       "      <td>48b09016b25a7f36_4903a58dd44b7b81d524809aba5f</td>\n",
       "      <td>35133560</td>\n",
       "      <td>2018-11-02</td>\n",
       "      <td>2618</td>\n",
       "      <td>191</td>\n",
       "      <td>2018-04-25</td>\n",
       "      <td>35133560_2018-04-25</td>\n",
       "      <td>0</td>\n",
       "      <td>normal</td>\n",
       "      <td>1.716143</td>\n",
       "      <td>1.699871</td>\n",
       "      <td>0.934766</td>\n",
       "      <td>1.588982</td>\n",
       "      <td>17</td>\n",
       "      <td>0.923</td>\n",
       "      <td>1.584</td>\n",
       "    </tr>\n",
       "    <tr>\n",
       "      <th>1</th>\n",
       "      <td>48b091b44637c987_4903a58c1bcb23767fc2818c6e63</td>\n",
       "      <td>35014216</td>\n",
       "      <td>2019-04-25</td>\n",
       "      <td>2616</td>\n",
       "      <td>352</td>\n",
       "      <td>2018-05-08</td>\n",
       "      <td>35014216_2018-05-08</td>\n",
       "      <td>0</td>\n",
       "      <td>abnormal</td>\n",
       "      <td>2.644905</td>\n",
       "      <td>2.876778</td>\n",
       "      <td>0.636890</td>\n",
       "      <td>1.832192</td>\n",
       "      <td>8</td>\n",
       "      <td>0.628</td>\n",
       "      <td>1.661</td>\n",
       "    </tr>\n",
       "    <tr>\n",
       "      <th>2</th>\n",
       "      <td>48b091b714b41ffe_4903a582ec746dce5e9b6c1f4070</td>\n",
       "      <td>35029545</td>\n",
       "      <td>2017-05-16</td>\n",
       "      <td>2617</td>\n",
       "      <td>-69</td>\n",
       "      <td>2017-07-24</td>\n",
       "      <td>35029545_2017-07-24</td>\n",
       "      <td>0</td>\n",
       "      <td>abnormal</td>\n",
       "      <td>2.698341</td>\n",
       "      <td>2.554037</td>\n",
       "      <td>0.599508</td>\n",
       "      <td>1.531167</td>\n",
       "      <td>5</td>\n",
       "      <td>0.663</td>\n",
       "      <td>1.789</td>\n",
       "    </tr>\n",
       "    <tr>\n",
       "      <th>3</th>\n",
       "      <td>48b09412e8754782_4903a582ec78ec0366e9db9e17cd</td>\n",
       "      <td>35583509</td>\n",
       "      <td>2017-09-06</td>\n",
       "      <td>2620</td>\n",
       "      <td>-336</td>\n",
       "      <td>2018-08-08</td>\n",
       "      <td>35583509_2018-08-08</td>\n",
       "      <td>0</td>\n",
       "      <td>abnormal</td>\n",
       "      <td>1.994660</td>\n",
       "      <td>2.026460</td>\n",
       "      <td>0.544319</td>\n",
       "      <td>1.103042</td>\n",
       "      <td>3</td>\n",
       "      <td>0.749</td>\n",
       "      <td>1.494</td>\n",
       "    </tr>\n",
       "    <tr>\n",
       "      <th>4</th>\n",
       "      <td>48b095533cbfdf01_4903a58c1bcb2198682a98b7503a</td>\n",
       "      <td>35401116</td>\n",
       "      <td>2019-04-09</td>\n",
       "      <td>2619</td>\n",
       "      <td>-2</td>\n",
       "      <td>2019-04-11</td>\n",
       "      <td>35401116_2019-04-11</td>\n",
       "      <td>1</td>\n",
       "      <td>normal</td>\n",
       "      <td>1.110000</td>\n",
       "      <td>1.110000</td>\n",
       "      <td>0.790000</td>\n",
       "      <td>0.880000</td>\n",
       "      <td>17</td>\n",
       "      <td>0.790</td>\n",
       "      <td>0.880</td>\n",
       "    </tr>\n",
       "  </tbody>\n",
       "</table>\n",
       "</div>"
      ],
      "text/plain": [
       "                                           study       mrn echo_study_date  mrnstudyid  days_post_cfr cfr_study_date    petmrn_identifier  post-2018 myocardial_perfusion  global_cfr_calc  unaffected_cfr  rest_mbf_unaff  stress_mbf_unaff  num_unaffected_segs  rest_global_mbf  stress_global_mbf\n",
       "0  48b09016b25a7f36_4903a58dd44b7b81d524809aba5f  35133560      2018-11-02        2618            191     2018-04-25  35133560_2018-04-25          0               normal         1.716143        1.699871        0.934766          1.588982                   17            0.923              1.584\n",
       "1  48b091b44637c987_4903a58c1bcb23767fc2818c6e63  35014216      2019-04-25        2616            352     2018-05-08  35014216_2018-05-08          0             abnormal         2.644905        2.876778        0.636890          1.832192                    8            0.628              1.661\n",
       "2  48b091b714b41ffe_4903a582ec746dce5e9b6c1f4070  35029545      2017-05-16        2617            -69     2017-07-24  35029545_2017-07-24          0             abnormal         2.698341        2.554037        0.599508          1.531167                    5            0.663              1.789\n",
       "3  48b09412e8754782_4903a582ec78ec0366e9db9e17cd  35583509      2017-09-06        2620           -336     2018-08-08  35583509_2018-08-08          0             abnormal         1.994660        2.026460        0.544319          1.103042                    3            0.749              1.494\n",
       "4  48b095533cbfdf01_4903a58c1bcb2198682a98b7503a  35401116      2019-04-09        2619             -2     2019-04-11  35401116_2019-04-11          1               normal         1.110000        1.110000        0.790000          0.880000                   17            0.790              0.880"
      ]
     },
     "execution_count": 61,
     "metadata": {},
     "output_type": "execute_result"
    }
   ],
   "source": [
    "pet_cfr_echo_days_study.head()"
   ]
  },
  {
   "cell_type": "markdown",
   "metadata": {},
   "source": [
    "#### Filter the large echo_BWH_npy_feather_files dataframe for easier metadata collection ####"
   ]
  },
  {
   "cell_type": "code",
   "execution_count": 65,
   "metadata": {},
   "outputs": [
    {
     "name": "stdout",
     "output_type": "stream",
     "text": [
      "(603984, 8)\n",
      "Unique studies in meta data: 2291\n"
     ]
    }
   ],
   "source": [
    "# With the names of the matched echo studies, we can now get the file names\n",
    "# of the meta files that we will need\n",
    "\n",
    "meta_files_name = 'echo_BWH_npy_feather_files_'+cfr_meta_date+'.parquet'\n",
    "meta_files_cfr_name = 'echo_BWH_npy_feather_files_cfr_'+cfr_meta_date+'.parquet'\n",
    "\n",
    "meta_files_df = pd.read_parquet(os.path.join(meta_dir, meta_files_name))\n",
    "meta_files_df_matched = meta_files_df[meta_files_df.study.isin(pet_cfr_echo_days_study.study.unique())]\n",
    "print(meta_files_df_matched.shape)\n",
    "print('Unique studies in meta data: {}'.format(len(meta_files_df_matched.study.unique())))\n",
    "meta_files_df_matched.head(2)\n",
    "meta_files_df_matched.to_parquet(os.path.join(meta_dir, meta_files_cfr_name))"
   ]
  }
 ],
 "metadata": {
  "kernelspec": {
   "display_name": "Python 3",
   "language": "python",
   "name": "python3"
  },
  "language_info": {
   "codemirror_mode": {
    "name": "ipython",
    "version": 3
   },
   "file_extension": ".py",
   "mimetype": "text/x-python",
   "name": "python",
   "nbconvert_exporter": "python",
   "pygments_lexer": "ipython3",
   "version": "3.6.9"
  }
 },
 "nbformat": 4,
 "nbformat_minor": 4
}
