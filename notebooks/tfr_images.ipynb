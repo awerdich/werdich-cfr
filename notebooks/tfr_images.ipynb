{
 "cells": [
  {
   "cell_type": "code",
   "execution_count": 1,
   "metadata": {},
   "outputs": [],
   "source": [
    "import os\n",
    "import pickle\n",
    "import gzip\n",
    "import numpy as np\n",
    "import pandas as pd\n",
    "\n",
    "import tensorflow as tf\n",
    "#tf.enable_eager_execution()\n",
    "\n",
    "pd.set_option('display.max_rows', 50)\n",
    "pd.set_option('display.max_columns', 100)\n",
    "pd.set_option('display.width', 1000)\n",
    "from matplotlib import pyplot as plt\n",
    "%matplotlib inline\n",
    "from werdich_cfr.tfutils.TFRprovider import DatasetProvider\n",
    "from werdich_cfr.utils.visuals import ImageSliceViewer3D"
   ]
  },
  {
   "cell_type": "markdown",
   "metadata": {},
   "source": [
    "### Recover data from TFRecords: look at the postprocessed images ###"
   ]
  },
  {
   "cell_type": "code",
   "execution_count": 2,
   "metadata": {},
   "outputs": [
    {
     "data": {
      "text/html": [
       "<div>\n",
       "<style scoped>\n",
       "    .dataframe tbody tr th:only-of-type {\n",
       "        vertical-align: middle;\n",
       "    }\n",
       "\n",
       "    .dataframe tbody tr th {\n",
       "        vertical-align: top;\n",
       "    }\n",
       "\n",
       "    .dataframe thead th {\n",
       "        text-align: right;\n",
       "    }\n",
       "</style>\n",
       "<table border=\"1\" class=\"dataframe\">\n",
       "  <thead>\n",
       "    <tr style=\"text-align: right;\">\n",
       "      <th></th>\n",
       "      <th>mrn</th>\n",
       "      <th>study</th>\n",
       "      <th>echo_study_date</th>\n",
       "      <th>reportID</th>\n",
       "      <th>days_post_cfr</th>\n",
       "      <th>subjectid</th>\n",
       "      <th>report_number</th>\n",
       "      <th>cfr_study_date</th>\n",
       "      <th>cfr_report_date</th>\n",
       "      <th>cfr</th>\n",
       "      <th>filename</th>\n",
       "      <th>dir</th>\n",
       "      <th>datetime</th>\n",
       "      <th>fileid</th>\n",
       "      <th>institution</th>\n",
       "      <th>model</th>\n",
       "      <th>manufacturer</th>\n",
       "      <th>frame_time</th>\n",
       "      <th>number_of_frames</th>\n",
       "      <th>heart_rate</th>\n",
       "      <th>deltaX</th>\n",
       "      <th>deltaY</th>\n",
       "      <th>view_a2c</th>\n",
       "      <th>view_a3c</th>\n",
       "      <th>view_a4c</th>\n",
       "      <th>view_plax</th>\n",
       "      <th>view_psax</th>\n",
       "      <th>view_other</th>\n",
       "      <th>max_view</th>\n",
       "      <th>dset</th>\n",
       "      <th>rate</th>\n",
       "    </tr>\n",
       "  </thead>\n",
       "  <tbody>\n",
       "    <tr>\n",
       "      <th>8006</th>\n",
       "      <td>20915880</td>\n",
       "      <td>4903add984df300f_4903a581a72a3bb34bc3ef51c3dd</td>\n",
       "      <td>2014-01-29</td>\n",
       "      <td>134909</td>\n",
       "      <td>-259</td>\n",
       "      <td>5786</td>\n",
       "      <td>EVS0459826</td>\n",
       "      <td>2014-10-15</td>\n",
       "      <td>2014-01-29</td>\n",
       "      <td>2.404288</td>\n",
       "      <td>4903add984df300f_4903a581a72a3bb34bc3ef51c3dd_...</td>\n",
       "      <td>/mnt/obi0/phi/echo/npyFiles/BWH/4903/4903add98...</td>\n",
       "      <td>2014-01-29 10:02:32</td>\n",
       "      <td>4903add984df300f_4903a581a72a3bb34bc3ef51c3dd_...</td>\n",
       "      <td>BWH</td>\n",
       "      <td>iE33</td>\n",
       "      <td>Philips Medical Systems</td>\n",
       "      <td>33.333000</td>\n",
       "      <td>57.0</td>\n",
       "      <td>65.0</td>\n",
       "      <td>0.035327</td>\n",
       "      <td>0.035327</td>\n",
       "      <td>7.208254e-05</td>\n",
       "      <td>3.741998e-11</td>\n",
       "      <td>0.999914</td>\n",
       "      <td>1.023750e-08</td>\n",
       "      <td>1.344264e-05</td>\n",
       "      <td>1.041682e-08</td>\n",
       "      <td>view_a4c</td>\n",
       "      <td>test</td>\n",
       "      <td>30.0</td>\n",
       "    </tr>\n",
       "    <tr>\n",
       "      <th>111988</th>\n",
       "      <td>6158190</td>\n",
       "      <td>4b7d757fa70a2162_4903a585855e2e2cdddae1b0e3a3</td>\n",
       "      <td>2010-10-06</td>\n",
       "      <td>106017</td>\n",
       "      <td>0</td>\n",
       "      <td>3796</td>\n",
       "      <td>EVS0266507</td>\n",
       "      <td>2010-10-06</td>\n",
       "      <td>2010-10-06</td>\n",
       "      <td>2.488095</td>\n",
       "      <td>4b7d757fa70a2162_4903a585855e2e2cdddae1b0e3a3_...</td>\n",
       "      <td>/mnt/obi0/phi/echo/npyFiles/BWH/4b7d/4b7d757fa...</td>\n",
       "      <td>2010-10-06 10:17:03</td>\n",
       "      <td>4b7d757fa70a2162_4903a585855e2e2cdddae1b0e3a3_...</td>\n",
       "      <td>BWH</td>\n",
       "      <td>Vivid7</td>\n",
       "      <td>GE Vingmed Ultrasound</td>\n",
       "      <td>36.296297</td>\n",
       "      <td>55.0</td>\n",
       "      <td>68.0</td>\n",
       "      <td>0.056266</td>\n",
       "      <td>0.056266</td>\n",
       "      <td>2.008689e-09</td>\n",
       "      <td>1.254592e-09</td>\n",
       "      <td>1.000000</td>\n",
       "      <td>6.082250e-09</td>\n",
       "      <td>1.609704e-07</td>\n",
       "      <td>6.054661e-08</td>\n",
       "      <td>view_a4c</td>\n",
       "      <td>test</td>\n",
       "      <td>27.6</td>\n",
       "    </tr>\n",
       "  </tbody>\n",
       "</table>\n",
       "</div>"
      ],
      "text/plain": [
       "             mrn                                          study echo_study_date  reportID  days_post_cfr  subjectid report_number cfr_study_date cfr_report_date       cfr                                           filename                                                dir            datetime                                             fileid institution   model             manufacturer  frame_time  number_of_frames  heart_rate    deltaX    deltaY      view_a2c      view_a3c  view_a4c     view_plax     view_psax    view_other  max_view  dset  rate\n",
       "8006    20915880  4903add984df300f_4903a581a72a3bb34bc3ef51c3dd      2014-01-29    134909           -259       5786    EVS0459826     2014-10-15      2014-01-29  2.404288  4903add984df300f_4903a581a72a3bb34bc3ef51c3dd_...  /mnt/obi0/phi/echo/npyFiles/BWH/4903/4903add98... 2014-01-29 10:02:32  4903add984df300f_4903a581a72a3bb34bc3ef51c3dd_...         BWH    iE33  Philips Medical Systems   33.333000              57.0        65.0  0.035327  0.035327  7.208254e-05  3.741998e-11  0.999914  1.023750e-08  1.344264e-05  1.041682e-08  view_a4c  test  30.0\n",
       "111988   6158190  4b7d757fa70a2162_4903a585855e2e2cdddae1b0e3a3      2010-10-06    106017              0       3796    EVS0266507     2010-10-06      2010-10-06  2.488095  4b7d757fa70a2162_4903a585855e2e2cdddae1b0e3a3_...  /mnt/obi0/phi/echo/npyFiles/BWH/4b7d/4b7d757fa... 2010-10-06 10:17:03  4b7d757fa70a2162_4903a585855e2e2cdddae1b0e3a3_...         BWH  Vivid7    GE Vingmed Ultrasound   36.296297              55.0        68.0  0.056266  0.056266  2.008689e-09  1.254592e-09  1.000000  6.082250e-09  1.609704e-07  6.054661e-08  view_a4c  test  27.6"
      ]
     },
     "execution_count": 2,
     "metadata": {},
     "output_type": "execute_result"
    }
   ],
   "source": [
    "# Directories and files\n",
    "cfr_data_root = os.path.normpath('/mnt/obi0/andreas/data/cfr')\n",
    "meta_date = '200202'\n",
    "tfr_dir = os.path.join(cfr_data_root, 'tfr_'+meta_date)\n",
    "meta_dir = os.path.join(cfr_data_root, 'metadata_'+meta_date)\n",
    "\n",
    "# TFR file\n",
    "tfr_file = os.path.join(tfr_dir, 'CFR_200202_view_a4c_test_0.tfrecords')\n",
    "parquet_file = os.path.join(tfr_dir, 'CFR_200202_view_a4c_test_0.parquet')\n",
    "\n",
    "# Load df \n",
    "df = pd.read_parquet(parquet_file)\n",
    "df.head(2)"
   ]
  },
  {
   "cell_type": "markdown",
   "metadata": {},
   "source": [
    "### Percentile thresholds for classification ###"
   ]
  },
  {
   "cell_type": "code",
   "execution_count": 3,
   "metadata": {},
   "outputs": [
    {
     "name": "stdout",
     "output_type": "stream",
     "text": [
      "Size of cfr table: (131282, 31)\n",
      "Percentile boundaries: [1.247, 1.583, 2.075]\n"
     ]
    }
   ],
   "source": [
    "# Get the percentile thresholds for the data we have\n",
    "dset_filename = 'tfr_files_dset_BWH_'+meta_date+'.parquet'\n",
    "df_cfr = pd.read_parquet(os.path.join(meta_dir, dset_filename))\n",
    "print('Size of cfr table:', df_cfr.shape)\n",
    "cfr_array = df_cfr.cfr.values\n",
    "p_list = [np.round(np.percentile(cfr_array, p), decimals = 3) for p in (25, 50, 75)]\n",
    "print('Percentile boundaries:', p_list)"
   ]
  },
  {
   "cell_type": "code",
   "execution_count": 4,
   "metadata": {},
   "outputs": [
    {
     "name": "stdout",
     "output_type": "stream",
     "text": [
      "Percentile boundaries: [1.247, 1.583, 2.075]\n"
     ]
    }
   ],
   "source": [
    "p_list = [np.round(np.percentile(cfr_array, p), decimals = 3) for p in (25, 50, 75)]\n",
    "percentile_list = sorted(p_list)\n",
    "print('Percentile boundaries:', p_list)"
   ]
  },
  {
   "cell_type": "code",
   "execution_count": 5,
   "metadata": {},
   "outputs": [
    {
     "name": "stdout",
     "output_type": "stream",
     "text": [
      "[3 3 2 2 0 2 1 1 3 3]\n"
     ]
    }
   ],
   "source": [
    "def cfr_label(cfr_value):\n",
    "    if cfr_value < percentile_list[0]:\n",
    "        label = 0\n",
    "    elif cfr_value >= percentile_list[-1]:\n",
    "        label = len(percentile_list)\n",
    "    \n",
    "    for p in range(1, len(percentile_list)):\n",
    "        \n",
    "        if (cfr_value >= percentile_list[p-1]) & (cfr_value < percentile_list[p]):\n",
    "            label = p\n",
    "    \n",
    "    return label\n",
    "\n",
    "df['label'] = df['cfr'].apply(cfr_label)\n",
    "print(df.label.iloc[0:10].values)"
   ]
  },
  {
   "cell_type": "code",
   "execution_count": 6,
   "metadata": {},
   "outputs": [
    {
     "name": "stdout",
     "output_type": "stream",
     "text": [
      "[3 3 2 2 0 2 1 1 3 3]\n"
     ]
    }
   ],
   "source": [
    "percentile_list = p_list\n",
    "def cfr_p_label(cfr_value):\n",
    "    return np.digitize(cfr_value, bins = percentile_list)\n",
    "# Setting the threshold, check the number of positives and negatives\n",
    "df['labelp'] = df['cfr'].apply(cfr_p_label)\n",
    "print(df.labelp.iloc[0:10].values)"
   ]
  },
  {
   "cell_type": "code",
   "execution_count": 7,
   "metadata": {},
   "outputs": [
    {
     "name": "stdout",
     "output_type": "stream",
     "text": [
      "Unique labels: [0, 1, 2, 3]\n",
      "Label: 0 samples: 420\n",
      "Label: 1 samples: 435\n",
      "Label: 2 samples: 484\n",
      "Label: 3 samples: 441\n"
     ]
    }
   ],
   "source": [
    "label_list = sorted(df.label.unique())\n",
    "print('Unique labels:', label_list)\n",
    "df.head(20)\n",
    "# Number of samples in each group\n",
    "samples = [df[df.label == l].shape[0] for l in label_list]\n",
    "for l in label_list:\n",
    "    print('Label:', l, 'samples:', samples[l])"
   ]
  },
  {
   "cell_type": "code",
   "execution_count": 8,
   "metadata": {},
   "outputs": [
    {
     "data": {
      "text/plain": [
       "'/mnt/obi0/andreas/data/cfr/tfr_200202/CFR_200202_view_a4c_test_0.tfrecords'"
      ]
     },
     "execution_count": 8,
     "metadata": {},
     "output_type": "execute_result"
    }
   ],
   "source": [
    "tfr_file"
   ]
  },
  {
   "cell_type": "code",
   "execution_count": 9,
   "metadata": {},
   "outputs": [
    {
     "name": "stdout",
     "output_type": "stream",
     "text": [
      "WARNING:tensorflow:From /home/andreas/.local/share/virtualenvs/werdich-cfr-I8EtkdgQ/lib/python3.6/site-packages/tensorflow_core/python/ops/image_ops_impl.py:1556: div (from tensorflow.python.ops.math_ops) is deprecated and will be removed in a future version.\n",
      "Instructions for updating:\n",
      "Deprecated in favor of operator or tf.math.divide.\n"
     ]
    }
   ],
   "source": [
    "# Load from tfrecords\n",
    "ds = DatasetProvider([tfr_file],\n",
    "                     repeat_count = 1,\n",
    "                     n_frames = 30,\n",
    "                     cfr_boundaries = p_list,\n",
    "                     output_height = 299,\n",
    "                     output_width = 299,\n",
    "                     record_output = True)\n",
    "\n",
    "batch_size = 8\n",
    "ds = ds.make_batch(batch_size = batch_size, shuffle = False)"
   ]
  },
  {
   "cell_type": "code",
   "execution_count": 10,
   "metadata": {},
   "outputs": [
    {
     "data": {
      "text/plain": [
       "Int64Index([  8006, 111988, 111732,  72466,  67016, 127810,  24840, 115236,  95615,  70336,\n",
       "            ...\n",
       "             55305, 102808,  66000, 120226,  30250,  84555,  93018,  98913,  24772, 120200], dtype='int64', length=1780)"
      ]
     },
     "execution_count": 10,
     "metadata": {},
     "output_type": "execute_result"
    }
   ],
   "source": [
    "df.index"
   ]
  },
  {
   "cell_type": "code",
   "execution_count": 11,
   "metadata": {},
   "outputs": [
    {
     "name": "stdout",
     "output_type": "stream",
     "text": [
      "Input keys:  dict_keys(['video'])\n",
      "Output keys: dict_keys(['class_output', 'score_output'])\n",
      "Video batch shape: (8, 30, 299, 299, 1)\n",
      "Class batch output shape: (8, 4)\n",
      "CFR batch output shape: (8,)\n",
      "Record: [  8006 111988 111732  72466  67016 127810  24840 115236]\n",
      "CFR [2.4042876 2.4880948 1.5994316 2.0663562 0.870137  1.6426485 1.4246912\n",
      " 1.5637584]\n"
     ]
    },
    {
     "data": {
      "text/html": [
       "<div>\n",
       "<style scoped>\n",
       "    .dataframe tbody tr th:only-of-type {\n",
       "        vertical-align: middle;\n",
       "    }\n",
       "\n",
       "    .dataframe tbody tr th {\n",
       "        vertical-align: top;\n",
       "    }\n",
       "\n",
       "    .dataframe thead th {\n",
       "        text-align: right;\n",
       "    }\n",
       "</style>\n",
       "<table border=\"1\" class=\"dataframe\">\n",
       "  <thead>\n",
       "    <tr style=\"text-align: right;\">\n",
       "      <th></th>\n",
       "      <th>mrn</th>\n",
       "      <th>study</th>\n",
       "      <th>echo_study_date</th>\n",
       "      <th>reportID</th>\n",
       "      <th>days_post_cfr</th>\n",
       "      <th>subjectid</th>\n",
       "      <th>report_number</th>\n",
       "      <th>cfr_study_date</th>\n",
       "      <th>cfr_report_date</th>\n",
       "      <th>cfr</th>\n",
       "      <th>filename</th>\n",
       "      <th>dir</th>\n",
       "      <th>datetime</th>\n",
       "      <th>fileid</th>\n",
       "      <th>institution</th>\n",
       "      <th>model</th>\n",
       "      <th>manufacturer</th>\n",
       "      <th>frame_time</th>\n",
       "      <th>number_of_frames</th>\n",
       "      <th>heart_rate</th>\n",
       "      <th>deltaX</th>\n",
       "      <th>deltaY</th>\n",
       "      <th>view_a2c</th>\n",
       "      <th>view_a3c</th>\n",
       "      <th>view_a4c</th>\n",
       "      <th>view_plax</th>\n",
       "      <th>view_psax</th>\n",
       "      <th>view_other</th>\n",
       "      <th>max_view</th>\n",
       "      <th>dset</th>\n",
       "      <th>rate</th>\n",
       "      <th>label</th>\n",
       "      <th>labelp</th>\n",
       "    </tr>\n",
       "  </thead>\n",
       "  <tbody>\n",
       "    <tr>\n",
       "      <th>8006</th>\n",
       "      <td>20915880</td>\n",
       "      <td>4903add984df300f_4903a581a72a3bb34bc3ef51c3dd</td>\n",
       "      <td>2014-01-29</td>\n",
       "      <td>134909</td>\n",
       "      <td>-259</td>\n",
       "      <td>5786</td>\n",
       "      <td>EVS0459826</td>\n",
       "      <td>2014-10-15</td>\n",
       "      <td>2014-01-29</td>\n",
       "      <td>2.404288</td>\n",
       "      <td>4903add984df300f_4903a581a72a3bb34bc3ef51c3dd_...</td>\n",
       "      <td>/mnt/obi0/phi/echo/npyFiles/BWH/4903/4903add98...</td>\n",
       "      <td>2014-01-29 10:02:32</td>\n",
       "      <td>4903add984df300f_4903a581a72a3bb34bc3ef51c3dd_...</td>\n",
       "      <td>BWH</td>\n",
       "      <td>iE33</td>\n",
       "      <td>Philips Medical Systems</td>\n",
       "      <td>33.333000</td>\n",
       "      <td>57.0</td>\n",
       "      <td>65.0</td>\n",
       "      <td>0.035327</td>\n",
       "      <td>0.035327</td>\n",
       "      <td>7.208254e-05</td>\n",
       "      <td>3.741998e-11</td>\n",
       "      <td>0.999914</td>\n",
       "      <td>1.023750e-08</td>\n",
       "      <td>1.344264e-05</td>\n",
       "      <td>1.041682e-08</td>\n",
       "      <td>view_a4c</td>\n",
       "      <td>test</td>\n",
       "      <td>30.0</td>\n",
       "      <td>3</td>\n",
       "      <td>3</td>\n",
       "    </tr>\n",
       "    <tr>\n",
       "      <th>111988</th>\n",
       "      <td>6158190</td>\n",
       "      <td>4b7d757fa70a2162_4903a585855e2e2cdddae1b0e3a3</td>\n",
       "      <td>2010-10-06</td>\n",
       "      <td>106017</td>\n",
       "      <td>0</td>\n",
       "      <td>3796</td>\n",
       "      <td>EVS0266507</td>\n",
       "      <td>2010-10-06</td>\n",
       "      <td>2010-10-06</td>\n",
       "      <td>2.488095</td>\n",
       "      <td>4b7d757fa70a2162_4903a585855e2e2cdddae1b0e3a3_...</td>\n",
       "      <td>/mnt/obi0/phi/echo/npyFiles/BWH/4b7d/4b7d757fa...</td>\n",
       "      <td>2010-10-06 10:17:03</td>\n",
       "      <td>4b7d757fa70a2162_4903a585855e2e2cdddae1b0e3a3_...</td>\n",
       "      <td>BWH</td>\n",
       "      <td>Vivid7</td>\n",
       "      <td>GE Vingmed Ultrasound</td>\n",
       "      <td>36.296297</td>\n",
       "      <td>55.0</td>\n",
       "      <td>68.0</td>\n",
       "      <td>0.056266</td>\n",
       "      <td>0.056266</td>\n",
       "      <td>2.008689e-09</td>\n",
       "      <td>1.254592e-09</td>\n",
       "      <td>1.000000</td>\n",
       "      <td>6.082250e-09</td>\n",
       "      <td>1.609704e-07</td>\n",
       "      <td>6.054661e-08</td>\n",
       "      <td>view_a4c</td>\n",
       "      <td>test</td>\n",
       "      <td>27.6</td>\n",
       "      <td>3</td>\n",
       "      <td>3</td>\n",
       "    </tr>\n",
       "    <tr>\n",
       "      <th>111732</th>\n",
       "      <td>5935507</td>\n",
       "      <td>4b7e40869de6303a_4903a581a729165aa2617b1f1913</td>\n",
       "      <td>2014-02-10</td>\n",
       "      <td>128542</td>\n",
       "      <td>55</td>\n",
       "      <td>5756</td>\n",
       "      <td>EVS0465688</td>\n",
       "      <td>2013-12-17</td>\n",
       "      <td>2014-02-10</td>\n",
       "      <td>1.599432</td>\n",
       "      <td>4b7e40869de6303a_4903a581a729165aa2617b1f1913_...</td>\n",
       "      <td>/mnt/obi0/phi/echo/npyFiles/BWH/4b7e/4b7e40869...</td>\n",
       "      <td>2014-02-10 11:30:11</td>\n",
       "      <td>4b7e40869de6303a_4903a581a729165aa2617b1f1913_...</td>\n",
       "      <td>BWH</td>\n",
       "      <td>iE33</td>\n",
       "      <td>Philips Medical Systems</td>\n",
       "      <td>33.333000</td>\n",
       "      <td>65.0</td>\n",
       "      <td>59.0</td>\n",
       "      <td>0.028706</td>\n",
       "      <td>0.028706</td>\n",
       "      <td>2.344970e-10</td>\n",
       "      <td>2.540582e-10</td>\n",
       "      <td>1.000000</td>\n",
       "      <td>2.016242e-11</td>\n",
       "      <td>9.736658e-11</td>\n",
       "      <td>1.218168e-09</td>\n",
       "      <td>view_a4c</td>\n",
       "      <td>test</td>\n",
       "      <td>30.0</td>\n",
       "      <td>2</td>\n",
       "      <td>2</td>\n",
       "    </tr>\n",
       "    <tr>\n",
       "      <th>72466</th>\n",
       "      <td>24357550</td>\n",
       "      <td>4907ba5bcb859347_4903a5864e62c368b1899c3e9277</td>\n",
       "      <td>2013-04-24</td>\n",
       "      <td>123775</td>\n",
       "      <td>-2</td>\n",
       "      <td>5237</td>\n",
       "      <td>EVS0430176</td>\n",
       "      <td>2013-04-26</td>\n",
       "      <td>2013-07-14</td>\n",
       "      <td>2.066356</td>\n",
       "      <td>4907ba5bcb859347_4903a5864e62c368b1899c3e9277_...</td>\n",
       "      <td>/mnt/obi0/phi/echo/npyFiles/BWH/4907/4907ba5bc...</td>\n",
       "      <td>2013-04-24 08:35:08</td>\n",
       "      <td>4907ba5bcb859347_4903a5864e62c368b1899c3e9277_...</td>\n",
       "      <td>BWH</td>\n",
       "      <td>iE33</td>\n",
       "      <td>Philips Medical Systems</td>\n",
       "      <td>33.333000</td>\n",
       "      <td>46.0</td>\n",
       "      <td>83.0</td>\n",
       "      <td>0.048410</td>\n",
       "      <td>0.048410</td>\n",
       "      <td>1.182036e-12</td>\n",
       "      <td>5.252439e-11</td>\n",
       "      <td>1.000000</td>\n",
       "      <td>6.277198e-12</td>\n",
       "      <td>1.334326e-11</td>\n",
       "      <td>1.871121e-10</td>\n",
       "      <td>view_a4c</td>\n",
       "      <td>test</td>\n",
       "      <td>30.0</td>\n",
       "      <td>2</td>\n",
       "      <td>2</td>\n",
       "    </tr>\n",
       "    <tr>\n",
       "      <th>67016</th>\n",
       "      <td>14527550</td>\n",
       "      <td>4a12b407dc4f854f_4903a585842f401bedf622574877</td>\n",
       "      <td>2010-01-19</td>\n",
       "      <td>107888</td>\n",
       "      <td>-364</td>\n",
       "      <td>3987</td>\n",
       "      <td>EVS0284054</td>\n",
       "      <td>2011-01-18</td>\n",
       "      <td>2011-01-18</td>\n",
       "      <td>0.870137</td>\n",
       "      <td>4a12b407dc4f854f_4903a585842f401bedf622574877_...</td>\n",
       "      <td>/mnt/obi0/phi/echo/npyFiles/BWH/4a12/4a12b407d...</td>\n",
       "      <td>2010-01-19 09:15:00</td>\n",
       "      <td>4a12b407dc4f854f_4903a585842f401bedf622574877_...</td>\n",
       "      <td>BWH</td>\n",
       "      <td>iE33</td>\n",
       "      <td>Philips Medical Systems</td>\n",
       "      <td>33.333000</td>\n",
       "      <td>52.0</td>\n",
       "      <td>74.0</td>\n",
       "      <td>0.037555</td>\n",
       "      <td>0.037555</td>\n",
       "      <td>3.065661e-12</td>\n",
       "      <td>1.792938e-15</td>\n",
       "      <td>1.000000</td>\n",
       "      <td>1.158044e-14</td>\n",
       "      <td>7.293039e-14</td>\n",
       "      <td>1.889846e-14</td>\n",
       "      <td>view_a4c</td>\n",
       "      <td>test</td>\n",
       "      <td>30.0</td>\n",
       "      <td>0</td>\n",
       "      <td>0</td>\n",
       "    </tr>\n",
       "    <tr>\n",
       "      <th>127810</th>\n",
       "      <td>15715683</td>\n",
       "      <td>4a13446cce5ff451_4903a58051d59d43341bc2568568</td>\n",
       "      <td>2015-11-02</td>\n",
       "      <td>146627</td>\n",
       "      <td>-199</td>\n",
       "      <td>5093</td>\n",
       "      <td>E1519007</td>\n",
       "      <td>2016-05-19</td>\n",
       "      <td>2016-05-19</td>\n",
       "      <td>1.642648</td>\n",
       "      <td>4a13446cce5ff451_4903a58051d59d43341bc2568568_...</td>\n",
       "      <td>/mnt/obi0/phi/echo/npyFiles/BWH/4a13/4a13446cc...</td>\n",
       "      <td>2015-11-02 10:20:30</td>\n",
       "      <td>4a13446cce5ff451_4903a58051d59d43341bc2568568_...</td>\n",
       "      <td>BWH</td>\n",
       "      <td>EPIQ 7C</td>\n",
       "      <td>Philips Medical Systems</td>\n",
       "      <td>33.333000</td>\n",
       "      <td>61.0</td>\n",
       "      <td>101.0</td>\n",
       "      <td>0.036490</td>\n",
       "      <td>0.036490</td>\n",
       "      <td>7.899399e-07</td>\n",
       "      <td>5.596539e-07</td>\n",
       "      <td>0.999848</td>\n",
       "      <td>9.868662e-05</td>\n",
       "      <td>8.646753e-06</td>\n",
       "      <td>4.272278e-05</td>\n",
       "      <td>view_a4c</td>\n",
       "      <td>test</td>\n",
       "      <td>30.0</td>\n",
       "      <td>2</td>\n",
       "      <td>2</td>\n",
       "    </tr>\n",
       "    <tr>\n",
       "      <th>24840</th>\n",
       "      <td>2415545</td>\n",
       "      <td>4b79c94086090f25_4903a58792a1e7a6d4481621f48b</td>\n",
       "      <td>2012-10-01</td>\n",
       "      <td>119823</td>\n",
       "      <td>-2</td>\n",
       "      <td>5124</td>\n",
       "      <td>EVS0400775</td>\n",
       "      <td>2012-10-03</td>\n",
       "      <td>2013-06-24</td>\n",
       "      <td>1.424691</td>\n",
       "      <td>4b79c94086090f25_4903a58792a1e7a6d4481621f48b_...</td>\n",
       "      <td>/mnt/obi0/phi/echo/npyFiles/BWH/4b79/4b79c9408...</td>\n",
       "      <td>2012-10-01 14:50:15</td>\n",
       "      <td>4b79c94086090f25_4903a58792a1e7a6d4481621f48b_...</td>\n",
       "      <td>BWH</td>\n",
       "      <td>iE33</td>\n",
       "      <td>Philips Medical Systems</td>\n",
       "      <td>33.333000</td>\n",
       "      <td>61.0</td>\n",
       "      <td>60.0</td>\n",
       "      <td>0.036475</td>\n",
       "      <td>0.036475</td>\n",
       "      <td>1.442935e-12</td>\n",
       "      <td>2.575434e-15</td>\n",
       "      <td>1.000000</td>\n",
       "      <td>1.736809e-14</td>\n",
       "      <td>6.633172e-12</td>\n",
       "      <td>3.632279e-14</td>\n",
       "      <td>view_a4c</td>\n",
       "      <td>test</td>\n",
       "      <td>30.0</td>\n",
       "      <td>1</td>\n",
       "      <td>1</td>\n",
       "    </tr>\n",
       "    <tr>\n",
       "      <th>115236</th>\n",
       "      <td>9433152</td>\n",
       "      <td>4b72978d0cf99c24_4903a44ab129eff572375180067b</td>\n",
       "      <td>2009-02-17</td>\n",
       "      <td>90709</td>\n",
       "      <td>174</td>\n",
       "      <td>2537</td>\n",
       "      <td>EVS0170057</td>\n",
       "      <td>2008-08-27</td>\n",
       "      <td>2009-02-17</td>\n",
       "      <td>1.563758</td>\n",
       "      <td>4b72978d0cf99c24_4903a44ab129eff572375180067b_...</td>\n",
       "      <td>/mnt/obi0/phi/echo/npyFiles/BWH/4b72/4b72978d0...</td>\n",
       "      <td>2009-02-17 15:28:19</td>\n",
       "      <td>4b72978d0cf99c24_4903a44ab129eff572375180067b_...</td>\n",
       "      <td>BWH</td>\n",
       "      <td>Vivid7</td>\n",
       "      <td>GE Vingmed Ultrasound</td>\n",
       "      <td>40.163400</td>\n",
       "      <td>52.0</td>\n",
       "      <td>91.0</td>\n",
       "      <td>0.056266</td>\n",
       "      <td>0.056266</td>\n",
       "      <td>2.744269e-08</td>\n",
       "      <td>6.607036e-09</td>\n",
       "      <td>0.999975</td>\n",
       "      <td>2.548225e-09</td>\n",
       "      <td>1.794882e-06</td>\n",
       "      <td>2.358738e-05</td>\n",
       "      <td>view_a4c</td>\n",
       "      <td>test</td>\n",
       "      <td>24.9</td>\n",
       "      <td>1</td>\n",
       "      <td>1</td>\n",
       "    </tr>\n",
       "  </tbody>\n",
       "</table>\n",
       "</div>"
      ],
      "text/plain": [
       "             mrn                                          study echo_study_date  reportID  days_post_cfr  subjectid report_number cfr_study_date cfr_report_date       cfr                                           filename                                                dir            datetime                                             fileid institution    model             manufacturer  frame_time  number_of_frames  heart_rate    deltaX    deltaY      view_a2c      view_a3c  view_a4c     view_plax     view_psax    view_other  max_view  dset  rate  label  labelp\n",
       "8006    20915880  4903add984df300f_4903a581a72a3bb34bc3ef51c3dd      2014-01-29    134909           -259       5786    EVS0459826     2014-10-15      2014-01-29  2.404288  4903add984df300f_4903a581a72a3bb34bc3ef51c3dd_...  /mnt/obi0/phi/echo/npyFiles/BWH/4903/4903add98... 2014-01-29 10:02:32  4903add984df300f_4903a581a72a3bb34bc3ef51c3dd_...         BWH     iE33  Philips Medical Systems   33.333000              57.0        65.0  0.035327  0.035327  7.208254e-05  3.741998e-11  0.999914  1.023750e-08  1.344264e-05  1.041682e-08  view_a4c  test  30.0      3       3\n",
       "111988   6158190  4b7d757fa70a2162_4903a585855e2e2cdddae1b0e3a3      2010-10-06    106017              0       3796    EVS0266507     2010-10-06      2010-10-06  2.488095  4b7d757fa70a2162_4903a585855e2e2cdddae1b0e3a3_...  /mnt/obi0/phi/echo/npyFiles/BWH/4b7d/4b7d757fa... 2010-10-06 10:17:03  4b7d757fa70a2162_4903a585855e2e2cdddae1b0e3a3_...         BWH   Vivid7    GE Vingmed Ultrasound   36.296297              55.0        68.0  0.056266  0.056266  2.008689e-09  1.254592e-09  1.000000  6.082250e-09  1.609704e-07  6.054661e-08  view_a4c  test  27.6      3       3\n",
       "111732   5935507  4b7e40869de6303a_4903a581a729165aa2617b1f1913      2014-02-10    128542             55       5756    EVS0465688     2013-12-17      2014-02-10  1.599432  4b7e40869de6303a_4903a581a729165aa2617b1f1913_...  /mnt/obi0/phi/echo/npyFiles/BWH/4b7e/4b7e40869... 2014-02-10 11:30:11  4b7e40869de6303a_4903a581a729165aa2617b1f1913_...         BWH     iE33  Philips Medical Systems   33.333000              65.0        59.0  0.028706  0.028706  2.344970e-10  2.540582e-10  1.000000  2.016242e-11  9.736658e-11  1.218168e-09  view_a4c  test  30.0      2       2\n",
       "72466   24357550  4907ba5bcb859347_4903a5864e62c368b1899c3e9277      2013-04-24    123775             -2       5237    EVS0430176     2013-04-26      2013-07-14  2.066356  4907ba5bcb859347_4903a5864e62c368b1899c3e9277_...  /mnt/obi0/phi/echo/npyFiles/BWH/4907/4907ba5bc... 2013-04-24 08:35:08  4907ba5bcb859347_4903a5864e62c368b1899c3e9277_...         BWH     iE33  Philips Medical Systems   33.333000              46.0        83.0  0.048410  0.048410  1.182036e-12  5.252439e-11  1.000000  6.277198e-12  1.334326e-11  1.871121e-10  view_a4c  test  30.0      2       2\n",
       "67016   14527550  4a12b407dc4f854f_4903a585842f401bedf622574877      2010-01-19    107888           -364       3987    EVS0284054     2011-01-18      2011-01-18  0.870137  4a12b407dc4f854f_4903a585842f401bedf622574877_...  /mnt/obi0/phi/echo/npyFiles/BWH/4a12/4a12b407d... 2010-01-19 09:15:00  4a12b407dc4f854f_4903a585842f401bedf622574877_...         BWH     iE33  Philips Medical Systems   33.333000              52.0        74.0  0.037555  0.037555  3.065661e-12  1.792938e-15  1.000000  1.158044e-14  7.293039e-14  1.889846e-14  view_a4c  test  30.0      0       0\n",
       "127810  15715683  4a13446cce5ff451_4903a58051d59d43341bc2568568      2015-11-02    146627           -199       5093      E1519007     2016-05-19      2016-05-19  1.642648  4a13446cce5ff451_4903a58051d59d43341bc2568568_...  /mnt/obi0/phi/echo/npyFiles/BWH/4a13/4a13446cc... 2015-11-02 10:20:30  4a13446cce5ff451_4903a58051d59d43341bc2568568_...         BWH  EPIQ 7C  Philips Medical Systems   33.333000              61.0       101.0  0.036490  0.036490  7.899399e-07  5.596539e-07  0.999848  9.868662e-05  8.646753e-06  4.272278e-05  view_a4c  test  30.0      2       2\n",
       "24840    2415545  4b79c94086090f25_4903a58792a1e7a6d4481621f48b      2012-10-01    119823             -2       5124    EVS0400775     2012-10-03      2013-06-24  1.424691  4b79c94086090f25_4903a58792a1e7a6d4481621f48b_...  /mnt/obi0/phi/echo/npyFiles/BWH/4b79/4b79c9408... 2012-10-01 14:50:15  4b79c94086090f25_4903a58792a1e7a6d4481621f48b_...         BWH     iE33  Philips Medical Systems   33.333000              61.0        60.0  0.036475  0.036475  1.442935e-12  2.575434e-15  1.000000  1.736809e-14  6.633172e-12  3.632279e-14  view_a4c  test  30.0      1       1\n",
       "115236   9433152  4b72978d0cf99c24_4903a44ab129eff572375180067b      2009-02-17     90709            174       2537    EVS0170057     2008-08-27      2009-02-17  1.563758  4b72978d0cf99c24_4903a44ab129eff572375180067b_...  /mnt/obi0/phi/echo/npyFiles/BWH/4b72/4b72978d0... 2009-02-17 15:28:19  4b72978d0cf99c24_4903a44ab129eff572375180067b_...         BWH   Vivid7    GE Vingmed Ultrasound   40.163400              52.0        91.0  0.056266  0.056266  2.744269e-08  6.607036e-09  0.999975  2.548225e-09  1.794882e-06  2.358738e-05  view_a4c  test  24.9      1       1"
      ]
     },
     "execution_count": 11,
     "metadata": {},
     "output_type": "execute_result"
    }
   ],
   "source": [
    "for out in ds.take(1):\n",
    "    output_batch = out\n",
    "    \n",
    "\n",
    "# Output batch is a list of dictionaries [INPUT, OUTPUT]:\n",
    "print('Input keys: ', output_batch[0].keys())\n",
    "print('Output keys:', output_batch[1].keys())\n",
    "\n",
    "image_batch = output_batch[0]['video'].numpy()\n",
    "print('Video batch shape:', image_batch.shape)\n",
    "class_label_batch = output_batch[1]['class_output'].numpy()\n",
    "print('Class batch output shape:', class_label_batch.shape)\n",
    "cfr_batch = output_batch[1]['score_output'].numpy()\n",
    "print('CFR batch output shape:', cfr_batch.shape)\n",
    "record_batch = output_batch[2]['record'].numpy()\n",
    "print('Record:', record_batch)\n",
    "print('CFR', cfr_batch)\n",
    "\n",
    "df[df.index.isin(record_batch)]"
   ]
  },
  {
   "cell_type": "code",
   "execution_count": 12,
   "metadata": {},
   "outputs": [
    {
     "data": {
      "text/plain": [
       "TensorShape([8, 30, 299, 299, 1])"
      ]
     },
     "execution_count": 12,
     "metadata": {},
     "output_type": "execute_result"
    }
   ],
   "source": [
    "output_batch[0]['video'].shape"
   ]
  },
  {
   "cell_type": "code",
   "execution_count": 13,
   "metadata": {},
   "outputs": [
    {
     "name": "stdout",
     "output_type": "stream",
     "text": [
      "Batch sample: 1\n",
      "Video shape: (30, 299, 299, 1)\n",
      "class label: 3\n",
      "\n",
      "frame: 9\n",
      "min: -0.47007039189338684\n",
      "max: 8.252860069274902\n",
      "mean: -3.715005512409227e-07\n",
      "std: 0.9999998798505575\n",
      "color channels: [0.25391403]\n",
      "\n",
      "frame: 23\n",
      "min: -0.4666437804698944\n",
      "max: 8.955738067626953\n",
      "mean: 8.888132171486927e-07\n",
      "std: 0.9999998075000586\n",
      "color channels: [0.31539357]\n",
      "\n",
      "frame: 17\n",
      "min: -0.4756103754043579\n",
      "max: 8.300260543823242\n",
      "mean: 4.7415562401883485e-07\n",
      "std: 1.0000002327038104\n",
      "color channels: [0.2512973]\n",
      "\n",
      "frame: 24\n",
      "min: -0.466736376285553\n",
      "max: 9.07857894897461\n",
      "mean: -7.974016435896025e-07\n",
      "std: 1.000000394317715\n",
      "color channels: [0.3255043]\n",
      "\n",
      "frame: 0\n",
      "min: -0.4942355751991272\n",
      "max: 7.728755950927734\n",
      "mean: -7.011779788036744e-07\n",
      "std: 0.9999986447656888\n",
      "color channels: [0.18825498]\n",
      "\n",
      "frame: 29\n",
      "min: -0.464873731136322\n",
      "max: 8.727798461914062\n",
      "mean: 3.9672544830179237e-07\n",
      "std: 0.9999988068808184\n",
      "color channels: [0.29655772]\n",
      "\n",
      "frame: 21\n",
      "min: -0.4723415970802307\n",
      "max: 8.713818550109863\n",
      "mean: -3.7381474037172456e-07\n",
      "std: 0.9999989072390278\n",
      "color channels: [0.2885505]\n",
      "\n",
      "frame: 9\n",
      "min: -0.47007039189338684\n",
      "max: 8.252860069274902\n",
      "mean: -3.715005512409227e-07\n",
      "std: 0.9999998798505575\n",
      "color channels: [0.25391403]\n",
      "\n",
      "frame: 15\n",
      "min: -0.47706618905067444\n",
      "max: 8.218487739562988\n",
      "mean: -2.0366241927129052e-07\n",
      "std: 0.9999985924456687\n",
      "color channels: [0.24834703]\n",
      "\n",
      "frame: 13\n",
      "min: -0.47596561908721924\n",
      "max: 8.17375659942627\n",
      "mean: -1.264299692446714e-07\n",
      "std: 1.0000015476841762\n",
      "color channels: [0.24618994]\n"
     ]
    }
   ],
   "source": [
    "# Pick a random sample from the batch\n",
    "#sample_idx = np.random.randint(batch_size, size = 1)[0]\n",
    "sample_idx = 1\n",
    "\n",
    "# Image sample\n",
    "video_sample = image_batch[sample_idx]\n",
    "class_label_onehot = class_label_batch[sample_idx]\n",
    "class_label = np.argmax(class_label_onehot)\n",
    "\n",
    "print('Batch sample:', sample_idx)\n",
    "print('Video shape:', video_sample.shape)\n",
    "print('class label:', class_label)\n",
    "\n",
    "#Pick a few images and check the stats\n",
    "image_idx_list = np.random.randint(video_sample.shape[0], size = 10)\n",
    "for frame in image_idx_list:\n",
    "    im = video_sample[frame]\n",
    "    print()\n",
    "    print('frame:', frame)\n",
    "    print('min:', np.amin(im))\n",
    "    print('max:', np.amax(im))\n",
    "    print('mean:', np.mean(im))\n",
    "    print('std:', np.std(im))\n",
    "    print('color channels:', im[20, 20, :])"
   ]
  },
  {
   "cell_type": "code",
   "execution_count": 14,
   "metadata": {
    "scrolled": false
   },
   "outputs": [
    {
     "name": "stdout",
     "output_type": "stream",
     "text": [
      "(299, 299, 30)\n"
     ]
    },
    {
     "data": {
      "application/vnd.jupyter.widget-view+json": {
       "model_id": "53227c61c6e945b0823be4da72e3bc15",
       "version_major": 2,
       "version_minor": 0
      },
      "text/plain": [
       "interactive(children=(RadioButtons(description='Slice plane selection:', options=('x-y', 'y-z', 'z-x'), style=…"
      ]
     },
     "metadata": {},
     "output_type": "display_data"
    },
    {
     "name": "stdout",
     "output_type": "stream",
     "text": [
      "(299, 299, 30)\n"
     ]
    },
    {
     "data": {
      "application/vnd.jupyter.widget-view+json": {
       "model_id": "e9bde1fc40bf4defa4d2ed2b0d3d5955",
       "version_major": 2,
       "version_minor": 0
      },
      "text/plain": [
       "interactive(children=(RadioButtons(description='Slice plane selection:', options=('x-y', 'y-z', 'z-x'), style=…"
      ]
     },
     "metadata": {},
     "output_type": "display_data"
    },
    {
     "name": "stdout",
     "output_type": "stream",
     "text": [
      "(299, 299, 30)\n"
     ]
    },
    {
     "data": {
      "application/vnd.jupyter.widget-view+json": {
       "model_id": "58590296970848e288f5a6bc0f790961",
       "version_major": 2,
       "version_minor": 0
      },
      "text/plain": [
       "interactive(children=(RadioButtons(description='Slice plane selection:', options=('x-y', 'y-z', 'z-x'), style=…"
      ]
     },
     "metadata": {},
     "output_type": "display_data"
    },
    {
     "name": "stdout",
     "output_type": "stream",
     "text": [
      "(299, 299, 30)\n"
     ]
    },
    {
     "data": {
      "application/vnd.jupyter.widget-view+json": {
       "model_id": "5785356cb0494fb38d0a028d0be17eaf",
       "version_major": 2,
       "version_minor": 0
      },
      "text/plain": [
       "interactive(children=(RadioButtons(description='Slice plane selection:', options=('x-y', 'y-z', 'z-x'), style=…"
      ]
     },
     "metadata": {},
     "output_type": "display_data"
    },
    {
     "name": "stdout",
     "output_type": "stream",
     "text": [
      "(299, 299, 30)\n"
     ]
    },
    {
     "data": {
      "application/vnd.jupyter.widget-view+json": {
       "model_id": "73efcc5fafe84b5c8d56e86746dddefe",
       "version_major": 2,
       "version_minor": 0
      },
      "text/plain": [
       "interactive(children=(RadioButtons(description='Slice plane selection:', options=('x-y', 'y-z', 'z-x'), style=…"
      ]
     },
     "metadata": {},
     "output_type": "display_data"
    },
    {
     "name": "stdout",
     "output_type": "stream",
     "text": [
      "(299, 299, 30)\n"
     ]
    },
    {
     "data": {
      "application/vnd.jupyter.widget-view+json": {
       "model_id": "a16ec0059a88421ba36d6208f64cfa2c",
       "version_major": 2,
       "version_minor": 0
      },
      "text/plain": [
       "interactive(children=(RadioButtons(description='Slice plane selection:', options=('x-y', 'y-z', 'z-x'), style=…"
      ]
     },
     "metadata": {},
     "output_type": "display_data"
    },
    {
     "name": "stdout",
     "output_type": "stream",
     "text": [
      "(299, 299, 30)\n"
     ]
    },
    {
     "data": {
      "application/vnd.jupyter.widget-view+json": {
       "model_id": "5ed5196218c549029ce0b0cbbe7847a9",
       "version_major": 2,
       "version_minor": 0
      },
      "text/plain": [
       "interactive(children=(RadioButtons(description='Slice plane selection:', options=('x-y', 'y-z', 'z-x'), style=…"
      ]
     },
     "metadata": {},
     "output_type": "display_data"
    },
    {
     "name": "stdout",
     "output_type": "stream",
     "text": [
      "(299, 299, 30)\n"
     ]
    },
    {
     "data": {
      "application/vnd.jupyter.widget-view+json": {
       "model_id": "905ba9ee48aa4ff686ce69024dbf4186",
       "version_major": 2,
       "version_minor": 0
      },
      "text/plain": [
       "interactive(children=(RadioButtons(description='Slice plane selection:', options=('x-y', 'y-z', 'z-x'), style=…"
      ]
     },
     "metadata": {},
     "output_type": "display_data"
    }
   ],
   "source": [
    "# Let's take a look at one of the videos\n",
    "# Pick a random sample from the batch\n",
    "\n",
    "for sample in range(len(output_batch[0]['video'])):\n",
    "    im_array = np.squeeze(output_batch[0]['video'][sample])\n",
    "    im_array = np.moveaxis(im_array, 0, -1)\n",
    "    print(im_array.shape)\n",
    "    ImageSliceViewer3D(im_array)"
   ]
  }
 ],
 "metadata": {
  "kernelspec": {
   "display_name": "Python 3",
   "language": "python",
   "name": "python3"
  },
  "language_info": {
   "codemirror_mode": {
    "name": "ipython",
    "version": 3
   },
   "file_extension": ".py",
   "mimetype": "text/x-python",
   "name": "python",
   "nbconvert_exporter": "python",
   "pygments_lexer": "ipython3",
   "version": "3.6.9"
  }
 },
 "nbformat": 4,
 "nbformat_minor": 2
}
