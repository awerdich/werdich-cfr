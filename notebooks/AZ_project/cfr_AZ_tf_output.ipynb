{
 "cells": [
  {
   "cell_type": "markdown",
   "metadata": {},
   "source": [
    "### Check tf preprocessing pipeline with AZ videos ###"
   ]
  },
  {
   "cell_type": "code",
   "execution_count": 2,
   "metadata": {},
   "outputs": [],
   "source": [
    "import os\n",
    "import glob\n",
    "import pickle\n",
    "import pandas as pd"
   ]
  },
  {
   "cell_type": "code",
   "execution_count": 8,
   "metadata": {},
   "outputs": [
    {
     "data": {
      "text/html": [
       "<div>\n",
       "<style scoped>\n",
       "    .dataframe tbody tr th:only-of-type {\n",
       "        vertical-align: middle;\n",
       "    }\n",
       "\n",
       "    .dataframe tbody tr th {\n",
       "        vertical-align: top;\n",
       "    }\n",
       "\n",
       "    .dataframe thead th {\n",
       "        text-align: right;\n",
       "    }\n",
       "</style>\n",
       "<table border=\"1\" class=\"dataframe\">\n",
       "  <thead>\n",
       "    <tr style=\"text-align: right;\">\n",
       "      <th></th>\n",
       "      <th>filename</th>\n",
       "      <th>frame_time</th>\n",
       "      <th>deltaX</th>\n",
       "      <th>deltaY</th>\n",
       "      <th>dir</th>\n",
       "      <th>prev_preds</th>\n",
       "    </tr>\n",
       "  </thead>\n",
       "  <tbody>\n",
       "    <tr>\n",
       "      <th>0</th>\n",
       "      <td>48b4c0c643454479_4903a58051d59c1632a2417b35c5_...</td>\n",
       "      <td>17.940552</td>\n",
       "      <td>0.044297</td>\n",
       "      <td>0.044297</td>\n",
       "      <td>/mnt/obi0/phi/echo/npyFiles/BWH/48b4/48b4c0c64...</td>\n",
       "      <td>1.596508</td>\n",
       "    </tr>\n",
       "    <tr>\n",
       "      <th>1</th>\n",
       "      <td>48b4c0c64adf5e8d_4903a58051d59c17833b0801157e_...</td>\n",
       "      <td>33.333000</td>\n",
       "      <td>0.044040</td>\n",
       "      <td>0.044040</td>\n",
       "      <td>/mnt/obi0/phi/echo/npyFiles/BWH/48b4/48b4c0c64...</td>\n",
       "      <td>2.038057</td>\n",
       "    </tr>\n",
       "  </tbody>\n",
       "</table>\n",
       "</div>"
      ],
      "text/plain": [
       "                                            filename  frame_time    deltaX  \\\n",
       "0  48b4c0c643454479_4903a58051d59c1632a2417b35c5_...   17.940552  0.044297   \n",
       "1  48b4c0c64adf5e8d_4903a58051d59c17833b0801157e_...   33.333000  0.044040   \n",
       "\n",
       "     deltaY                                                dir  prev_preds  \n",
       "0  0.044297  /mnt/obi0/phi/echo/npyFiles/BWH/48b4/48b4c0c64...    1.596508  \n",
       "1  0.044040  /mnt/obi0/phi/echo/npyFiles/BWH/48b4/48b4c0c64...    2.038057  "
      ]
     },
     "metadata": {},
     "output_type": "display_data"
    }
   ],
   "source": [
    "# Load BW metadata as example\n",
    "dev_dir = os.path.normpath('/mnt/obi0/andreas/data/cfr_AZ')\n",
    "bwmeta_file_name = 'bwh_metadata.parquet'\n",
    "bwmeta = pd.read_parquet(os.path.join(dev_dir, bwmeta_file_name))\n",
    "display(bwmeta.head(2))"
   ]
  },
  {
   "cell_type": "markdown",
   "metadata": {},
   "source": [
    "### Load AZ videos into memory ###"
   ]
  },
  {
   "cell_type": "code",
   "execution_count": 4,
   "metadata": {},
   "outputs": [],
   "source": [
    "az_project_dir = os.path.normpath('/mnt/obi0/sgoto/AZ_Project')\n",
    "az_npy_dir = os.path.join(az_project_dir, 'npyFiles')\n",
    "azmeta_file_name = 'metadata.tsv'\n",
    "azmeta_file = os.path.join(az_project_dir, azmeta_file_name) "
   ]
  },
  {
   "cell_type": "code",
   "execution_count": 11,
   "metadata": {},
   "outputs": [
    {
     "name": "stdout",
     "output_type": "stream",
     "text": [
      "Meta file contains 108 file with complete meta data.\n"
     ]
    },
    {
     "data": {
      "text/html": [
       "<div>\n",
       "<style scoped>\n",
       "    .dataframe tbody tr th:only-of-type {\n",
       "        vertical-align: middle;\n",
       "    }\n",
       "\n",
       "    .dataframe tbody tr th {\n",
       "        vertical-align: top;\n",
       "    }\n",
       "\n",
       "    .dataframe thead th {\n",
       "        text-align: right;\n",
       "    }\n",
       "</style>\n",
       "<table border=\"1\" class=\"dataframe\">\n",
       "  <thead>\n",
       "    <tr style=\"text-align: right;\">\n",
       "      <th></th>\n",
       "      <th>Unnamed: 0</th>\n",
       "      <th>filename</th>\n",
       "      <th>frame_time</th>\n",
       "      <th>deltaX</th>\n",
       "      <th>deltaY</th>\n",
       "      <th>dir</th>\n",
       "    </tr>\n",
       "  </thead>\n",
       "  <tbody>\n",
       "    <tr>\n",
       "      <th>0</th>\n",
       "      <td>0</td>\n",
       "      <td>KX00002F</td>\n",
       "      <td>17.363</td>\n",
       "      <td>-0.033333</td>\n",
       "      <td>0.033333</td>\n",
       "      <td>/mnt/obi0/sgoto/AZ_Project/npyFiles</td>\n",
       "    </tr>\n",
       "    <tr>\n",
       "      <th>1</th>\n",
       "      <td>3</td>\n",
       "      <td>KX000037</td>\n",
       "      <td>18.690</td>\n",
       "      <td>-0.031667</td>\n",
       "      <td>0.031667</td>\n",
       "      <td>/mnt/obi0/sgoto/AZ_Project/npyFiles</td>\n",
       "    </tr>\n",
       "    <tr>\n",
       "      <th>2</th>\n",
       "      <td>6</td>\n",
       "      <td>KX00001D</td>\n",
       "      <td>16.646</td>\n",
       "      <td>-0.031667</td>\n",
       "      <td>0.031667</td>\n",
       "      <td>/mnt/obi0/sgoto/AZ_Project/npyFiles</td>\n",
       "    </tr>\n",
       "    <tr>\n",
       "      <th>3</th>\n",
       "      <td>9</td>\n",
       "      <td>KX000005</td>\n",
       "      <td>16.646</td>\n",
       "      <td>-0.031667</td>\n",
       "      <td>0.031667</td>\n",
       "      <td>/mnt/obi0/sgoto/AZ_Project/npyFiles</td>\n",
       "    </tr>\n",
       "    <tr>\n",
       "      <th>4</th>\n",
       "      <td>12</td>\n",
       "      <td>KX0000C5</td>\n",
       "      <td>16.490</td>\n",
       "      <td>-0.028333</td>\n",
       "      <td>0.028333</td>\n",
       "      <td>/mnt/obi0/sgoto/AZ_Project/npyFiles</td>\n",
       "    </tr>\n",
       "  </tbody>\n",
       "</table>\n",
       "</div>"
      ],
      "text/plain": [
       "   Unnamed: 0  filename  frame_time    deltaX    deltaY  \\\n",
       "0           0  KX00002F      17.363 -0.033333  0.033333   \n",
       "1           3  KX000037      18.690 -0.031667  0.031667   \n",
       "2           6  KX00001D      16.646 -0.031667  0.031667   \n",
       "3           9  KX000005      16.646 -0.031667  0.031667   \n",
       "4          12  KX0000C5      16.490 -0.028333  0.028333   \n",
       "\n",
       "                                   dir  \n",
       "0  /mnt/obi0/sgoto/AZ_Project/npyFiles  \n",
       "1  /mnt/obi0/sgoto/AZ_Project/npyFiles  \n",
       "2  /mnt/obi0/sgoto/AZ_Project/npyFiles  \n",
       "3  /mnt/obi0/sgoto/AZ_Project/npyFiles  \n",
       "4  /mnt/obi0/sgoto/AZ_Project/npyFiles  "
      ]
     },
     "metadata": {},
     "output_type": "display_data"
    }
   ],
   "source": [
    "# Load the meta data\n",
    "azmeta = pd.read_csv(azmeta_file, sep='\\t')\n",
    "azmeta = azmeta.dropna(subset=['frametime']).\\\n",
    "                rename(columns={'frametime': 'frame_time'}).\\\n",
    "                reset_index(drop=True)\n",
    "azmeta['dir'] = az_npy_dir\n",
    "\n",
    "azmeta_file_list = sorted(list(azmeta.filename.unique()))\n",
    "print(f'Meta file contains {len(azmeta_file_list)} file with complete meta data.')\n",
    "display(azmeta.head())"
   ]
  },
  {
   "cell_type": "code",
   "execution_count": null,
   "metadata": {},
   "outputs": [],
   "source": [
    "# Load .npy file list\n",
    "az_file_list = glob.glob(os.path.join(az_npy_dir, '*.npy.lz4'))\n",
    "# Compare with meta data\n",
    "az_file_name_list = [os.path.basename(file).rsplit('.')[0] for file in az_file_list]\n",
    "set(az_file_name_list).symmetric_difference(azmeta_file_list)"
   ]
  }
 ],
 "metadata": {
  "kernelspec": {
   "display_name": "Python 3",
   "language": "python",
   "name": "python3"
  },
  "language_info": {
   "codemirror_mode": {
    "name": "ipython",
    "version": 3
   },
   "file_extension": ".py",
   "mimetype": "text/x-python",
   "name": "python",
   "nbconvert_exporter": "python",
   "pygments_lexer": "ipython3",
   "version": "3.7.8"
  }
 },
 "nbformat": 4,
 "nbformat_minor": 4
}
