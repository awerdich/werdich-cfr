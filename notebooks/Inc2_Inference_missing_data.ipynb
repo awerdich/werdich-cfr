{
 "cells": [
  {
   "cell_type": "markdown",
   "metadata": {},
   "source": [
    "### Inference from a list of echo studies ###"
   ]
  },
  {
   "cell_type": "code",
   "execution_count": 1,
   "metadata": {},
   "outputs": [
    {
     "name": "stdout",
     "output_type": "stream",
     "text": [
      "TensorFlow Version: 2.2.0\n"
     ]
    }
   ],
   "source": [
    "import os\n",
    "import glob\n",
    "import pickle\n",
    "import pandas as pd\n",
    "\n",
    "# Custom imports\n",
    "from werdich_cfr.tfutils.Modeltrainer import VideoTrainer"
   ]
  },
  {
   "cell_type": "code",
   "execution_count": 3,
   "metadata": {},
   "outputs": [
    {
     "data": {
      "text/plain": [
       "Index(['filename', 'dir', 'study', 'mrn', 'datetime', 'fileid', 'institution', 'model', 'manufacturer', 'index', 'frame_time', 'number_of_frames', 'heart_rate', 'deltaX', 'deltaY', 'a2c', 'a2c_laocc', 'a2c_lvocc_s', 'a3c', 'a3c_laocc', 'a3c_lvocc_s', 'a4c', 'a4c_far', 'a4c_laocc', 'a4c_lvocc_s', 'a4c_rv', 'a4c_rv_laocc', 'a5c', 'apex', 'other', 'plax_far', 'plax_lac', 'plax_laz', 'plax_laz_ao', 'plax_plax', 'psax_avz', 'psax_az', 'psax_mv', 'psax_pap', 'rvinf', 'subcostal', 'suprasternal'], dtype='object')"
      ]
     },
     "execution_count": 3,
     "metadata": {},
     "output_type": "execute_result"
    }
   ],
   "source": [
    "meta_df.columns"
   ]
  },
  {
   "cell_type": "code",
   "execution_count": 7,
   "metadata": {},
   "outputs": [
    {
     "name": "stdout",
     "output_type": "stream",
     "text": [
      "Echo meta data has 45633 studies and 2257427 files.\n",
      "Echo list has 7860 studies.\n"
     ]
    }
   ],
   "source": [
    "def read_model_dict(file):\n",
    "    with open(file, 'rb') as f:\n",
    "        model_dict = pickle.load(f)\n",
    "    return model_dict\n",
    "\n",
    "# Directories and data sets\n",
    "cfr_data_root = os.path.normpath('/mnt/obi0/andreas/data/cfr')\n",
    "meta_date = '200606'\n",
    "meta_dir = os.path.join(cfr_data_root, 'metadata_'+meta_date)\n",
    "file_df_file = 'echo_BWH_npy_feather_files_'+meta_date+'.parquet'\n",
    "view = 'a4c'\n",
    "meta_df_file = 'echo_BWH_meta_200606.parquet'\n",
    "meta_df = pd.read_parquet(os.path.join(meta_dir, meta_df_file))\n",
    "print(f'Echo meta data has {len(meta_df.study.unique())} studies and {len(meta_df.filename.unique())} files.')\n",
    "\n",
    "\n",
    "best_models = pd.read_parquet(os.path.join(cfr_data_root, 'best_models_200607.parquet')).reset_index(drop=True)\n",
    "\n",
    "# echo list\n",
    "echo_list_dir = os.path.normpath('/mnt/obi0/sgoto/BWHCFREvents/echoList')\n",
    "echo_list_filename = 'BWH_2015-05-01_2015-10-31_FirstEcho.txt'\n",
    "echo_list_file = os.path.join(echo_list_dir, echo_list_filename)\n",
    "echo_list = pd.read_csv(echo_list_file, header='infer', sep='\\t')\n",
    "study_list = list(echo_list.study.unique())\n",
    "print(f'Echo list has {len(echo_list.study.unique())} studies.')"
   ]
  },
  {
   "cell_type": "code",
   "execution_count": 3,
   "metadata": {},
   "outputs": [
    {
     "name": "stdout",
     "output_type": "stream",
     "text": [
      "7860\n",
      "7705\n",
      "155\n"
     ]
    }
   ],
   "source": [
    "# Create a reduced npy_feather files to speed up the metadata collections\n",
    "meta_df_study_list = list(meta_df.study.unique())\n",
    "print(len(study_list))\n",
    "print(len(meta_df_study_list))\n",
    "# What's missing?\n",
    "missing_files = list(set(study_list).difference(file_df_study_list))\n",
    "print(len(missing_files))\n",
    "\n",
    "# Save missing echo list\n",
    "echo_list_file_missing = echo_list_filename.split('.')[0]+'_missing.parquet'\n",
    "echo_list_missing = echo_list[echo_list.study.isin(missing_files)]\n",
    "echo_list_missing.to_parquet(os.path.join(meta_dir, echo_list_file_missing))\n",
    "\n",
    "# Save the new list to collect the metadata\n",
    "file_df_file_pred = os.path.join(meta_dir, 'echo_BWH_npy_feather_files_pred_'+meta_date+'.parquet')\n",
    "file_df_study.to_parquet(file_df_file_pred)"
   ]
  },
  {
   "cell_type": "code",
   "execution_count": 4,
   "metadata": {},
   "outputs": [
    {
     "name": "stdout",
     "output_type": "stream",
     "text": [
      "(368504, 42)\n",
      "7687\n",
      "(368504, 42)\n",
      "\n",
      "After removal of rows without view clasification:\n",
      "Total number of patients in meta data 7687\n",
      "Total number of studies 7687\n",
      "Total number of files in meta data 368463\n"
     ]
    }
   ],
   "source": [
    "# Join the echo list with the meta data and filter VIEWS!!!\n",
    "meta_file = os.path.join(cfr_data_root, 'metadata_200606', 'echo_BWH_meta_pred_200606.parquet')\n",
    "meta_df = pd.read_parquet(meta_file)\n",
    "print(meta_df.shape)\n",
    "meta_df = meta_df[meta_df.study.isin(study_list)]\n",
    "print(len(meta_df.study.unique()))\n",
    "print(meta_df.shape)\n",
    "\n",
    "# Remove meta rows without view classification\n",
    "meta_df = meta_df.loc[~meta_df.a4c.isnull()]\n",
    "\n",
    "# Remove rows without frame_time\n",
    "meta_df = meta_df.loc[~meta_df.frame_time.isnull()].reset_index(drop = True)\n",
    "\n",
    "print()\n",
    "print('After removal of rows without view clasification:')\n",
    "print('Total number of patients in meta data {}'.format(len(meta_df.mrn.unique())))\n",
    "print('Total number of studies {}'.format(len(meta_df.study.unique())))\n",
    "print('Total number of files in meta data {}'.format(len(meta_df.filename.unique())))\n"
   ]
  },
  {
   "cell_type": "code",
   "execution_count": 5,
   "metadata": {},
   "outputs": [
    {
     "name": "stdout",
     "output_type": "stream",
     "text": [
      "Studies in data:     7687\n",
      "Total files:         368463\n",
      "\n",
      "Studies in a4c data: 7061\n",
      "Total files:         21735\n",
      "Total patients:      7061\n"
     ]
    }
   ],
   "source": [
    "view_dict = {'view_a2c': ['a2c', 'a2c_laocc', 'a2c_lvocc_s'],\n",
    "             'view_a3c': ['a3c', 'a3c_laocc', 'a3c_lvocc_s'],\n",
    "             'view_a4c': ['a4c', 'a4c_far', 'a4c_laocc', 'a4c_lvocc_s', 'a4c_rv', 'a4c_rv_laocc'],\n",
    "             'view_plax': ['plax_far', 'plax_lac', 'plax_laz', 'plax_laz_ao', 'plax_plax'],\n",
    "             'view_psax': ['psax_avz', 'psax_az', 'psax_mv', 'psax_pap'],\n",
    "             'view_other': ['other', 'a5c', 'apex', 'rvinf', 'subcostal', 'suprasternal']}\n",
    "\n",
    "# Get the maxiumum view classification score for each row\n",
    "view_list = [item for sublist in view_dict.values() for item in sublist]\n",
    "echo_meta_sum_views = meta_df.assign(max_view = meta_df[view_list].\\\n",
    "                                     idxmax(axis = 1))\n",
    "\n",
    "# Make sure that we have all views in our list and for consistency: Sum up all view columns\n",
    "echo_meta_sum_views = echo_meta_sum_views.assign(sum_views = echo_meta_sum_views[view_list].sum(axis=1))\n",
    "\n",
    "print(f'Studies in data:     {len(echo_meta_sum_views.study.unique())}')\n",
    "print(f'Total files:         {len(echo_meta_sum_views.filename.unique())}')\n",
    "\n",
    "meta_df_a4c = echo_meta_sum_views[echo_meta_sum_views.max_view==view].reset_index(drop=True)\n",
    "\n",
    "print()\n",
    "print(f'Studies in a4c data: {len(meta_df_a4c.study.unique())}')\n",
    "print(f'Total files:         {len(meta_df_a4c.filename.unique())}')\n",
    "print(f'Total patients:      {len(meta_df_a4c.mrn.unique())}')"
   ]
  },
  {
   "cell_type": "code",
   "execution_count": 6,
   "metadata": {},
   "outputs": [
    {
     "data": {
      "text/html": [
       "<div>\n",
       "<style scoped>\n",
       "    .dataframe tbody tr th:only-of-type {\n",
       "        vertical-align: middle;\n",
       "    }\n",
       "\n",
       "    .dataframe tbody tr th {\n",
       "        vertical-align: top;\n",
       "    }\n",
       "\n",
       "    .dataframe thead th {\n",
       "        text-align: right;\n",
       "    }\n",
       "</style>\n",
       "<table border=\"1\" class=\"dataframe\">\n",
       "  <thead>\n",
       "    <tr style=\"text-align: right;\">\n",
       "      <th></th>\n",
       "      <th>filename</th>\n",
       "      <th>dir</th>\n",
       "      <th>study</th>\n",
       "      <th>mrn</th>\n",
       "      <th>datetime</th>\n",
       "      <th>fileid</th>\n",
       "      <th>institution</th>\n",
       "      <th>model</th>\n",
       "      <th>manufacturer</th>\n",
       "      <th>index</th>\n",
       "      <th>frame_time</th>\n",
       "      <th>number_of_frames</th>\n",
       "      <th>heart_rate</th>\n",
       "      <th>deltaX</th>\n",
       "      <th>deltaY</th>\n",
       "      <th>a2c</th>\n",
       "      <th>a2c_laocc</th>\n",
       "      <th>a2c_lvocc_s</th>\n",
       "      <th>a3c</th>\n",
       "      <th>a3c_laocc</th>\n",
       "      <th>a3c_lvocc_s</th>\n",
       "      <th>a4c</th>\n",
       "      <th>a4c_far</th>\n",
       "      <th>a4c_laocc</th>\n",
       "      <th>a4c_lvocc_s</th>\n",
       "      <th>a4c_rv</th>\n",
       "      <th>a4c_rv_laocc</th>\n",
       "      <th>a5c</th>\n",
       "      <th>apex</th>\n",
       "      <th>other</th>\n",
       "      <th>plax_far</th>\n",
       "      <th>plax_lac</th>\n",
       "      <th>plax_laz</th>\n",
       "      <th>plax_laz_ao</th>\n",
       "      <th>plax_plax</th>\n",
       "      <th>psax_avz</th>\n",
       "      <th>psax_az</th>\n",
       "      <th>psax_mv</th>\n",
       "      <th>psax_pap</th>\n",
       "      <th>rvinf</th>\n",
       "      <th>subcostal</th>\n",
       "      <th>suprasternal</th>\n",
       "      <th>max_view</th>\n",
       "      <th>sum_views</th>\n",
       "    </tr>\n",
       "  </thead>\n",
       "  <tbody>\n",
       "    <tr>\n",
       "      <th>0</th>\n",
       "      <td>48b093000d7f_4903a580509f95b92b2105b5e972_Imag...</td>\n",
       "      <td>/mnt/obi0/phi/echo/npyFiles/BWH/48b0/48b093000...</td>\n",
       "      <td>48b093000d7f_4903a580509f95b92b2105b5e972</td>\n",
       "      <td>352917</td>\n",
       "      <td>2015-08-16 10:52:25</td>\n",
       "      <td>48b093000d7f_4903a580509f95b92b2105b5e972_Imag...</td>\n",
       "      <td>BWH</td>\n",
       "      <td>iE33</td>\n",
       "      <td>Philips Medical Systems</td>\n",
       "      <td>0.0</td>\n",
       "      <td>33.333</td>\n",
       "      <td>38.0</td>\n",
       "      <td>98.0</td>\n",
       "      <td>0.041843</td>\n",
       "      <td>0.041843</td>\n",
       "      <td>1.029911e-12</td>\n",
       "      <td>1.078118e-10</td>\n",
       "      <td>6.555025e-11</td>\n",
       "      <td>4.524656e-13</td>\n",
       "      <td>1.383462e-11</td>\n",
       "      <td>8.704672e-12</td>\n",
       "      <td>1.000000</td>\n",
       "      <td>3.328544e-09</td>\n",
       "      <td>6.031483e-12</td>\n",
       "      <td>1.011731e-13</td>\n",
       "      <td>1.491283e-09</td>\n",
       "      <td>2.553013e-13</td>\n",
       "      <td>2.601509e-10</td>\n",
       "      <td>7.555116e-14</td>\n",
       "      <td>1.384863e-12</td>\n",
       "      <td>1.448429e-12</td>\n",
       "      <td>4.486194e-12</td>\n",
       "      <td>5.324471e-12</td>\n",
       "      <td>4.132527e-13</td>\n",
       "      <td>1.562419e-16</td>\n",
       "      <td>9.941389e-12</td>\n",
       "      <td>6.200402e-10</td>\n",
       "      <td>3.362825e-12</td>\n",
       "      <td>3.102536e-10</td>\n",
       "      <td>3.127262e-11</td>\n",
       "      <td>7.137986e-16</td>\n",
       "      <td>4.884658e-12</td>\n",
       "      <td>a4c</td>\n",
       "      <td>1.0</td>\n",
       "    </tr>\n",
       "    <tr>\n",
       "      <th>1</th>\n",
       "      <td>48b093000d7f_4903a580509f95b92b2105b5e972_Imag...</td>\n",
       "      <td>/mnt/obi0/phi/echo/npyFiles/BWH/48b0/48b093000...</td>\n",
       "      <td>48b093000d7f_4903a580509f95b92b2105b5e972</td>\n",
       "      <td>352917</td>\n",
       "      <td>2015-08-16 10:52:25</td>\n",
       "      <td>48b093000d7f_4903a580509f95b92b2105b5e972_Imag...</td>\n",
       "      <td>BWH</td>\n",
       "      <td>iE33</td>\n",
       "      <td>Philips Medical Systems</td>\n",
       "      <td>0.0</td>\n",
       "      <td>33.333</td>\n",
       "      <td>38.0</td>\n",
       "      <td>96.0</td>\n",
       "      <td>0.041843</td>\n",
       "      <td>0.041843</td>\n",
       "      <td>4.055386e-12</td>\n",
       "      <td>6.216032e-12</td>\n",
       "      <td>3.634575e-11</td>\n",
       "      <td>6.060132e-12</td>\n",
       "      <td>1.590235e-10</td>\n",
       "      <td>6.489257e-12</td>\n",
       "      <td>0.999999</td>\n",
       "      <td>6.272859e-11</td>\n",
       "      <td>1.488713e-11</td>\n",
       "      <td>1.422675e-13</td>\n",
       "      <td>9.233230e-09</td>\n",
       "      <td>2.933806e-11</td>\n",
       "      <td>1.076182e-10</td>\n",
       "      <td>6.407318e-13</td>\n",
       "      <td>4.470310e-16</td>\n",
       "      <td>2.696358e-12</td>\n",
       "      <td>2.048425e-13</td>\n",
       "      <td>6.161614e-12</td>\n",
       "      <td>1.317816e-13</td>\n",
       "      <td>3.299598e-15</td>\n",
       "      <td>1.571574e-10</td>\n",
       "      <td>1.025484e-06</td>\n",
       "      <td>1.807344e-12</td>\n",
       "      <td>3.956003e-10</td>\n",
       "      <td>1.070398e-11</td>\n",
       "      <td>5.639570e-15</td>\n",
       "      <td>1.382021e-10</td>\n",
       "      <td>a4c</td>\n",
       "      <td>1.0</td>\n",
       "    </tr>\n",
       "  </tbody>\n",
       "</table>\n",
       "</div>"
      ],
      "text/plain": [
       "                                            filename                                                dir                                      study     mrn            datetime                                             fileid institution model             manufacturer  index  frame_time  number_of_frames  heart_rate    deltaX    deltaY           a2c     a2c_laocc   a2c_lvocc_s           a3c     a3c_laocc   a3c_lvocc_s       a4c       a4c_far     a4c_laocc   a4c_lvocc_s        a4c_rv  a4c_rv_laocc           a5c          apex         other      plax_far      plax_lac      plax_laz   plax_laz_ao     plax_plax      psax_avz       psax_az       psax_mv      psax_pap         rvinf     subcostal  suprasternal max_view  sum_views\n",
       "0  48b093000d7f_4903a580509f95b92b2105b5e972_Imag...  /mnt/obi0/phi/echo/npyFiles/BWH/48b0/48b093000...  48b093000d7f_4903a580509f95b92b2105b5e972  352917 2015-08-16 10:52:25  48b093000d7f_4903a580509f95b92b2105b5e972_Imag...         BWH  iE33  Philips Medical Systems    0.0      33.333              38.0        98.0  0.041843  0.041843  1.029911e-12  1.078118e-10  6.555025e-11  4.524656e-13  1.383462e-11  8.704672e-12  1.000000  3.328544e-09  6.031483e-12  1.011731e-13  1.491283e-09  2.553013e-13  2.601509e-10  7.555116e-14  1.384863e-12  1.448429e-12  4.486194e-12  5.324471e-12  4.132527e-13  1.562419e-16  9.941389e-12  6.200402e-10  3.362825e-12  3.102536e-10  3.127262e-11  7.137986e-16  4.884658e-12      a4c        1.0\n",
       "1  48b093000d7f_4903a580509f95b92b2105b5e972_Imag...  /mnt/obi0/phi/echo/npyFiles/BWH/48b0/48b093000...  48b093000d7f_4903a580509f95b92b2105b5e972  352917 2015-08-16 10:52:25  48b093000d7f_4903a580509f95b92b2105b5e972_Imag...         BWH  iE33  Philips Medical Systems    0.0      33.333              38.0        96.0  0.041843  0.041843  4.055386e-12  6.216032e-12  3.634575e-11  6.060132e-12  1.590235e-10  6.489257e-12  0.999999  6.272859e-11  1.488713e-11  1.422675e-13  9.233230e-09  2.933806e-11  1.076182e-10  6.407318e-13  4.470310e-16  2.696358e-12  2.048425e-13  6.161614e-12  1.317816e-13  3.299598e-15  1.571574e-10  1.025484e-06  1.807344e-12  3.956003e-10  1.070398e-11  5.639570e-15  1.382021e-10      a4c        1.0"
      ]
     },
     "execution_count": 6,
     "metadata": {},
     "output_type": "execute_result"
    }
   ],
   "source": [
    "meta_a4c_filename = echo_list_filename.split('.')[0] + '_'+view+'.parquet'\n",
    "meta_a4c_file = os.path.join(cfr_data_root, 'metadata_200606', meta_a4c_filename)\n",
    "meta_df_a4c.to_parquet(meta_a4c_file)\n",
    "meta_df_a4c.head(2)"
   ]
  },
  {
   "cell_type": "code",
   "execution_count": 7,
   "metadata": {},
   "outputs": [
    {
     "data": {
      "text/plain": [
       "model_name                       nondefect_a4c_dgx-1_stress_mbf_unaff\n",
       "model_output                                         stress_mbf_unaff\n",
       "epoch                                                             100\n",
       "chechkpoint_file    /mnt/obi0/andreas/data/cfr/log/nondefect_a4c_d...\n",
       "spear_cor                                                    0.446963\n",
       "spear_p                                                   1.73464e-44\n",
       "pear_cor                                                     0.440022\n",
       "pear_p                                                    5.11224e-43\n",
       "n_samples                                                         881\n",
       "dset                                                        nondefect\n",
       "view                                                              a4c\n",
       "gpu                                                             dgx-1\n",
       "Name: 0, dtype: object"
      ]
     },
     "execution_count": 7,
     "metadata": {},
     "output_type": "execute_result"
    }
   ],
   "source": [
    "model = best_models.iloc[0]\n",
    "model"
   ]
  }
 ],
 "metadata": {
  "kernelspec": {
   "display_name": "Python 3",
   "language": "python",
   "name": "python3"
  },
  "language_info": {
   "codemirror_mode": {
    "name": "ipython",
    "version": 3
   },
   "file_extension": ".py",
   "mimetype": "text/x-python",
   "name": "python",
   "nbconvert_exporter": "python",
   "pygments_lexer": "ipython3",
   "version": "3.7.7"
  }
 },
 "nbformat": 4,
 "nbformat_minor": 4
}
