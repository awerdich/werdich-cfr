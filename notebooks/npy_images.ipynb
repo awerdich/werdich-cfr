{
 "cells": [
  {
   "cell_type": "code",
   "execution_count": 1,
   "metadata": {},
   "outputs": [],
   "source": [
    "import os\n",
    "import cv2\n",
    "import numpy as np\n",
    "import ipywidgets as ipyw\n",
    "import lz4.frame\n",
    "import pandas as pd\n",
    "\n",
    "import matplotlib\n",
    "\n",
    "from matplotlib import pyplot as plt\n",
    "%matplotlib inline\n",
    "\n",
    "pd.set_option('display.max_rows', 50)\n",
    "pd.set_option('display.max_columns', 100)\n",
    "pd.set_option('display.width', 1000)"
   ]
  },
  {
   "cell_type": "code",
   "execution_count": 12,
   "metadata": {},
   "outputs": [],
   "source": [
    "class ImageSliceViewer3D:\n",
    "    \"\"\" \n",
    "    https://github.com/mohakpatel/ImageSliceViewer3D/blob/master/ImageSliceViewer3D.ipynb\n",
    "    \"\"\" \n",
    "    def __init__(self, volume, figsize=(8,8), cmap='gray'):\n",
    "        self.volume = volume\n",
    "        self.figsize = figsize\n",
    "        self.cmap = cmap\n",
    "        self.v = [np.min(volume), np.max(volume)]\n",
    "        \n",
    "        # Call to select slice plane\n",
    "        ipyw.interact(self.view_selection, view=ipyw.RadioButtons(\n",
    "            options=['x-y','y-z', 'z-x'], value='x-y', \n",
    "            description='Slice plane selection:', disabled=False,\n",
    "            style={'description_width': 'initial'}))\n",
    "    \n",
    "    def view_selection(self, view):\n",
    "        # Transpose the volume to orient according to the slice plane selection\n",
    "        orient = {\"y-z\":[1,2,0], \"z-x\":[2,0,1], \"x-y\": [0,1,2]}\n",
    "        self.vol = np.transpose(self.volume, orient[view])\n",
    "        maxZ = self.vol.shape[2] - 1\n",
    "        \n",
    "        # Call to view a slice within the selected slice plane\n",
    "        ipyw.interact(self.plot_slice, \n",
    "            z=ipyw.IntSlider(min=0, max=maxZ, step=1, continuous_update=False, \n",
    "            description='Image Slice:'))\n",
    "        \n",
    "    def plot_slice(self, z):\n",
    "        # Plot slice for the given plane and slice\n",
    "        self.fig = plt.figure(figsize=self.figsize)\n",
    "        plt.imshow(self.vol[:,:,z], cmap=plt.get_cmap(self.cmap), \n",
    "            vmin=self.v[0], vmax=self.v[1])"
   ]
  },
  {
   "cell_type": "code",
   "execution_count": 120,
   "metadata": {},
   "outputs": [
    {
     "name": "stdout",
     "output_type": "stream",
     "text": [
      "Removed 9 rows.\n",
      "Shape of image array: (80, 600, 800)\n",
      "Frame time 0.033333 ms -> rate 30.000300003000028 Hz.\n"
     ]
    }
   ],
   "source": [
    "cfr_data_root = os.path.normpath('/mnt/obi0/andreas/data/cfr')\n",
    "cfr_meta_dir = os.path.join(cfr_data_root, 'metadata_200131')\n",
    "cfr_meta_file = '210_getStressTest_files_dset_BWH_200131.parquet'\n",
    "meta_df = pd.read_parquet(os.path.join(cfr_meta_dir, cfr_meta_file))\n",
    "\n",
    "# Cleaning meta data\n",
    "rows0 = meta_df.shape[0]\n",
    "# We need views: remove all rows that do not have view classification\n",
    "meta_df = meta_df.loc[~meta_df.max_view.isnull()]\n",
    "# We also need frame_interval\n",
    "meta_df = meta_df.loc[~meta_df.frame_time.isnull()]\n",
    "print('Removed {} rows.'.format(rows0 - meta_df.shape[0]))\n",
    "\n",
    "view_list = sorted(list(meta_df.max_view.unique()))\n",
    "mode_list = sorted(list(meta_df.dset.unique()))\n",
    "# LOOP 1: VIEWS\n",
    "view = view_list[2]\n",
    "# LOOP 2: MODE\n",
    "mode = mode_list[2]\n",
    "# Filter view and mode. Shuffle.\n",
    "df = meta_df[(meta_df.max_view == view) & (meta_df.dset == mode)].sample(frac = 1)\n",
    "\n",
    "# LOOP 3: FILES loop over all file names\n",
    "filename = df.filename.iloc[100]\n",
    "ser = df.loc[df.filename == filename, :]\n",
    "dir = ser.dir.values[0]\n",
    "file = os.path.join(dir, filename)\n",
    "frame_time = ser.frame_time.values[0]*1e-3\n",
    "frame_rate = 1/frame_time\n",
    "\n",
    "try:\n",
    "    with lz4.frame.open(file, 'rb') as fp:\n",
    "        data = np.squeeze(np.load(fp))\n",
    "except IOError as err:\n",
    "    print('Could not open this file: {}\\n {}'.format(file, err))\n",
    "\n",
    "print('Shape of image array: {}'.format(data.shape))\n",
    "print('Frame time {} ms -> rate {} Hz.'.format(frame_time, frame_rate))\n",
    "im = data[10, :, :]"
   ]
  },
  {
   "cell_type": "code",
   "execution_count": 121,
   "metadata": {},
   "outputs": [
    {
     "name": "stdout",
     "output_type": "stream",
     "text": [
      "(600, 800, 80)\n"
     ]
    }
   ],
   "source": [
    "# openCV requires a single-channel 8-bit image\n",
    "def imscale(im):\n",
    "    # We can do other things here: e.g. background subtraction or contrast enhancement\n",
    "    im_scaled = np.uint8((im - np.amin(im))/(np.amax(im) - np.amin(im))*256)\n",
    "    #im_scaled_eq = im_scaled\n",
    "    im_scaled_eq = cv2.equalizeHist(im_scaled) \n",
    "    return im_scaled_eq\n",
    "\n",
    "im_list = [imscale(data[im]) for im in range(data.shape[0])]\n",
    "im_array = np.array(im_list, dtype = np.uint16)\n",
    "im_array = np.moveaxis(im_array, 0, -1)\n",
    "print(im_array.shape)"
   ]
  },
  {
   "cell_type": "code",
   "execution_count": 122,
   "metadata": {},
   "outputs": [],
   "source": [
    "# subsampling to have the same frame rate\n",
    "\n",
    "def subsample_time_index_list(frame_time, default_rate, min_frames):\n",
    "    '''rate: data frame rate,\n",
    "       default_rate: desired frame rate,\n",
    "       n_frames: number frames in the default rate (30)'''\n",
    "\n",
    "    default_times = np.arange(0, min_frames, 1) / default_rate\n",
    "    times = np.arange(0, default_times[-1] + frame_time, frame_time)\n",
    "    time_index_list = [np.argmin(np.abs(times - t)) for t in default_times]\n",
    "    \n",
    "    return time_index_list\n",
    "\n",
    "def subsample_video(image_array, frame_time, default_rate=25, min_frames=40):\n",
    "\n",
    "    convert_video = True\n",
    "    rate = 1/frame_time\n",
    "    # Check if the video is long enough\n",
    "    min_video_len = min_frames/default_rate\n",
    "    video_len = image_array.shape[-1] / rate\n",
    "    if (min_video_len <= video_len) & (default_rate < rate):\n",
    "        #print('Video is long enough and the rate is good.')\n",
    "        # Get the frame index list\n",
    "        time_index_list = subsample_time_index_list(frame_time = frame_time,\n",
    "                                                    default_rate = default_rate,\n",
    "                                                    min_frames=min_frames)\n",
    "        # Select the frames from the video\n",
    "        image_array = image_array[:, :, time_index_list]\n",
    "    else:\n",
    "        print('Video is too short or the rate is too low.')\n",
    "        convert_video = False\n",
    "    \n",
    "    return convert_video, image_array"
   ]
  },
  {
   "cell_type": "code",
   "execution_count": 123,
   "metadata": {},
   "outputs": [
    {
     "name": "stdout",
     "output_type": "stream",
     "text": [
      "True\n",
      "(600, 800, 40)\n"
     ]
    }
   ],
   "source": [
    "convert_video, image_array = subsample_video(im_array, frame_time)\n",
    "print(convert_video)\n",
    "print(image_array.shape)"
   ]
  },
  {
   "cell_type": "code",
   "execution_count": 124,
   "metadata": {},
   "outputs": [
    {
     "data": {
      "application/vnd.jupyter.widget-view+json": {
       "model_id": "d0f8d6bc505941049920990e4f23ad09",
       "version_major": 2,
       "version_minor": 0
      },
      "text/plain": [
       "interactive(children=(RadioButtons(description='Slice plane selection:', options=('x-y', 'y-z', 'z-x'), style=…"
      ]
     },
     "metadata": {},
     "output_type": "display_data"
    },
    {
     "data": {
      "text/plain": [
       "<__main__.ImageSliceViewer3D at 0x7f32dc1d2160>"
      ]
     },
     "execution_count": 124,
     "metadata": {},
     "output_type": "execute_result"
    }
   ],
   "source": [
    "ImageSliceViewer3D(image_array)"
   ]
  }
 ],
 "metadata": {
  "kernelspec": {
   "display_name": "Python 3",
   "language": "python",
   "name": "python3"
  },
  "language_info": {
   "codemirror_mode": {
    "name": "ipython",
    "version": 3
   },
   "file_extension": ".py",
   "mimetype": "text/x-python",
   "name": "python",
   "nbconvert_exporter": "python",
   "pygments_lexer": "ipython3",
   "version": "3.6.9"
  }
 },
 "nbformat": 4,
 "nbformat_minor": 4
}
