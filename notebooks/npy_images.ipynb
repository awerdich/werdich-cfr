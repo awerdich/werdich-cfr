{
 "cells": [
  {
   "cell_type": "code",
   "execution_count": 3,
   "metadata": {},
   "outputs": [],
   "source": [
    "import os\n",
    "import cv2\n",
    "import numpy as np\n",
    "import ipywidgets as ipyw\n",
    "import lz4.frame\n",
    "import pandas as pd\n",
    "\n",
    "import matplotlib\n",
    "\n",
    "from matplotlib import pyplot as plt\n",
    "%matplotlib inline\n",
    "\n",
    "from werdich_cfr.utils.visuals import ImageSliceViewer3D\n",
    "\n",
    "pd.set_option('display.max_rows', 50)\n",
    "pd.set_option('display.max_columns', 100)\n",
    "pd.set_option('display.width', 1000)"
   ]
  },
  {
   "cell_type": "code",
   "execution_count": 15,
   "metadata": {},
   "outputs": [
    {
     "name": "stdout",
     "output_type": "stream",
     "text": [
      "View:view_a4c, mode:train, min_rate:20, n_videos:10677\n",
      "\n",
      "/mnt/obi0/phi/echo/npyFiles/BWH/4b72/4b729ab7c8fbe1dc_4903a581a72ff08f5060c835fa63/4b729ab7c8fbe1dc_4903a581a72ff08f5060c835fa63_Image-44.npy.lz4\n",
      "\n",
      "(89, 600, 800, 1)\n"
     ]
    }
   ],
   "source": [
    "cfr_data_root = os.path.normpath('/mnt/obi0/andreas/data/cfr')\n",
    "meta_date = '200202'\n",
    "meta_dir = os.path.join(cfr_data_root, 'metadata_'+meta_date)\n",
    "cfr_meta_file = 'tfr_files_dset_BWH_'+meta_date+'.parquet'\n",
    "meta_df = pd.read_parquet(os.path.join(meta_dir, cfr_meta_file))\n",
    "max_samples_per_file = 15\n",
    "\n",
    "# This should give us ~75% qualified files\n",
    "min_rate = 20 # Minimum acceptable frame rage [fps]\n",
    "min_frames = 30 # Minimum number of frames at min_rate (1.5 s)\n",
    "max_frame_time = 1/min_rate*1e3 # Maximum frame time [ms]\n",
    "\n",
    "view_list = sorted(list(meta_df.max_view.unique()))\n",
    "mode_list = sorted(list(meta_df.dset.unique()))\n",
    "\n",
    "# LOOP 1: VIEWS\n",
    "view = view_list[2]\n",
    "\n",
    "# LOOP 2: MODE\n",
    "mode = mode_list[2]\n",
    "\n",
    "# Filter view, mode and rates. Shuffle.\n",
    "df = meta_df[(meta_df.max_view == view) & (meta_df.dset == mode) & (meta_df.frame_time < max_frame_time)].\\\n",
    "                                                                                            sample(frac=1)\n",
    "print('View:{}, mode:{}, min_rate:{}, n_videos:{}'.format(view, mode, min_rate, len(df.filename.unique())))\n",
    "\n",
    "# LOOP 3: FILES loop over all file names\n",
    "filename = list(df.filename.unique())[100]\n",
    "ser = df.loc[df.filename == filename, :].iloc[0]\n",
    "file = os.path.join(ser.dir, filename)\n",
    "\n",
    "try:\n",
    "    with lz4.frame.open(file, 'rb') as fp:\n",
    "        data = np.load(fp)\n",
    "\n",
    "except IOError as err:\n",
    "    print('Could not open this file: {}\\n {}'.format(file, err))\n",
    "\n",
    "print()\n",
    "print(file)\n",
    "print()\n",
    "print(data.shape)"
   ]
  },
  {
   "cell_type": "code",
   "execution_count": 17,
   "metadata": {},
   "outputs": [
    {
     "name": "stdout",
     "output_type": "stream",
     "text": [
      "(600, 800, 89)\n"
     ]
    }
   ],
   "source": [
    "def im_scale(im):\n",
    "    \"\"\" convert single images to uint8 and contrast en\"\"\"\n",
    "    # We can do other things here: e.g. background subtraction or contrast enhancement\n",
    "    im_scaled = np.uint8((im - np.amin(im))/(np.amax(im) - np.amin(im))*256)\n",
    "    #im_scaled_eq = cv2.equalizeHist(im_scaled)\n",
    "    return im_scaled\n",
    "\n",
    "def data2imarray(im_data):\n",
    "    \"\"\"\n",
    "    apply imscale function to np.array\n",
    "    arg: im_array (frame, height, width)\n",
    "    returns: im_array (height, width, frame)\n",
    "    \"\"\"\n",
    "    im_data = np.squeeze(im_data)\n",
    "    im_list = [im_scale(im_data[im]) for im in range(im_data.shape[0])]\n",
    "    im_array = np.array(im_list, dtype=np.uint16)\n",
    "    im_array = np.moveaxis(im_array, 0, -1)\n",
    "    return im_array\n",
    "\n",
    "im_array = data2imarray(data)\n",
    "print(im_array.shape)"
   ]
  },
  {
   "cell_type": "code",
   "execution_count": 20,
   "metadata": {},
   "outputs": [],
   "source": [
    "# subsampling to have the same frame rate\n",
    "\n",
    "def subsample_time_index_list(frame_time, default_rate, min_frames):\n",
    "    \"\"\"\n",
    "    rate: data frame rate,\n",
    "    default_rate: desired frame rate,\n",
    "    n_frames: number frames in the default rate (30)\n",
    "    \"\"\"\n",
    "    default_times = np.arange(0, min_frames, 1) / default_rate\n",
    "    times = np.arange(0, default_times[-1] + frame_time, frame_time)\n",
    "    time_index_list = [np.argmin(np.abs(times - t)) for t in default_times]\n",
    "\n",
    "    return time_index_list\n",
    "\n",
    "def subsample_video(image_array, frame_time, min_rate, min_frames):\n",
    "    \"\"\"\n",
    "    Select frames that are closest to a constant frame rate\n",
    "    arg: image_array: np.array() [rows, columns, frame]\n",
    "    \"\"\"\n",
    "    convert_video = True\n",
    "    rate = 1 / frame_time\n",
    "    # Check if the video is long enough\n",
    "    min_video_len = min_frames / min_rate\n",
    "    video_len = image_array.shape[-1] / rate\n",
    "    if (min_video_len <= video_len) & (min_rate < rate):\n",
    "        # print('Video is long enough and the rate is good.')\n",
    "        # Get the frame index list\n",
    "        time_index_list = subsample_time_index_list(frame_time=frame_time,\n",
    "                                                    default_rate=min_rate,\n",
    "                                                    min_frames=min_frames)\n",
    "        # Select the frames from the video\n",
    "        image_array = image_array[:, :, time_index_list]\n",
    "    else:\n",
    "        print('Frame rate: {:.1f} fps, length: {:.1f} s. Skipping.'.format(rate, video_len))\n",
    "        convert_video = False\n",
    "\n",
    "    return convert_video, image_array"
   ]
  },
  {
   "cell_type": "code",
   "execution_count": 38,
   "metadata": {},
   "outputs": [
    {
     "data": {
      "text/plain": [
       "0.033333"
      ]
     },
     "execution_count": 38,
     "metadata": {},
     "output_type": "execute_result"
    }
   ],
   "source": [
    "frame_time"
   ]
  },
  {
   "cell_type": "code",
   "execution_count": 21,
   "metadata": {},
   "outputs": [
    {
     "name": "stdout",
     "output_type": "stream",
     "text": [
      "True\n",
      "(600, 800, 30)\n"
     ]
    }
   ],
   "source": [
    "min_rate = 20 # Minimum acceptable frame rage [fps]\n",
    "min_frames = 30 # Minimum number of frames at min_rate (1.5 s)\n",
    "convert_video, image_array = subsample_video(im_array, \n",
    "                                             frame_time = frame_time, \n",
    "                                             min_rate = min_rate, \n",
    "                                             min_frames = min_frames)\n",
    "print(convert_video)\n",
    "print(image_array.shape)"
   ]
  },
  {
   "cell_type": "code",
   "execution_count": 37,
   "metadata": {},
   "outputs": [
    {
     "data": {
      "application/vnd.jupyter.widget-view+json": {
       "model_id": "ab13b30e01f2446e9b37c57e9f08ca5b",
       "version_major": 2,
       "version_minor": 0
      },
      "text/plain": [
       "interactive(children=(RadioButtons(description='Slice plane selection:', options=('x-y', 'y-z', 'z-x'), style=…"
      ]
     },
     "metadata": {},
     "output_type": "display_data"
    },
    {
     "data": {
      "text/plain": [
       "<werdich_cfr.utils.visuals.ImageSliceViewer3D at 0x7fca386ca7b8>"
      ]
     },
     "execution_count": 37,
     "metadata": {},
     "output_type": "execute_result"
    }
   ],
   "source": [
    "ImageSliceViewer3D(image_array)"
   ]
  }
 ],
 "metadata": {
  "kernelspec": {
   "display_name": "Python 3",
   "language": "python",
   "name": "python3"
  },
  "language_info": {
   "codemirror_mode": {
    "name": "ipython",
    "version": 3
   },
   "file_extension": ".py",
   "mimetype": "text/x-python",
   "name": "python",
   "nbconvert_exporter": "python",
   "pygments_lexer": "ipython3",
   "version": "3.6.9"
  }
 },
 "nbformat": 4,
 "nbformat_minor": 4
}
