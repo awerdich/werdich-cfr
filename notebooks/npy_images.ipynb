{
 "cells": [
  {
   "cell_type": "code",
   "execution_count": 1,
   "metadata": {},
   "outputs": [],
   "source": [
    "import os\n",
    "import cv2\n",
    "import numpy as np\n",
    "import ipywidgets as ipyw\n",
    "import lz4.frame\n",
    "import pandas as pd\n",
    "\n",
    "import matplotlib\n",
    "\n",
    "from matplotlib import pyplot as plt\n",
    "%matplotlib inline\n",
    "\n",
    "from werdich_cfr.utils.visuals import ImageSliceViewer3D\n",
    "\n",
    "pd.set_option('display.max_rows', 50)\n",
    "pd.set_option('display.max_columns', 100)\n",
    "pd.set_option('display.width', 1000)"
   ]
  },
  {
   "cell_type": "code",
   "execution_count": 193,
   "metadata": {},
   "outputs": [],
   "source": [
    "cfr_data_root = os.path.normpath('/mnt/obi0/andreas/data/cfr')\n",
    "meta_date = '200208'\n",
    "meta_dir = os.path.join(cfr_data_root, 'metadata_'+meta_date)\n",
    "cfr_meta_file = 'tfr_files_dset_BWH_'+meta_date+'.parquet'\n",
    "meta_df = pd.read_parquet(os.path.join(meta_dir, cfr_meta_file))\n",
    "\n",
    "# Filter some stuff\n",
    "meta_a4c = meta_df[meta_df.max_view == 'a4c']"
   ]
  },
  {
   "cell_type": "code",
   "execution_count": 194,
   "metadata": {},
   "outputs": [
    {
     "name": "stdout",
     "output_type": "stream",
     "text": [
      "Total number of files 7339\n",
      "Files with deltaX<0   53\n",
      "Files with deltaX=1.0 49\n",
      "Files with deltaY<0   0\n",
      "Files with deltaY=1.0 49\n"
     ]
    }
   ],
   "source": [
    "print('Total number of files {}'.format(len(meta_a4c.filename.unique())))\n",
    "print('Files with deltaX<0   {}'.format(len(meta_a4c[meta_a4c.deltaX<0].filename.unique())))\n",
    "print('Files with deltaX=1.0 {}'.format(len(meta_a4c[meta_a4c.deltaX==1].filename.unique())))\n",
    "print('Files with deltaY<0   {}'.format(len(meta_a4c[meta_a4c.deltaY<0].filename.unique())))\n",
    "print('Files with deltaY=1.0 {}'.format(len(meta_a4c[meta_a4c.deltaY==1].filename.unique())))"
   ]
  },
  {
   "cell_type": "code",
   "execution_count": 195,
   "metadata": {},
   "outputs": [
    {
     "name": "stdout",
     "output_type": "stream",
     "text": [
      "Total number of files 7220\n",
      "Files with deltaX<0   0\n",
      "Files with deltaX=1.0 0\n",
      "Files with deltaY<0   0\n",
      "Files with deltaY=1.0 0\n"
     ]
    }
   ],
   "source": [
    "# Filter some mote values\n",
    "meta_a4c = meta_df[(meta_df.max_view == 'a4c') & \n",
    "                   (0<meta_df.deltaX) & (meta_df.deltaX<1) &\n",
    "                   (0<meta_df.deltaY) & (meta_df.deltaY<1)]\n",
    "\n",
    "print('Total number of files {}'.format(len(meta_a4c.filename.unique())))\n",
    "print('Files with deltaX<0   {}'.format(len(meta_a4c[meta_a4c.deltaX<0].filename.unique())))\n",
    "print('Files with deltaX=1.0 {}'.format(len(meta_a4c[meta_a4c.deltaX==1].filename.unique())))\n",
    "print('Files with deltaY<0   {}'.format(len(meta_a4c[meta_a4c.deltaY<0].filename.unique())))\n",
    "print('Files with deltaY=1.0 {}'.format(len(meta_a4c[meta_a4c.deltaY==1].filename.unique())))"
   ]
  },
  {
   "cell_type": "code",
   "execution_count": 196,
   "metadata": {},
   "outputs": [
    {
     "name": "stdout",
     "output_type": "stream",
     "text": [
      "(6, 52)\n",
      "(10, 52)\n"
     ]
    }
   ],
   "source": [
    "# Pick a few files with small scaling factors\n",
    "xs = meta_a4c[(0<meta_a4c.deltaX) & (meta_a4c.deltaX<0.022)]\n",
    "xs_files = [os.path.join(xs[xs.filename==file].dir.values[0], file) for file in xs.filename.unique()]\n",
    "print(xs.shape)\n",
    "# And some with a larger scaling factor\n",
    "xl = meta_a4c[(0.085<meta_a4c.deltaX) & (meta_a4c.deltaX<1.0)]\n",
    "print(xl.shape)\n",
    "xl_files = [os.path.join(xl[xl.filename==file].dir.values[0], file) for file in xl.filename.unique()]"
   ]
  },
  {
   "cell_type": "code",
   "execution_count": 197,
   "metadata": {},
   "outputs": [],
   "source": [
    "# Load videos\n",
    "def load_data(file):\n",
    "    try:\n",
    "        with lz4.frame.open(file, 'rb') as fp:\n",
    "            data = np.load(fp)\n",
    "    except IOError as err:\n",
    "        print('Could not open this file: {}\\n {}'.format(file, err))\n",
    "\n",
    "    return data"
   ]
  },
  {
   "cell_type": "code",
   "execution_count": 198,
   "metadata": {},
   "outputs": [],
   "source": [
    "def im_scale(im):\n",
    "    \"\"\" convert single images to uint8 \"\"\"\n",
    "    # We can do other things here: e.g. background subtraction or contrast enhancement\n",
    "    im_scaled = np.uint8((im - np.amin(im))/(np.amax(im) - np.amin(im))*256)\n",
    "    #im_scaled_eq = cv2.equalizeHist(im_scaled)\n",
    "    return im_scaled\n",
    "\n",
    "def data2imarray(im_data):\n",
    "    \"\"\"\n",
    "    apply imscale function to np.array\n",
    "    arg: im_array (frame, height, width)\n",
    "    returns: im_array (height, width, frame)\n",
    "    \"\"\"\n",
    "    im_data = np.squeeze(im_data)\n",
    "    im_list = [im_scale(im_data[im]) for im in range(im_data.shape[0])]\n",
    "    im_array = np.array(im_list, dtype=np.uint16)\n",
    "    im_array = np.moveaxis(im_array, 0, -1)\n",
    "    return im_array"
   ]
  },
  {
   "cell_type": "code",
   "execution_count": 208,
   "metadata": {},
   "outputs": [],
   "source": [
    "# SCALE THE IMAGES BY FACTORS\n",
    "def im_scale_factor(im,dx,dy):\n",
    "    \"\"\" convert single images to uint8 \"\"\"\n",
    "    # We can do other things here: e.g. background subtraction or contrast enhancement\n",
    "    im_scaled = np.uint8((im - np.amin(im))/(np.amax(im) - np.amin(im))*256)\n",
    "    #im_scaled_eq = cv2.equalizeHist(im_scaled)\n",
    "    if (dx is not None) & (dy is not None):\n",
    "        width = int(np.round(im_scaled.shape[1]*10*dx))\n",
    "        height = int(np.round(im_scaled.shape[0]*10*dy))\n",
    "        im_resized = cv2.resize(im_scaled, (width, height), interpolation=cv2.INTER_LINEAR)\n",
    "    else:\n",
    "        im_resized = im_scaled\n",
    "    return im_resized\n",
    "\n",
    "def data2imarray_factor(im_data,dx,dy):\n",
    "    \"\"\"\n",
    "    apply imscale function to np.array\n",
    "    arg: im_array (frame, height, width)\n",
    "    returns: im_array (height, width, frame)\n",
    "    \"\"\"\n",
    "    im_data = np.squeeze(im_data)\n",
    "    im_list = [im_scale_factor(im_data[im],dx,dy) for im in range(im_data.shape[0])]\n",
    "    im_array = np.array(im_list, dtype=np.uint16)\n",
    "    im_array = np.moveaxis(im_array, 0, -1)\n",
    "    return im_array"
   ]
  },
  {
   "cell_type": "code",
   "execution_count": 222,
   "metadata": {},
   "outputs": [
    {
     "name": "stdout",
     "output_type": "stream",
     "text": [
      "(115, 153, 24)\n",
      "original: deltaXs 0.014972539618611336, deltaYs 0.014972543343901634\n"
     ]
    }
   ],
   "source": [
    "#for file in xs_files:\n",
    "file = xs_files[3]\n",
    "filename = os.path.basename(file)\n",
    "data = load_data(file)\n",
    "deltaXs = meta_df[meta_df.filename == filename].deltaX.values[0]\n",
    "deltaYs = meta_df[meta_df.filename == filename].deltaY.values[0]\n",
    "im_array_xs = data2imarray(data)\n",
    "im_array_xs_factor = data2imarray_factor(data,deltaXs, deltaYs)\n",
    "#im_array_xs_factor = data2imarray_factor(data, None, None)\n",
    "#print(im_array_xs.shape)\n",
    "print(im_array_xs_factor.shape)\n",
    "print('original: deltaXs {}, deltaYs {}'.format(deltaXs, deltaYs))"
   ]
  },
  {
   "cell_type": "code",
   "execution_count": 220,
   "metadata": {},
   "outputs": [
    {
     "name": "stdout",
     "output_type": "stream",
     "text": [
      "(296, 413, 66)\n",
      "deltaX 0.08595988538681948, deltaY 0.06876790830945559\n"
     ]
    }
   ],
   "source": [
    "#for file in xl_files:\n",
    "file=xl_files[2]\n",
    "filename = os.path.basename(file)\n",
    "data = load_data(file)\n",
    "deltaXl = meta_df[meta_df.filename == filename].deltaX.values[0]\n",
    "deltaYl = meta_df[meta_df.filename == filename].deltaY.values[0]\n",
    "im_array_xl = data2imarray(data)\n",
    "im_array_xl_factor = data2imarray_factor(data, deltaXl, deltaYl)\n",
    "#im_array_xl_factor = data2imarray_factor(data, None, None)\n",
    "print(im_array_xl_factor.shape)\n",
    "print('deltaX {}, deltaY {}'.format(deltaXl, deltaYl))"
   ]
  },
  {
   "cell_type": "code",
   "execution_count": 223,
   "metadata": {},
   "outputs": [
    {
     "data": {
      "application/vnd.jupyter.widget-view+json": {
       "model_id": "7e10292138574b0a9a8889215a24583c",
       "version_major": 2,
       "version_minor": 0
      },
      "text/plain": [
       "interactive(children=(RadioButtons(description='Slice plane selection:', options=('x-y', 'y-z', 'z-x'), style=…"
      ]
     },
     "metadata": {},
     "output_type": "display_data"
    },
    {
     "data": {
      "text/plain": [
       "<werdich_cfr.utils.visuals.ImageSliceViewer3D at 0x7f8e4e54de80>"
      ]
     },
     "execution_count": 223,
     "metadata": {},
     "output_type": "execute_result"
    }
   ],
   "source": [
    "# Show original images\n",
    "ImageSliceViewer3D(im_array_xs_factor)"
   ]
  },
  {
   "cell_type": "code",
   "execution_count": 219,
   "metadata": {},
   "outputs": [
    {
     "data": {
      "application/vnd.jupyter.widget-view+json": {
       "model_id": "1a04954bad4540b296d916173396e838",
       "version_major": 2,
       "version_minor": 0
      },
      "text/plain": [
       "interactive(children=(RadioButtons(description='Slice plane selection:', options=('x-y', 'y-z', 'z-x'), style=…"
      ]
     },
     "metadata": {},
     "output_type": "display_data"
    },
    {
     "data": {
      "text/plain": [
       "<werdich_cfr.utils.visuals.ImageSliceViewer3D at 0x7f8dfd09f320>"
      ]
     },
     "execution_count": 219,
     "metadata": {},
     "output_type": "execute_result"
    }
   ],
   "source": [
    "ImageSliceViewer3D(im_array_xl_factor)"
   ]
  }
 ],
 "metadata": {
  "kernelspec": {
   "display_name": "Python 3",
   "language": "python",
   "name": "python3"
  },
  "language_info": {
   "codemirror_mode": {
    "name": "ipython",
    "version": 3
   },
   "file_extension": ".py",
   "mimetype": "text/x-python",
   "name": "python",
   "nbconvert_exporter": "python",
   "pygments_lexer": "ipython3",
   "version": "3.6.9"
  }
 },
 "nbformat": 4,
 "nbformat_minor": 4
}
