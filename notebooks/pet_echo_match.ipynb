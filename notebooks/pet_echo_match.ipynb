{
 "cells": [
  {
   "cell_type": "markdown",
   "metadata": {},
   "source": [
    "### Match ECHO videos with PET CFR labels ###\n",
    "We need this to assign the CFR labels to the videos. The goal is to have a data set with PET CFR values for each video that we will use to train."
   ]
  },
  {
   "cell_type": "code",
   "execution_count": 47,
   "metadata": {},
   "outputs": [],
   "source": [
    "import os\n",
    "import numpy as np\n",
    "import pandas as pd\n",
    "\n",
    "pd.set_option('display.max_rows', 1000)\n",
    "pd.set_option('display.max_columns', 100)\n",
    "pd.set_option('display.width', 2000)"
   ]
  },
  {
   "cell_type": "markdown",
   "metadata": {},
   "source": [
    "#### PET REPORTS ####"
   ]
  },
  {
   "cell_type": "code",
   "execution_count": 111,
   "metadata": {},
   "outputs": [
    {
     "name": "stdout",
     "output_type": "stream",
     "text": [
      "Number of reports: 3350\n",
      "Unique patients:   3072\n",
      "Unique cfr values: 3414\n"
     ]
    }
   ],
   "source": [
    "# PET REPORTS\n",
    "cfr_data_root = os.path.normpath('/mnt/obi0/andreas/data/cfr')\n",
    "pet_reports_file = os.path.join(cfr_data_root, '210_getStressTest.xlsx')\n",
    "pet_df = pd.read_excel(pet_reports_file)\n",
    "keep_cols = ['reportID', 'mrn', 'subjectid', 'report_number', 'study_date', 'report_date', 'cfr']\n",
    "pet = pet_df[keep_cols]\n",
    "\n",
    "pet = pet.astype({'report_date': 'datetime64[ns]',\n",
    "                  'study_date': 'datetime64[ns]'})\n",
    "\n",
    "print('Number of reports: {}'.format(len(pet.report_number.unique())))\n",
    "print('Unique patients:   {}'.format(len(pet.mrn.unique())))\n",
    "print('Unique cfr values: {}'.format(len(pet.cfr.unique())))"
   ]
  },
  {
   "cell_type": "markdown",
   "metadata": {},
   "source": [
    "#### NPY ECHO FILES ####"
   ]
  },
  {
   "cell_type": "code",
   "execution_count": 124,
   "metadata": {},
   "outputs": [
    {
     "name": "stdout",
     "output_type": "stream",
     "text": [
      "Number of npy files: 1021868\n",
      "Unique echo studies: 20371\n",
      "Unique patients:     11846\n",
      "\n"
     ]
    }
   ],
   "source": [
    "echo_dir = os.path.join(cfr_data_root, 'metadata_200130')\n",
    "echo_files_name = 'echo_npyFiles_BWH.parquet'\n",
    "echo = pd.read_parquet(os.path.join(echo_dir, echo_files_name))\n",
    "echo = echo.assign(echo_study_date = echo.datetime.dt.date,\n",
    "                   echo_study_time = echo.datetime.dt.time)\n",
    "\n",
    "echo = echo.astype({'mrn': 'int64',\n",
    "                    'echo_study_date': 'datetime64[ns]'})\n",
    "\n",
    "print('Number of npy files: {}'.format(len(echo.filename.unique())))\n",
    "print('Unique echo studies: {}'.format(len(echo.study.unique())))\n",
    "print('Unique patients:     {}'.format(len(echo.mrn.unique())))\n",
    "print()\n",
    "\n",
    "# For matching with PET, we only need the dates for each study\n",
    "# So we can greatly reduce this data frame\n",
    "\n",
    "echo_studies = echo"
   ]
  },
  {
   "cell_type": "code",
   "execution_count": 144,
   "metadata": {},
   "outputs": [
    {
     "data": {
      "text/plain": [
       "Index(['filename', 'dir', 'study', 'mrn', 'datetime', 'echo_study_date', 'echo_study_time'], dtype='object')"
      ]
     },
     "execution_count": 144,
     "metadata": {},
     "output_type": "execute_result"
    }
   ],
   "source": [
    "echo.columns"
   ]
  },
  {
   "cell_type": "markdown",
   "metadata": {},
   "source": [
    "#### PET STUDIES + NPY ECHO DATA ####"
   ]
  },
  {
   "cell_type": "code",
   "execution_count": 125,
   "metadata": {},
   "outputs": [
    {
     "data": {
      "text/html": [
       "<div>\n",
       "<style scoped>\n",
       "    .dataframe tbody tr th:only-of-type {\n",
       "        vertical-align: middle;\n",
       "    }\n",
       "\n",
       "    .dataframe tbody tr th {\n",
       "        vertical-align: top;\n",
       "    }\n",
       "\n",
       "    .dataframe thead th {\n",
       "        text-align: right;\n",
       "    }\n",
       "</style>\n",
       "<table border=\"1\" class=\"dataframe\">\n",
       "  <thead>\n",
       "    <tr style=\"text-align: right;\">\n",
       "      <th></th>\n",
       "      <th>reportID</th>\n",
       "      <th>mrn</th>\n",
       "      <th>subjectid</th>\n",
       "      <th>report_number</th>\n",
       "      <th>study_date</th>\n",
       "      <th>report_date</th>\n",
       "      <th>cfr</th>\n",
       "      <th>filename</th>\n",
       "      <th>dir</th>\n",
       "      <th>study</th>\n",
       "      <th>datetime</th>\n",
       "      <th>echo_study_date</th>\n",
       "      <th>echo_study_time</th>\n",
       "    </tr>\n",
       "  </thead>\n",
       "  <tbody>\n",
       "    <tr>\n",
       "      <th>0</th>\n",
       "      <td>72946</td>\n",
       "      <td>4474599</td>\n",
       "      <td>3</td>\n",
       "      <td>0904-0007</td>\n",
       "      <td>2007-09-28</td>\n",
       "      <td>2007-09-04</td>\n",
       "      <td>1.428232</td>\n",
       "      <td>NaN</td>\n",
       "      <td>NaN</td>\n",
       "      <td>NaN</td>\n",
       "      <td>NaT</td>\n",
       "      <td>NaT</td>\n",
       "      <td>NaN</td>\n",
       "    </tr>\n",
       "    <tr>\n",
       "      <th>1</th>\n",
       "      <td>91480</td>\n",
       "      <td>9774688</td>\n",
       "      <td>6</td>\n",
       "      <td>EVS0154093</td>\n",
       "      <td>2008-11-11</td>\n",
       "      <td>2008-11-11</td>\n",
       "      <td>2.015579</td>\n",
       "      <td>NaN</td>\n",
       "      <td>NaN</td>\n",
       "      <td>NaN</td>\n",
       "      <td>NaT</td>\n",
       "      <td>NaT</td>\n",
       "      <td>NaN</td>\n",
       "    </tr>\n",
       "    <tr>\n",
       "      <th>2</th>\n",
       "      <td>78543</td>\n",
       "      <td>8880684</td>\n",
       "      <td>7</td>\n",
       "      <td>0802806B</td>\n",
       "      <td>2007-10-31</td>\n",
       "      <td>2008-01-29</td>\n",
       "      <td>2.401606</td>\n",
       "      <td>4b7351bee96d1016_4903a444c23a2830ab58223ad84d_...</td>\n",
       "      <td>/mnt/obi0/phi/echo/npyFiles/BWH/4b73/4b7351bee...</td>\n",
       "      <td>4b7351bee96d1016_4903a444c23a2830ab58223ad84d</td>\n",
       "      <td>2007-10-29 08:56:21</td>\n",
       "      <td>2007-10-29</td>\n",
       "      <td>08:56:21</td>\n",
       "    </tr>\n",
       "    <tr>\n",
       "      <th>3</th>\n",
       "      <td>78543</td>\n",
       "      <td>8880684</td>\n",
       "      <td>7</td>\n",
       "      <td>0802806B</td>\n",
       "      <td>2007-10-31</td>\n",
       "      <td>2008-01-29</td>\n",
       "      <td>2.401606</td>\n",
       "      <td>4b7351bee96d1016_4903a444c23a2830ab58223ad84d_...</td>\n",
       "      <td>/mnt/obi0/phi/echo/npyFiles/BWH/4b73/4b7351bee...</td>\n",
       "      <td>4b7351bee96d1016_4903a444c23a2830ab58223ad84d</td>\n",
       "      <td>2007-10-29 08:56:21</td>\n",
       "      <td>2007-10-29</td>\n",
       "      <td>08:56:21</td>\n",
       "    </tr>\n",
       "    <tr>\n",
       "      <th>4</th>\n",
       "      <td>78543</td>\n",
       "      <td>8880684</td>\n",
       "      <td>7</td>\n",
       "      <td>0802806B</td>\n",
       "      <td>2007-10-31</td>\n",
       "      <td>2008-01-29</td>\n",
       "      <td>2.401606</td>\n",
       "      <td>4b7351bee96d1016_4903a444c23a2830ab58223ad84d_...</td>\n",
       "      <td>/mnt/obi0/phi/echo/npyFiles/BWH/4b73/4b7351bee...</td>\n",
       "      <td>4b7351bee96d1016_4903a444c23a2830ab58223ad84d</td>\n",
       "      <td>2007-10-29 08:56:21</td>\n",
       "      <td>2007-10-29</td>\n",
       "      <td>08:56:21</td>\n",
       "    </tr>\n",
       "  </tbody>\n",
       "</table>\n",
       "</div>"
      ],
      "text/plain": [
       "   reportID      mrn  subjectid report_number study_date report_date       cfr                                           filename                                                dir                                          study            datetime echo_study_date echo_study_time\n",
       "0     72946  4474599          3     0904-0007 2007-09-28  2007-09-04  1.428232                                                NaN                                                NaN                                            NaN                 NaT             NaT             NaN\n",
       "1     91480  9774688          6    EVS0154093 2008-11-11  2008-11-11  2.015579                                                NaN                                                NaN                                            NaN                 NaT             NaT             NaN\n",
       "2     78543  8880684          7      0802806B 2007-10-31  2008-01-29  2.401606  4b7351bee96d1016_4903a444c23a2830ab58223ad84d_...  /mnt/obi0/phi/echo/npyFiles/BWH/4b73/4b7351bee...  4b7351bee96d1016_4903a444c23a2830ab58223ad84d 2007-10-29 08:56:21      2007-10-29        08:56:21\n",
       "3     78543  8880684          7      0802806B 2007-10-31  2008-01-29  2.401606  4b7351bee96d1016_4903a444c23a2830ab58223ad84d_...  /mnt/obi0/phi/echo/npyFiles/BWH/4b73/4b7351bee...  4b7351bee96d1016_4903a444c23a2830ab58223ad84d 2007-10-29 08:56:21      2007-10-29        08:56:21\n",
       "4     78543  8880684          7      0802806B 2007-10-31  2008-01-29  2.401606  4b7351bee96d1016_4903a444c23a2830ab58223ad84d_...  /mnt/obi0/phi/echo/npyFiles/BWH/4b73/4b7351bee...  4b7351bee96d1016_4903a444c23a2830ab58223ad84d 2007-10-29 08:56:21      2007-10-29        08:56:21"
      ]
     },
     "execution_count": 125,
     "metadata": {},
     "output_type": "execute_result"
    }
   ],
   "source": [
    "pet_echo = pet.merge(right = echo, on = 'mrn', how = 'left')\n",
    "pet_echo.head()"
   ]
  },
  {
   "cell_type": "code",
   "execution_count": 126,
   "metadata": {},
   "outputs": [],
   "source": [
    "# Filter pet studies with current echo\n",
    "pet_echo_nofiles = pet_echo.loc[pet_echo.filename.isnull()].reset_index(drop = True)\n",
    "petecho = pet_echo.loc[~pet_echo.filename.isnull()].reset_index(drop = True)\n",
    "\n",
    "# Save those\n",
    "pet_echo_nofiles_name = 'pet_no_npyFiles_BWH_200130.parquet'\n",
    "pet_echo_files_name = 'pet_npyFiles_BWH_200130.parquet'\n",
    "\n",
    "pet_echo_nofiles.to_parquet(os.path.join(cfr_data_root, 'temp', pet_echo_nofiles_name))\n",
    "petecho.to_parquet(os.path.join(cfr_data_root, 'temp', pet_echo_files_name))"
   ]
  },
  {
   "cell_type": "code",
   "execution_count": 127,
   "metadata": {},
   "outputs": [
    {
     "name": "stdout",
     "output_type": "stream",
     "text": [
      "PET with ECHO:\n",
      "Number of npy files: 170158\n",
      "Unique echo studies: 3711\n",
      "Unique patients:     1759\n"
     ]
    }
   ],
   "source": [
    "print('PET with ECHO:')\n",
    "print('Number of npy files: {}'.format(len(petecho.filename.unique())))\n",
    "print('Unique echo studies: {}'.format(len(petecho.study.unique())))\n",
    "print('Unique patients:     {}'.format(len(petecho.mrn.unique())))"
   ]
  },
  {
   "cell_type": "code",
   "execution_count": 128,
   "metadata": {},
   "outputs": [
    {
     "data": {
      "text/html": [
       "<div>\n",
       "<style scoped>\n",
       "    .dataframe tbody tr th:only-of-type {\n",
       "        vertical-align: middle;\n",
       "    }\n",
       "\n",
       "    .dataframe tbody tr th {\n",
       "        vertical-align: top;\n",
       "    }\n",
       "\n",
       "    .dataframe thead th {\n",
       "        text-align: right;\n",
       "    }\n",
       "</style>\n",
       "<table border=\"1\" class=\"dataframe\">\n",
       "  <thead>\n",
       "    <tr style=\"text-align: right;\">\n",
       "      <th></th>\n",
       "      <th>reportID</th>\n",
       "      <th>mrn</th>\n",
       "      <th>subjectid</th>\n",
       "      <th>report_number</th>\n",
       "      <th>study_date</th>\n",
       "      <th>report_date</th>\n",
       "      <th>cfr</th>\n",
       "      <th>filename</th>\n",
       "      <th>dir</th>\n",
       "      <th>study</th>\n",
       "      <th>datetime</th>\n",
       "      <th>echo_study_date</th>\n",
       "      <th>echo_study_time</th>\n",
       "    </tr>\n",
       "  </thead>\n",
       "  <tbody>\n",
       "    <tr>\n",
       "      <th>0</th>\n",
       "      <td>78543</td>\n",
       "      <td>8880684</td>\n",
       "      <td>7</td>\n",
       "      <td>0802806B</td>\n",
       "      <td>2007-10-31</td>\n",
       "      <td>2008-01-29</td>\n",
       "      <td>2.401606</td>\n",
       "      <td>4b7351bee96d1016_4903a444c23a2830ab58223ad84d_...</td>\n",
       "      <td>/mnt/obi0/phi/echo/npyFiles/BWH/4b73/4b7351bee...</td>\n",
       "      <td>4b7351bee96d1016_4903a444c23a2830ab58223ad84d</td>\n",
       "      <td>2007-10-29 08:56:21</td>\n",
       "      <td>2007-10-29</td>\n",
       "      <td>08:56:21</td>\n",
       "    </tr>\n",
       "    <tr>\n",
       "      <th>1</th>\n",
       "      <td>78543</td>\n",
       "      <td>8880684</td>\n",
       "      <td>7</td>\n",
       "      <td>0802806B</td>\n",
       "      <td>2007-10-31</td>\n",
       "      <td>2008-01-29</td>\n",
       "      <td>2.401606</td>\n",
       "      <td>4b7351bee96d1016_4903a444c23a2830ab58223ad84d_...</td>\n",
       "      <td>/mnt/obi0/phi/echo/npyFiles/BWH/4b73/4b7351bee...</td>\n",
       "      <td>4b7351bee96d1016_4903a444c23a2830ab58223ad84d</td>\n",
       "      <td>2007-10-29 08:56:21</td>\n",
       "      <td>2007-10-29</td>\n",
       "      <td>08:56:21</td>\n",
       "    </tr>\n",
       "    <tr>\n",
       "      <th>2</th>\n",
       "      <td>78543</td>\n",
       "      <td>8880684</td>\n",
       "      <td>7</td>\n",
       "      <td>0802806B</td>\n",
       "      <td>2007-10-31</td>\n",
       "      <td>2008-01-29</td>\n",
       "      <td>2.401606</td>\n",
       "      <td>4b7351bee96d1016_4903a444c23a2830ab58223ad84d_...</td>\n",
       "      <td>/mnt/obi0/phi/echo/npyFiles/BWH/4b73/4b7351bee...</td>\n",
       "      <td>4b7351bee96d1016_4903a444c23a2830ab58223ad84d</td>\n",
       "      <td>2007-10-29 08:56:21</td>\n",
       "      <td>2007-10-29</td>\n",
       "      <td>08:56:21</td>\n",
       "    </tr>\n",
       "    <tr>\n",
       "      <th>3</th>\n",
       "      <td>78543</td>\n",
       "      <td>8880684</td>\n",
       "      <td>7</td>\n",
       "      <td>0802806B</td>\n",
       "      <td>2007-10-31</td>\n",
       "      <td>2008-01-29</td>\n",
       "      <td>2.401606</td>\n",
       "      <td>4b7351bee96d1016_4903a444c23a2830ab58223ad84d_...</td>\n",
       "      <td>/mnt/obi0/phi/echo/npyFiles/BWH/4b73/4b7351bee...</td>\n",
       "      <td>4b7351bee96d1016_4903a444c23a2830ab58223ad84d</td>\n",
       "      <td>2007-10-29 08:56:21</td>\n",
       "      <td>2007-10-29</td>\n",
       "      <td>08:56:21</td>\n",
       "    </tr>\n",
       "    <tr>\n",
       "      <th>4</th>\n",
       "      <td>78543</td>\n",
       "      <td>8880684</td>\n",
       "      <td>7</td>\n",
       "      <td>0802806B</td>\n",
       "      <td>2007-10-31</td>\n",
       "      <td>2008-01-29</td>\n",
       "      <td>2.401606</td>\n",
       "      <td>4b7351bee96d1016_4903a444c23a2830ab58223ad84d_...</td>\n",
       "      <td>/mnt/obi0/phi/echo/npyFiles/BWH/4b73/4b7351bee...</td>\n",
       "      <td>4b7351bee96d1016_4903a444c23a2830ab58223ad84d</td>\n",
       "      <td>2007-10-29 08:56:21</td>\n",
       "      <td>2007-10-29</td>\n",
       "      <td>08:56:21</td>\n",
       "    </tr>\n",
       "  </tbody>\n",
       "</table>\n",
       "</div>"
      ],
      "text/plain": [
       "   reportID      mrn  subjectid report_number study_date report_date       cfr                                           filename                                                dir                                          study            datetime echo_study_date echo_study_time\n",
       "0     78543  8880684          7      0802806B 2007-10-31  2008-01-29  2.401606  4b7351bee96d1016_4903a444c23a2830ab58223ad84d_...  /mnt/obi0/phi/echo/npyFiles/BWH/4b73/4b7351bee...  4b7351bee96d1016_4903a444c23a2830ab58223ad84d 2007-10-29 08:56:21      2007-10-29        08:56:21\n",
       "1     78543  8880684          7      0802806B 2007-10-31  2008-01-29  2.401606  4b7351bee96d1016_4903a444c23a2830ab58223ad84d_...  /mnt/obi0/phi/echo/npyFiles/BWH/4b73/4b7351bee...  4b7351bee96d1016_4903a444c23a2830ab58223ad84d 2007-10-29 08:56:21      2007-10-29        08:56:21\n",
       "2     78543  8880684          7      0802806B 2007-10-31  2008-01-29  2.401606  4b7351bee96d1016_4903a444c23a2830ab58223ad84d_...  /mnt/obi0/phi/echo/npyFiles/BWH/4b73/4b7351bee...  4b7351bee96d1016_4903a444c23a2830ab58223ad84d 2007-10-29 08:56:21      2007-10-29        08:56:21\n",
       "3     78543  8880684          7      0802806B 2007-10-31  2008-01-29  2.401606  4b7351bee96d1016_4903a444c23a2830ab58223ad84d_...  /mnt/obi0/phi/echo/npyFiles/BWH/4b73/4b7351bee...  4b7351bee96d1016_4903a444c23a2830ab58223ad84d 2007-10-29 08:56:21      2007-10-29        08:56:21\n",
       "4     78543  8880684          7      0802806B 2007-10-31  2008-01-29  2.401606  4b7351bee96d1016_4903a444c23a2830ab58223ad84d_...  /mnt/obi0/phi/echo/npyFiles/BWH/4b73/4b7351bee...  4b7351bee96d1016_4903a444c23a2830ab58223ad84d 2007-10-29 08:56:21      2007-10-29        08:56:21"
      ]
     },
     "execution_count": 128,
     "metadata": {},
     "output_type": "execute_result"
    }
   ],
   "source": [
    "petecho.head()"
   ]
  },
  {
   "cell_type": "markdown",
   "metadata": {},
   "source": [
    "### Match PET with ECHO videos ###\n",
    "Goal:\n",
    "Find a CFR label for each echo video taken from the closest PET measurement.\n",
    "Requirement: We want to pick the most recent CFR measurments for each echo that is not older than 365 days."
   ]
  },
  {
   "cell_type": "code",
   "execution_count": 129,
   "metadata": {},
   "outputs": [
    {
     "name": "stdout",
     "output_type": "stream",
     "text": [
      "MRN 15467822\n",
      "             mrn  reportID study_date echo_study_date                                           filename       cfr\n",
      "129018  15467822    119959 2012-10-11      2014-05-01  4a1347300a20f7e7_4903a581a72e1c3a0014f8f71932_...  0.875204\n",
      "129019  15467822    119959 2012-10-11      2014-05-01  4a1347300a20f7e7_4903a581a72e1c3a0014f8f71932_...  0.875204\n",
      "129020  15467822    119959 2012-10-11      2014-05-01  4a1347300a20f7e7_4903a581a72e1c3a0014f8f71932_...  0.875204\n",
      "129021  15467822    119959 2012-10-11      2014-05-01  4a1347300a20f7e7_4903a581a72e1c3a0014f8f71932_...  0.875204\n",
      "129022  15467822    119959 2012-10-11      2014-05-01  4a1347300a20f7e7_4903a581a72e1c3a0014f8f71932_...  0.875204\n",
      "129023  15467822    119959 2012-10-11      2014-05-01  4a1347300a20f7e7_4903a581a72e1c3a0014f8f71932_...  0.875204\n",
      "129024  15467822    126435 2013-09-05      2014-04-24  4a1347300a20f7e7_4903a581a72ff2f12e988b7e2f8d_...  1.182464\n",
      "129025  15467822    126435 2013-09-05      2014-04-24  4a1347300a20f7e7_4903a581a72ff2f12e988b7e2f8d_...  1.182464\n",
      "129026  15467822    126435 2013-09-05      2014-04-24  4a1347300a20f7e7_4903a581a72ff2f12e988b7e2f8d_...  1.182464\n",
      "129027  15467822    126435 2013-09-05      2014-04-24  4a1347300a20f7e7_4903a581a72ff2f12e988b7e2f8d_...  1.182464\n"
     ]
    }
   ],
   "source": [
    "# Pick a patient\n",
    "#np.random.seed(112)\n",
    "#mrn = np.random.choice(petecho.mrn.unique(), size = 1,)[0]\n",
    "mrn = 15467822\n",
    "print('MRN {}'.format(mrn))\n",
    "petecho_mrn = petecho[petecho.mrn == mrn]\n",
    "print(petecho_mrn[['mrn', 'reportID', 'study_date', 'echo_study_date', 'filename', 'cfr']].iloc[150:160])"
   ]
  },
  {
   "cell_type": "code",
   "execution_count": 130,
   "metadata": {},
   "outputs": [
    {
     "name": "stdout",
     "output_type": "stream",
     "text": [
      "PET studies for this mrn [119959 126435 131307 133986]\n",
      "Videos for this patient 156\n",
      "Number of PET studies x number of echos = 624\n",
      "Total number of rows for this patient: 624\n",
      "\n",
      "There is exactly one combination of reportID and filename for this patient.\n"
     ]
    }
   ],
   "source": [
    "# There are multiple PET studies\n",
    "print('PET studies for this mrn {}'.format(petecho_mrn.reportID.unique()))\n",
    "# And we have many echos for this patient\n",
    "print('Videos for this patient {}'.format(len(petecho_mrn.filename.unique())))\n",
    "print('Number of PET studies x number of echos = {}'.format(len(petecho_mrn.reportID.unique()) *\\\n",
    "                                                            len(petecho_mrn.filename.unique())))\n",
    "print('Total number of rows for this patient: {}'.format(petecho_mrn.shape[0]))\n",
    "\n",
    "print()\n",
    "print('There is exactly one combination of reportID and filename for this patient.')"
   ]
  },
  {
   "cell_type": "code",
   "execution_count": 139,
   "metadata": {},
   "outputs": [
    {
     "name": "stdout",
     "output_type": "stream",
     "text": [
      "PET dates:\n",
      "2012-10-11\n",
      "2013-09-05\n",
      "2014-04-29\n",
      "2014-09-02\n",
      "\n",
      "ECHO dates:\n",
      "2014-04-24\n",
      "2014-08-29\n",
      "2014-10-28\n",
      "2012-09-06\n",
      "2014-05-01\n"
     ]
    }
   ],
   "source": [
    "# Collect the dates for this patient\n",
    "pet_dates = list(petecho_mrn.study_date.dt.date.unique())\n",
    "echo_dates = list(petecho_mrn.echo_study_date.dt.date.unique())\n",
    "print('PET dates:')\n",
    "print(*pet_dates, sep = '\\n')\n",
    "print()\n",
    "print('ECHO dates:')\n",
    "print(*echo_dates, sep = '\\n')"
   ]
  },
  {
   "cell_type": "code",
   "execution_count": 143,
   "metadata": {},
   "outputs": [
    {
     "name": "stdout",
     "output_type": "stream",
     "text": [
      "5\n",
      "5\n"
     ]
    }
   ],
   "source": []
  }
 ],
 "metadata": {
  "kernelspec": {
   "display_name": "Python 3",
   "language": "python",
   "name": "python3"
  },
  "language_info": {
   "codemirror_mode": {
    "name": "ipython",
    "version": 3
   },
   "file_extension": ".py",
   "mimetype": "text/x-python",
   "name": "python",
   "nbconvert_exporter": "python",
   "pygments_lexer": "ipython3",
   "version": "3.6.9"
  }
 },
 "nbformat": 4,
 "nbformat_minor": 4
}
