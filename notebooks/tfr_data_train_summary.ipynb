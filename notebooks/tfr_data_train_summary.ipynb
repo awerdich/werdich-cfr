{
 "cells": [
  {
   "cell_type": "markdown",
   "metadata": {},
   "source": [
    "### Summary statistics for the training, evaluation and testing data sets ###"
   ]
  },
  {
   "cell_type": "code",
   "execution_count": 1,
   "metadata": {},
   "outputs": [],
   "source": [
    "import os\n",
    "import numpy as np\n",
    "import pandas as pd\n",
    "\n",
    "pd.set_option('display.max_rows', 500)\n",
    "pd.set_option('display.max_columns', 50)\n",
    "pd.set_option('display.width', 1000)"
   ]
  },
  {
   "cell_type": "code",
   "execution_count": 4,
   "metadata": {},
   "outputs": [
    {
     "name": "stdout",
     "output_type": "stream",
     "text": [
      "/mnt/obi0/andreas/data/cfr/tfr_200208/resized\n"
     ]
    }
   ],
   "source": [
    "cfr_data_root = os.path.normpath('/mnt/obi0/andreas/data/cfr')\n",
    "tfr_dir = os.path.join(cfr_data_root, 'tfr_200208', 'resized')\n",
    "cfr_meta_date = '200208'\n",
    "meta_dir = os.path.join(cfr_data_root, 'metadata_'+cfr_meta_date)\n",
    "print(tfr_dir)"
   ]
  },
  {
   "cell_type": "code",
   "execution_count": 11,
   "metadata": {},
   "outputs": [],
   "source": [
    "# TFR .parquet data files\n",
    "train_files = glob.glob(os.path.join(tfr_dir, 'cfr_resized_a4c_train_200208_*.parquet'))\n",
    "eval_files = glob.glob(os.path.join(tfr_dir, 'cfr_resized_a4c_eval_200208_*.parquet'))\n",
    "test_files = glob.glob(os.path.join(tfr_dir, 'cfr_resized_a4c_test_200208_*.parquet'))"
   ]
  },
  {
   "cell_type": "code",
   "execution_count": 20,
   "metadata": {},
   "outputs": [],
   "source": [
    "train_df = pd.concat([pd.read_parquet(file) for file in train_files])\n",
    "eval_df = pd.concat([pd.read_parquet(file) for file in eval_files])\n",
    "test_df = pd.concat([pd.read_parquet(file) for file in test_files])\n",
    "dset = pd.concat([train_df, eval_df, test_df], axis = 0, ignore_index=True).reset_index(drop=True)"
   ]
  },
  {
   "cell_type": "code",
   "execution_count": 18,
   "metadata": {},
   "outputs": [],
   "source": [
    "dset_stat = pd.DataFrame()\n",
    "\n",
    "for m in dset['mode'].unique():\n",
    "\n",
    "s = {'mrns': [len(dset[dset['mode']==m].mrn.unique())],\n",
    "     'studies': [len(dset[dset['mode']==m].study.unique())],\n",
    "     'unique CFR': [len(dset[dset['mode']==m].cfr.unique())],\n",
    "     "
   ]
  },
  {
   "cell_type": "code",
   "execution_count": 19,
   "metadata": {},
   "outputs": [
    {
     "data": {
      "text/plain": [
       "'train'"
      ]
     },
     "execution_count": 19,
     "metadata": {},
     "output_type": "execute_result"
    }
   ],
   "source": [
    "dset"
   ]
  },
  {
   "cell_type": "code",
   "execution_count": 15,
   "metadata": {},
   "outputs": [
    {
     "data": {
      "text/html": [
       "<div>\n",
       "<style scoped>\n",
       "    .dataframe tbody tr th:only-of-type {\n",
       "        vertical-align: middle;\n",
       "    }\n",
       "\n",
       "    .dataframe tbody tr th {\n",
       "        vertical-align: top;\n",
       "    }\n",
       "\n",
       "    .dataframe thead th {\n",
       "        text-align: right;\n",
       "    }\n",
       "</style>\n",
       "<table border=\"1\" class=\"dataframe\">\n",
       "  <thead>\n",
       "    <tr style=\"text-align: right;\">\n",
       "      <th></th>\n",
       "      <th>mrn</th>\n",
       "      <th>study</th>\n",
       "      <th>echo_study_date</th>\n",
       "      <th>reportID</th>\n",
       "      <th>days_post_cfr</th>\n",
       "      <th>subjectid</th>\n",
       "      <th>report_number</th>\n",
       "      <th>cfr_study_date</th>\n",
       "      <th>cfr_report_date</th>\n",
       "      <th>cfr</th>\n",
       "      <th>...</th>\n",
       "      <th>psax_avz</th>\n",
       "      <th>psax_az</th>\n",
       "      <th>psax_mv</th>\n",
       "      <th>psax_pap</th>\n",
       "      <th>rvinf</th>\n",
       "      <th>subcostal</th>\n",
       "      <th>suprasternal</th>\n",
       "      <th>max_view</th>\n",
       "      <th>mode</th>\n",
       "      <th>rate</th>\n",
       "    </tr>\n",
       "  </thead>\n",
       "  <tbody>\n",
       "    <tr>\n",
       "      <th>89272</th>\n",
       "      <td>9902073</td>\n",
       "      <td>4b729abf7a142d5b_4903a5864e617a2ada4dfb7d6b3c</td>\n",
       "      <td>2013-07-08</td>\n",
       "      <td>129253</td>\n",
       "      <td>-204</td>\n",
       "      <td>5613</td>\n",
       "      <td>EVS0493893</td>\n",
       "      <td>2014-01-28</td>\n",
       "      <td>2014-06-17</td>\n",
       "      <td>3.169231</td>\n",
       "      <td>...</td>\n",
       "      <td>6.204084e-13</td>\n",
       "      <td>1.763602e-10</td>\n",
       "      <td>9.723029e-13</td>\n",
       "      <td>1.396692e-11</td>\n",
       "      <td>8.259640e-16</td>\n",
       "      <td>9.672556e-19</td>\n",
       "      <td>1.022279e-14</td>\n",
       "      <td>a4c</td>\n",
       "      <td>train</td>\n",
       "      <td>30.0</td>\n",
       "    </tr>\n",
       "    <tr>\n",
       "      <th>109109</th>\n",
       "      <td>12853099</td>\n",
       "      <td>4a14f25359c230bf_4903a44516dacae1fafd6299fae6</td>\n",
       "      <td>2006-01-24</td>\n",
       "      <td>69969</td>\n",
       "      <td>-1</td>\n",
       "      <td>3379</td>\n",
       "      <td>0601535T</td>\n",
       "      <td>2006-01-25</td>\n",
       "      <td>2006-01-24</td>\n",
       "      <td>2.109661</td>\n",
       "      <td>...</td>\n",
       "      <td>3.409389e-08</td>\n",
       "      <td>6.743027e-09</td>\n",
       "      <td>3.895617e-10</td>\n",
       "      <td>8.601444e-06</td>\n",
       "      <td>5.665071e-11</td>\n",
       "      <td>3.025620e-12</td>\n",
       "      <td>1.234058e-11</td>\n",
       "      <td>a4c</td>\n",
       "      <td>train</td>\n",
       "      <td>50.0</td>\n",
       "    </tr>\n",
       "    <tr>\n",
       "      <th>107364</th>\n",
       "      <td>15766728</td>\n",
       "      <td>4a13446bd2dd96ca_4903a58051d4fba07d89dd2082db</td>\n",
       "      <td>2015-10-26</td>\n",
       "      <td>148547</td>\n",
       "      <td>-302</td>\n",
       "      <td>6502</td>\n",
       "      <td>E3197524</td>\n",
       "      <td>2016-08-23</td>\n",
       "      <td>2016-09-26</td>\n",
       "      <td>1.194884</td>\n",
       "      <td>...</td>\n",
       "      <td>1.566316e-16</td>\n",
       "      <td>5.337956e-15</td>\n",
       "      <td>3.279462e-15</td>\n",
       "      <td>1.635474e-14</td>\n",
       "      <td>2.146381e-21</td>\n",
       "      <td>8.683419e-22</td>\n",
       "      <td>1.159556e-15</td>\n",
       "      <td>a4c</td>\n",
       "      <td>train</td>\n",
       "      <td>30.0</td>\n",
       "    </tr>\n",
       "    <tr>\n",
       "      <th>118307</th>\n",
       "      <td>18348524</td>\n",
       "      <td>4a1ed1ccf626e98a_4903a585855f563fb7d57d7fa263</td>\n",
       "      <td>2010-11-08</td>\n",
       "      <td>111239</td>\n",
       "      <td>-240</td>\n",
       "      <td>1390</td>\n",
       "      <td>EVS0246319</td>\n",
       "      <td>2011-07-06</td>\n",
       "      <td>2010-11-08</td>\n",
       "      <td>1.670886</td>\n",
       "      <td>...</td>\n",
       "      <td>3.112084e-13</td>\n",
       "      <td>3.846236e-08</td>\n",
       "      <td>1.610078e-10</td>\n",
       "      <td>3.363920e-09</td>\n",
       "      <td>1.077212e-13</td>\n",
       "      <td>1.539600e-14</td>\n",
       "      <td>2.278455e-11</td>\n",
       "      <td>a4c</td>\n",
       "      <td>train</td>\n",
       "      <td>29.9</td>\n",
       "    </tr>\n",
       "    <tr>\n",
       "      <th>67863</th>\n",
       "      <td>1681949</td>\n",
       "      <td>4b7a81998444ee39_4903a44ab12a96415cd891450355</td>\n",
       "      <td>2009-01-05</td>\n",
       "      <td>92193</td>\n",
       "      <td>0</td>\n",
       "      <td>1668</td>\n",
       "      <td>0710-0004</td>\n",
       "      <td>2009-01-05</td>\n",
       "      <td>2009-07-10</td>\n",
       "      <td>1.550871</td>\n",
       "      <td>...</td>\n",
       "      <td>3.837135e-16</td>\n",
       "      <td>1.013378e-17</td>\n",
       "      <td>1.578462e-16</td>\n",
       "      <td>6.061946e-18</td>\n",
       "      <td>2.134383e-17</td>\n",
       "      <td>3.968852e-19</td>\n",
       "      <td>5.560893e-16</td>\n",
       "      <td>a4c</td>\n",
       "      <td>train</td>\n",
       "      <td>24.8</td>\n",
       "    </tr>\n",
       "  </tbody>\n",
       "</table>\n",
       "<p>5 rows × 52 columns</p>\n",
       "</div>"
      ],
      "text/plain": [
       "             mrn                                          study  \\\n",
       "89272    9902073  4b729abf7a142d5b_4903a5864e617a2ada4dfb7d6b3c   \n",
       "109109  12853099  4a14f25359c230bf_4903a44516dacae1fafd6299fae6   \n",
       "107364  15766728  4a13446bd2dd96ca_4903a58051d4fba07d89dd2082db   \n",
       "118307  18348524  4a1ed1ccf626e98a_4903a585855f563fb7d57d7fa263   \n",
       "67863    1681949  4b7a81998444ee39_4903a44ab12a96415cd891450355   \n",
       "\n",
       "       echo_study_date  reportID  days_post_cfr  subjectid report_number  \\\n",
       "89272       2013-07-08    129253           -204       5613    EVS0493893   \n",
       "109109      2006-01-24     69969             -1       3379      0601535T   \n",
       "107364      2015-10-26    148547           -302       6502      E3197524   \n",
       "118307      2010-11-08    111239           -240       1390    EVS0246319   \n",
       "67863       2009-01-05     92193              0       1668     0710-0004   \n",
       "\n",
       "       cfr_study_date cfr_report_date       cfr  ...      psax_avz  \\\n",
       "89272      2014-01-28      2014-06-17  3.169231  ...  6.204084e-13   \n",
       "109109     2006-01-25      2006-01-24  2.109661  ...  3.409389e-08   \n",
       "107364     2016-08-23      2016-09-26  1.194884  ...  1.566316e-16   \n",
       "118307     2011-07-06      2010-11-08  1.670886  ...  3.112084e-13   \n",
       "67863      2009-01-05      2009-07-10  1.550871  ...  3.837135e-16   \n",
       "\n",
       "             psax_az       psax_mv      psax_pap         rvinf     subcostal  \\\n",
       "89272   1.763602e-10  9.723029e-13  1.396692e-11  8.259640e-16  9.672556e-19   \n",
       "109109  6.743027e-09  3.895617e-10  8.601444e-06  5.665071e-11  3.025620e-12   \n",
       "107364  5.337956e-15  3.279462e-15  1.635474e-14  2.146381e-21  8.683419e-22   \n",
       "118307  3.846236e-08  1.610078e-10  3.363920e-09  1.077212e-13  1.539600e-14   \n",
       "67863   1.013378e-17  1.578462e-16  6.061946e-18  2.134383e-17  3.968852e-19   \n",
       "\n",
       "        suprasternal  max_view   mode  rate  \n",
       "89272   1.022279e-14       a4c  train  30.0  \n",
       "109109  1.234058e-11       a4c  train  50.0  \n",
       "107364  1.159556e-15       a4c  train  30.0  \n",
       "118307  2.278455e-11       a4c  train  29.9  \n",
       "67863   5.560893e-16       a4c  train  24.8  \n",
       "\n",
       "[5 rows x 52 columns]"
      ]
     },
     "execution_count": 15,
     "metadata": {},
     "output_type": "execute_result"
    }
   ],
   "source": [
    "train_df.head()"
   ]
  },
  {
   "cell_type": "raw",
   "metadata": {},
   "source": []
  }
 ],
 "metadata": {
  "kernelspec": {
   "display_name": "Python 3",
   "language": "python",
   "name": "python3"
  },
  "language_info": {
   "codemirror_mode": {
    "name": "ipython",
    "version": 3
   },
   "file_extension": ".py",
   "mimetype": "text/x-python",
   "name": "python",
   "nbconvert_exporter": "python",
   "pygments_lexer": "ipython3",
   "version": "3.6.9"
  }
 },
 "nbformat": 4,
 "nbformat_minor": 4
}
