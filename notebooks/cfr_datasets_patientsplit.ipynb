{
 "cells": [
  {
   "cell_type": "markdown",
   "metadata": {},
   "source": [
    "### Select patients for CFR model: Split patients in train, val and test sets ###"
   ]
  },
  {
   "cell_type": "code",
   "execution_count": null,
   "metadata": {},
   "outputs": [],
   "source": [
    "import os\n",
    "import numpy as np\n",
    "import pandas as pd\n",
    "\n",
    "pd.set_option('display.max_rows', 500)\n",
    "pd.set_option('display.max_columns', 50)\n",
    "pd.set_option('display.width', 1000)"
   ]
  },
  {
   "cell_type": "code",
   "execution_count": null,
   "metadata": {},
   "outputs": [],
   "source": [
    "cfr_data_root = os.path.normpath('/mnt/obi0/andreas/data/cfr')\n",
    "match_view_filename = '210_getStressTest_match365_files_BWH_200131.parquet'\n",
    "files_cfr = pd.read_parquet(os.path.join(cfr_data_root, 'metadata_200131', match_view_filename))\n",
    "\n",
    "print('Total number of patients {}'.format(len(files_cfr.mrn.unique())))\n",
    "print('Total number of studies  {}'.format(len(files_cfr.study.unique())))\n",
    "print('Total number of files    {}'.format(len(files_cfr.filename.unique())))\n",
    "\n",
    "files_cfr.head()"
   ]
  },
  {
   "cell_type": "markdown",
   "metadata": {},
   "source": [
    "### Split the patients in train, validate and test sets ###\n",
    "Although each view might have a little different patient pupulation distribution, because not all views are in each study. However, we want the same MRNS in each data set and for all views so that we can directly compare the performance of the algorithm for the same patients. We can expand the data frame above to add the splits."
   ]
  },
  {
   "cell_type": "code",
   "execution_count": null,
   "metadata": {},
   "outputs": [],
   "source": [
    "def patientsplit(patient_list):\n",
    "\n",
    "    train_test_split = 0.86\n",
    "    train_eval_split = 0.90\n",
    "\n",
    "    # Split train/test sets\n",
    "    patient_list_train = np.random.choice(patient_list,\n",
    "                                          size = int(np.floor(train_test_split*len(patient_list))),\n",
    "                                          replace = False)\n",
    "    patient_list_test = list(set(patient_list).difference(patient_list_train))\n",
    "    train_test_intersection = set(patient_list_train).intersection(set(patient_list_test)) # This should be empty\n",
    "    print('Intersection of patient_list_train and patient_list_test:', train_test_intersection)\n",
    "\n",
    "    # Further separate some patients for evaluation\n",
    "    patient_list_eval = np.random.choice(patient_list_train,\n",
    "                                         size = int(np.ceil((1-train_eval_split)*len(patient_list_train))),\n",
    "                                         replace = False)\n",
    "\n",
    "    patient_list_train = set(patient_list_train).difference(patient_list_eval)\n",
    "    train_eval_intersection = set(patient_list_train).intersection(set(patient_list_eval))\n",
    "    print('Intersection of patient_list_train and patient_list_eval:', train_eval_intersection)\n",
    "\n",
    "    # Show the numbers\n",
    "    print('total patients:', len(patient_list))\n",
    "    print('patients in set:', np.sum([len(patient_list_train),\n",
    "                                     len(patient_list_eval),\n",
    "                                     len(patient_list_test)]))\n",
    "    print('patients in train:', len(patient_list_train))\n",
    "    print('patients in eval:', len(patient_list_eval))\n",
    "    print('patients in test:', len(patient_list_test))\n",
    "\n",
    "    return patient_list_train, patient_list_eval, patient_list_test"
   ]
  },
  {
   "cell_type": "code",
   "execution_count": null,
   "metadata": {},
   "outputs": [],
   "source": [
    "# Get a patient list\n",
    "patient_list = list(files_cfr.sample(frac=1).mrn.unique())\n",
    "patient_list_train, patient_list_eval, patient_list_test = patientsplit(patient_list)\n",
    "\n",
    "patient_split = {'train': patient_list_train,\n",
    "                 'eval': patient_list_eval,\n",
    "                 'test': patient_list_test}\n",
    "\n",
    "print('Patient IDs in train:', len(patient_split['train']))\n",
    "print('Patient IDs in eval:', len(patient_split['eval']))\n",
    "print('Patient IDs in test:', len(patient_split['test']))\n",
    "\n",
    "print()\n",
    "\n",
    "print('contamination train-test:', set(patient_split['train']).intersection(set(patient_split['test'])))\n",
    "print('contamination train-eval:', set(patient_split['train']).intersection(set(patient_split['eval'])))\n",
    "print('contamination eval-test:', set(patient_split['eval']).intersection(set(patient_split['test'])))"
   ]
  },
  {
   "cell_type": "code",
   "execution_count": null,
   "metadata": {},
   "outputs": [],
   "source": [
    "# Add dset column to files_cfr\n",
    "split_list = []\n",
    "for dset in patient_split.keys():\n",
    "    dset_mrn_list = list(patient_split[dset])\n",
    "    split_list.append(pd.DataFrame({'mrn': dset_mrn_list,\n",
    "                                    'dset': [dset]*len(dset_mrn_list)}))\n",
    "split_df = pd.concat(split_list, ignore_index = True)\n",
    "\n",
    "files_cfr_dset = files_cfr.merge(right = split_df, on = 'mrn', how = 'left').\\\n",
    "                    sample(frac = 1).\\\n",
    "                    reset_index(drop = True)"
   ]
  },
  {
   "cell_type": "code",
   "execution_count": null,
   "metadata": {},
   "outputs": [],
   "source": [
    "files_cfr_dset.head(50)"
   ]
  },
  {
   "cell_type": "code",
   "execution_count": null,
   "metadata": {},
   "outputs": [],
   "source": [
    "dset_filename = '210_getStressTest_files_dset_BWH_200131.parquet'\n",
    "files_cfr_dset.to_parquet(os.path.join(cfr_data_root, 'metadata_200131', dset_filename))"
   ]
  }
 ],
 "metadata": {
  "kernelspec": {
   "display_name": "Python 3",
   "language": "python",
   "name": "python3"
  },
  "language_info": {
   "codemirror_mode": {
    "name": "ipython",
    "version": 3
   },
   "file_extension": ".py",
   "mimetype": "text/x-python",
   "name": "python",
   "nbconvert_exporter": "python",
   "pygments_lexer": "ipython3",
   "version": "3.6.9"
  }
 },
 "nbformat": 4,
 "nbformat_minor": 4
}
